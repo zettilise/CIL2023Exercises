{
  "nbformat": 4,
  "nbformat_minor": 0,
  "metadata": {
    "accelerator": "GPU",
    "colab": {
      "provenance": [],
      "collapsed_sections": [
        "uq-Yp6WmrPn8"
      ],
      "toc_visible": true
    },
    "kernelspec": {
      "display_name": "Python 3",
      "name": "python3"
    },
    "widgets": {
      "application/vnd.jupyter.widget-state+json": {
        "9432ef19c7794ffcbbd4b8f4fd63bcc2": {
          "model_module": "@jupyter-widgets/controls",
          "model_name": "HBoxModel",
          "model_module_version": "1.5.0",
          "state": {
            "_dom_classes": [],
            "_model_module": "@jupyter-widgets/controls",
            "_model_module_version": "1.5.0",
            "_model_name": "HBoxModel",
            "_view_count": null,
            "_view_module": "@jupyter-widgets/controls",
            "_view_module_version": "1.5.0",
            "_view_name": "HBoxView",
            "box_style": "",
            "children": [
              "IPY_MODEL_e63e77c9613b4c76b35794d0be129fd5",
              "IPY_MODEL_714345e5026749018e9b6dda4103940b",
              "IPY_MODEL_1f32bdb29074428dba99e27abb4f0c96"
            ],
            "layout": "IPY_MODEL_dd77bb4ea6bb4ab28ce4229b247324ed"
          }
        },
        "e63e77c9613b4c76b35794d0be129fd5": {
          "model_module": "@jupyter-widgets/controls",
          "model_name": "HTMLModel",
          "model_module_version": "1.5.0",
          "state": {
            "_dom_classes": [],
            "_model_module": "@jupyter-widgets/controls",
            "_model_module_version": "1.5.0",
            "_model_name": "HTMLModel",
            "_view_count": null,
            "_view_module": "@jupyter-widgets/controls",
            "_view_module_version": "1.5.0",
            "_view_name": "HTMLView",
            "description": "",
            "description_tooltip": null,
            "layout": "IPY_MODEL_e179e8b1ecb64be997e58e71fd9a3ca0",
            "placeholder": "​",
            "style": "IPY_MODEL_27f41985ea6947888f7fba1517fabf8b",
            "value": "100%"
          }
        },
        "714345e5026749018e9b6dda4103940b": {
          "model_module": "@jupyter-widgets/controls",
          "model_name": "FloatProgressModel",
          "model_module_version": "1.5.0",
          "state": {
            "_dom_classes": [],
            "_model_module": "@jupyter-widgets/controls",
            "_model_module_version": "1.5.0",
            "_model_name": "FloatProgressModel",
            "_view_count": null,
            "_view_module": "@jupyter-widgets/controls",
            "_view_module_version": "1.5.0",
            "_view_name": "ProgressView",
            "bar_style": "success",
            "description": "",
            "description_tooltip": null,
            "layout": "IPY_MODEL_ba015a80564440468331816f25da887b",
            "max": 40,
            "min": 0,
            "orientation": "horizontal",
            "style": "IPY_MODEL_de3e61c2414846c68b20314c7fb706f6",
            "value": 40
          }
        },
        "1f32bdb29074428dba99e27abb4f0c96": {
          "model_module": "@jupyter-widgets/controls",
          "model_name": "HTMLModel",
          "model_module_version": "1.5.0",
          "state": {
            "_dom_classes": [],
            "_model_module": "@jupyter-widgets/controls",
            "_model_module_version": "1.5.0",
            "_model_name": "HTMLModel",
            "_view_count": null,
            "_view_module": "@jupyter-widgets/controls",
            "_view_module_version": "1.5.0",
            "_view_name": "HTMLView",
            "description": "",
            "description_tooltip": null,
            "layout": "IPY_MODEL_967e3f4de2d44c8ea0132be3d702cf11",
            "placeholder": "​",
            "style": "IPY_MODEL_60ff71dc4b8649e5a7395bbddd9d6ab9",
            "value": " 40/40 [00:01&lt;00:00, 33.78it/s]"
          }
        },
        "dd77bb4ea6bb4ab28ce4229b247324ed": {
          "model_module": "@jupyter-widgets/base",
          "model_name": "LayoutModel",
          "model_module_version": "1.2.0",
          "state": {
            "_model_module": "@jupyter-widgets/base",
            "_model_module_version": "1.2.0",
            "_model_name": "LayoutModel",
            "_view_count": null,
            "_view_module": "@jupyter-widgets/base",
            "_view_module_version": "1.2.0",
            "_view_name": "LayoutView",
            "align_content": null,
            "align_items": null,
            "align_self": null,
            "border": null,
            "bottom": null,
            "display": null,
            "flex": null,
            "flex_flow": null,
            "grid_area": null,
            "grid_auto_columns": null,
            "grid_auto_flow": null,
            "grid_auto_rows": null,
            "grid_column": null,
            "grid_gap": null,
            "grid_row": null,
            "grid_template_areas": null,
            "grid_template_columns": null,
            "grid_template_rows": null,
            "height": null,
            "justify_content": null,
            "justify_items": null,
            "left": null,
            "margin": null,
            "max_height": null,
            "max_width": null,
            "min_height": null,
            "min_width": null,
            "object_fit": null,
            "object_position": null,
            "order": null,
            "overflow": null,
            "overflow_x": null,
            "overflow_y": null,
            "padding": null,
            "right": null,
            "top": null,
            "visibility": null,
            "width": null
          }
        },
        "e179e8b1ecb64be997e58e71fd9a3ca0": {
          "model_module": "@jupyter-widgets/base",
          "model_name": "LayoutModel",
          "model_module_version": "1.2.0",
          "state": {
            "_model_module": "@jupyter-widgets/base",
            "_model_module_version": "1.2.0",
            "_model_name": "LayoutModel",
            "_view_count": null,
            "_view_module": "@jupyter-widgets/base",
            "_view_module_version": "1.2.0",
            "_view_name": "LayoutView",
            "align_content": null,
            "align_items": null,
            "align_self": null,
            "border": null,
            "bottom": null,
            "display": null,
            "flex": null,
            "flex_flow": null,
            "grid_area": null,
            "grid_auto_columns": null,
            "grid_auto_flow": null,
            "grid_auto_rows": null,
            "grid_column": null,
            "grid_gap": null,
            "grid_row": null,
            "grid_template_areas": null,
            "grid_template_columns": null,
            "grid_template_rows": null,
            "height": null,
            "justify_content": null,
            "justify_items": null,
            "left": null,
            "margin": null,
            "max_height": null,
            "max_width": null,
            "min_height": null,
            "min_width": null,
            "object_fit": null,
            "object_position": null,
            "order": null,
            "overflow": null,
            "overflow_x": null,
            "overflow_y": null,
            "padding": null,
            "right": null,
            "top": null,
            "visibility": null,
            "width": null
          }
        },
        "27f41985ea6947888f7fba1517fabf8b": {
          "model_module": "@jupyter-widgets/controls",
          "model_name": "DescriptionStyleModel",
          "model_module_version": "1.5.0",
          "state": {
            "_model_module": "@jupyter-widgets/controls",
            "_model_module_version": "1.5.0",
            "_model_name": "DescriptionStyleModel",
            "_view_count": null,
            "_view_module": "@jupyter-widgets/base",
            "_view_module_version": "1.2.0",
            "_view_name": "StyleView",
            "description_width": ""
          }
        },
        "ba015a80564440468331816f25da887b": {
          "model_module": "@jupyter-widgets/base",
          "model_name": "LayoutModel",
          "model_module_version": "1.2.0",
          "state": {
            "_model_module": "@jupyter-widgets/base",
            "_model_module_version": "1.2.0",
            "_model_name": "LayoutModel",
            "_view_count": null,
            "_view_module": "@jupyter-widgets/base",
            "_view_module_version": "1.2.0",
            "_view_name": "LayoutView",
            "align_content": null,
            "align_items": null,
            "align_self": null,
            "border": null,
            "bottom": null,
            "display": null,
            "flex": null,
            "flex_flow": null,
            "grid_area": null,
            "grid_auto_columns": null,
            "grid_auto_flow": null,
            "grid_auto_rows": null,
            "grid_column": null,
            "grid_gap": null,
            "grid_row": null,
            "grid_template_areas": null,
            "grid_template_columns": null,
            "grid_template_rows": null,
            "height": null,
            "justify_content": null,
            "justify_items": null,
            "left": null,
            "margin": null,
            "max_height": null,
            "max_width": null,
            "min_height": null,
            "min_width": null,
            "object_fit": null,
            "object_position": null,
            "order": null,
            "overflow": null,
            "overflow_x": null,
            "overflow_y": null,
            "padding": null,
            "right": null,
            "top": null,
            "visibility": null,
            "width": null
          }
        },
        "de3e61c2414846c68b20314c7fb706f6": {
          "model_module": "@jupyter-widgets/controls",
          "model_name": "ProgressStyleModel",
          "model_module_version": "1.5.0",
          "state": {
            "_model_module": "@jupyter-widgets/controls",
            "_model_module_version": "1.5.0",
            "_model_name": "ProgressStyleModel",
            "_view_count": null,
            "_view_module": "@jupyter-widgets/base",
            "_view_module_version": "1.2.0",
            "_view_name": "StyleView",
            "bar_color": null,
            "description_width": ""
          }
        },
        "967e3f4de2d44c8ea0132be3d702cf11": {
          "model_module": "@jupyter-widgets/base",
          "model_name": "LayoutModel",
          "model_module_version": "1.2.0",
          "state": {
            "_model_module": "@jupyter-widgets/base",
            "_model_module_version": "1.2.0",
            "_model_name": "LayoutModel",
            "_view_count": null,
            "_view_module": "@jupyter-widgets/base",
            "_view_module_version": "1.2.0",
            "_view_name": "LayoutView",
            "align_content": null,
            "align_items": null,
            "align_self": null,
            "border": null,
            "bottom": null,
            "display": null,
            "flex": null,
            "flex_flow": null,
            "grid_area": null,
            "grid_auto_columns": null,
            "grid_auto_flow": null,
            "grid_auto_rows": null,
            "grid_column": null,
            "grid_gap": null,
            "grid_row": null,
            "grid_template_areas": null,
            "grid_template_columns": null,
            "grid_template_rows": null,
            "height": null,
            "justify_content": null,
            "justify_items": null,
            "left": null,
            "margin": null,
            "max_height": null,
            "max_width": null,
            "min_height": null,
            "min_width": null,
            "object_fit": null,
            "object_position": null,
            "order": null,
            "overflow": null,
            "overflow_x": null,
            "overflow_y": null,
            "padding": null,
            "right": null,
            "top": null,
            "visibility": null,
            "width": null
          }
        },
        "60ff71dc4b8649e5a7395bbddd9d6ab9": {
          "model_module": "@jupyter-widgets/controls",
          "model_name": "DescriptionStyleModel",
          "model_module_version": "1.5.0",
          "state": {
            "_model_module": "@jupyter-widgets/controls",
            "_model_module_version": "1.5.0",
            "_model_name": "DescriptionStyleModel",
            "_view_count": null,
            "_view_module": "@jupyter-widgets/base",
            "_view_module_version": "1.2.0",
            "_view_name": "StyleView",
            "description_width": ""
          }
        },
        "884eb0e02d4249ffa2a550a6c26d8dd2": {
          "model_module": "@jupyter-widgets/controls",
          "model_name": "HBoxModel",
          "model_module_version": "1.5.0",
          "state": {
            "_dom_classes": [],
            "_model_module": "@jupyter-widgets/controls",
            "_model_module_version": "1.5.0",
            "_model_name": "HBoxModel",
            "_view_count": null,
            "_view_module": "@jupyter-widgets/controls",
            "_view_module_version": "1.5.0",
            "_view_name": "HBoxView",
            "box_style": "",
            "children": [
              "IPY_MODEL_62c0182861e343378d6c7c6062597212",
              "IPY_MODEL_7288eaec5ee44020abc47a3daba788a6",
              "IPY_MODEL_12458859967e418a9240f1d8bdf90ef3"
            ],
            "layout": "IPY_MODEL_79777cca2f464d9eb1058ec975ed42e7"
          }
        },
        "62c0182861e343378d6c7c6062597212": {
          "model_module": "@jupyter-widgets/controls",
          "model_name": "HTMLModel",
          "model_module_version": "1.5.0",
          "state": {
            "_dom_classes": [],
            "_model_module": "@jupyter-widgets/controls",
            "_model_module_version": "1.5.0",
            "_model_name": "HTMLModel",
            "_view_count": null,
            "_view_module": "@jupyter-widgets/controls",
            "_view_module_version": "1.5.0",
            "_view_name": "HTMLView",
            "description": "",
            "description_tooltip": null,
            "layout": "IPY_MODEL_12b14de38af74c28ba476b7b8ad6c5b4",
            "placeholder": "​",
            "style": "IPY_MODEL_15ba0137f31942d3add2d8c5e0da34f3",
            "value": "100%"
          }
        },
        "7288eaec5ee44020abc47a3daba788a6": {
          "model_module": "@jupyter-widgets/controls",
          "model_name": "FloatProgressModel",
          "model_module_version": "1.5.0",
          "state": {
            "_dom_classes": [],
            "_model_module": "@jupyter-widgets/controls",
            "_model_module_version": "1.5.0",
            "_model_name": "FloatProgressModel",
            "_view_count": null,
            "_view_module": "@jupyter-widgets/controls",
            "_view_module_version": "1.5.0",
            "_view_name": "ProgressView",
            "bar_style": "success",
            "description": "",
            "description_tooltip": null,
            "layout": "IPY_MODEL_f0ad7ee9a1bd4fa581c50e2a980a4804",
            "max": 235,
            "min": 0,
            "orientation": "horizontal",
            "style": "IPY_MODEL_a477cebeafb246539179d9e425e77121",
            "value": 235
          }
        },
        "12458859967e418a9240f1d8bdf90ef3": {
          "model_module": "@jupyter-widgets/controls",
          "model_name": "HTMLModel",
          "model_module_version": "1.5.0",
          "state": {
            "_dom_classes": [],
            "_model_module": "@jupyter-widgets/controls",
            "_model_module_version": "1.5.0",
            "_model_name": "HTMLModel",
            "_view_count": null,
            "_view_module": "@jupyter-widgets/controls",
            "_view_module_version": "1.5.0",
            "_view_name": "HTMLView",
            "description": "",
            "description_tooltip": null,
            "layout": "IPY_MODEL_90156e4c699343569dc330987fdcf561",
            "placeholder": "​",
            "style": "IPY_MODEL_3980de64d4be47d599aebb2b31b7218a",
            "value": " 235/235 [00:06&lt;00:00, 37.26it/s]"
          }
        },
        "79777cca2f464d9eb1058ec975ed42e7": {
          "model_module": "@jupyter-widgets/base",
          "model_name": "LayoutModel",
          "model_module_version": "1.2.0",
          "state": {
            "_model_module": "@jupyter-widgets/base",
            "_model_module_version": "1.2.0",
            "_model_name": "LayoutModel",
            "_view_count": null,
            "_view_module": "@jupyter-widgets/base",
            "_view_module_version": "1.2.0",
            "_view_name": "LayoutView",
            "align_content": null,
            "align_items": null,
            "align_self": null,
            "border": null,
            "bottom": null,
            "display": null,
            "flex": null,
            "flex_flow": null,
            "grid_area": null,
            "grid_auto_columns": null,
            "grid_auto_flow": null,
            "grid_auto_rows": null,
            "grid_column": null,
            "grid_gap": null,
            "grid_row": null,
            "grid_template_areas": null,
            "grid_template_columns": null,
            "grid_template_rows": null,
            "height": null,
            "justify_content": null,
            "justify_items": null,
            "left": null,
            "margin": null,
            "max_height": null,
            "max_width": null,
            "min_height": null,
            "min_width": null,
            "object_fit": null,
            "object_position": null,
            "order": null,
            "overflow": null,
            "overflow_x": null,
            "overflow_y": null,
            "padding": null,
            "right": null,
            "top": null,
            "visibility": null,
            "width": null
          }
        },
        "12b14de38af74c28ba476b7b8ad6c5b4": {
          "model_module": "@jupyter-widgets/base",
          "model_name": "LayoutModel",
          "model_module_version": "1.2.0",
          "state": {
            "_model_module": "@jupyter-widgets/base",
            "_model_module_version": "1.2.0",
            "_model_name": "LayoutModel",
            "_view_count": null,
            "_view_module": "@jupyter-widgets/base",
            "_view_module_version": "1.2.0",
            "_view_name": "LayoutView",
            "align_content": null,
            "align_items": null,
            "align_self": null,
            "border": null,
            "bottom": null,
            "display": null,
            "flex": null,
            "flex_flow": null,
            "grid_area": null,
            "grid_auto_columns": null,
            "grid_auto_flow": null,
            "grid_auto_rows": null,
            "grid_column": null,
            "grid_gap": null,
            "grid_row": null,
            "grid_template_areas": null,
            "grid_template_columns": null,
            "grid_template_rows": null,
            "height": null,
            "justify_content": null,
            "justify_items": null,
            "left": null,
            "margin": null,
            "max_height": null,
            "max_width": null,
            "min_height": null,
            "min_width": null,
            "object_fit": null,
            "object_position": null,
            "order": null,
            "overflow": null,
            "overflow_x": null,
            "overflow_y": null,
            "padding": null,
            "right": null,
            "top": null,
            "visibility": null,
            "width": null
          }
        },
        "15ba0137f31942d3add2d8c5e0da34f3": {
          "model_module": "@jupyter-widgets/controls",
          "model_name": "DescriptionStyleModel",
          "model_module_version": "1.5.0",
          "state": {
            "_model_module": "@jupyter-widgets/controls",
            "_model_module_version": "1.5.0",
            "_model_name": "DescriptionStyleModel",
            "_view_count": null,
            "_view_module": "@jupyter-widgets/base",
            "_view_module_version": "1.2.0",
            "_view_name": "StyleView",
            "description_width": ""
          }
        },
        "f0ad7ee9a1bd4fa581c50e2a980a4804": {
          "model_module": "@jupyter-widgets/base",
          "model_name": "LayoutModel",
          "model_module_version": "1.2.0",
          "state": {
            "_model_module": "@jupyter-widgets/base",
            "_model_module_version": "1.2.0",
            "_model_name": "LayoutModel",
            "_view_count": null,
            "_view_module": "@jupyter-widgets/base",
            "_view_module_version": "1.2.0",
            "_view_name": "LayoutView",
            "align_content": null,
            "align_items": null,
            "align_self": null,
            "border": null,
            "bottom": null,
            "display": null,
            "flex": null,
            "flex_flow": null,
            "grid_area": null,
            "grid_auto_columns": null,
            "grid_auto_flow": null,
            "grid_auto_rows": null,
            "grid_column": null,
            "grid_gap": null,
            "grid_row": null,
            "grid_template_areas": null,
            "grid_template_columns": null,
            "grid_template_rows": null,
            "height": null,
            "justify_content": null,
            "justify_items": null,
            "left": null,
            "margin": null,
            "max_height": null,
            "max_width": null,
            "min_height": null,
            "min_width": null,
            "object_fit": null,
            "object_position": null,
            "order": null,
            "overflow": null,
            "overflow_x": null,
            "overflow_y": null,
            "padding": null,
            "right": null,
            "top": null,
            "visibility": null,
            "width": null
          }
        },
        "a477cebeafb246539179d9e425e77121": {
          "model_module": "@jupyter-widgets/controls",
          "model_name": "ProgressStyleModel",
          "model_module_version": "1.5.0",
          "state": {
            "_model_module": "@jupyter-widgets/controls",
            "_model_module_version": "1.5.0",
            "_model_name": "ProgressStyleModel",
            "_view_count": null,
            "_view_module": "@jupyter-widgets/base",
            "_view_module_version": "1.2.0",
            "_view_name": "StyleView",
            "bar_color": null,
            "description_width": ""
          }
        },
        "90156e4c699343569dc330987fdcf561": {
          "model_module": "@jupyter-widgets/base",
          "model_name": "LayoutModel",
          "model_module_version": "1.2.0",
          "state": {
            "_model_module": "@jupyter-widgets/base",
            "_model_module_version": "1.2.0",
            "_model_name": "LayoutModel",
            "_view_count": null,
            "_view_module": "@jupyter-widgets/base",
            "_view_module_version": "1.2.0",
            "_view_name": "LayoutView",
            "align_content": null,
            "align_items": null,
            "align_self": null,
            "border": null,
            "bottom": null,
            "display": null,
            "flex": null,
            "flex_flow": null,
            "grid_area": null,
            "grid_auto_columns": null,
            "grid_auto_flow": null,
            "grid_auto_rows": null,
            "grid_column": null,
            "grid_gap": null,
            "grid_row": null,
            "grid_template_areas": null,
            "grid_template_columns": null,
            "grid_template_rows": null,
            "height": null,
            "justify_content": null,
            "justify_items": null,
            "left": null,
            "margin": null,
            "max_height": null,
            "max_width": null,
            "min_height": null,
            "min_width": null,
            "object_fit": null,
            "object_position": null,
            "order": null,
            "overflow": null,
            "overflow_x": null,
            "overflow_y": null,
            "padding": null,
            "right": null,
            "top": null,
            "visibility": null,
            "width": null
          }
        },
        "3980de64d4be47d599aebb2b31b7218a": {
          "model_module": "@jupyter-widgets/controls",
          "model_name": "DescriptionStyleModel",
          "model_module_version": "1.5.0",
          "state": {
            "_model_module": "@jupyter-widgets/controls",
            "_model_module_version": "1.5.0",
            "_model_name": "DescriptionStyleModel",
            "_view_count": null,
            "_view_module": "@jupyter-widgets/base",
            "_view_module_version": "1.2.0",
            "_view_name": "StyleView",
            "description_width": ""
          }
        },
        "11fb2a6caf2c415fb706f082326ce197": {
          "model_module": "@jupyter-widgets/controls",
          "model_name": "HBoxModel",
          "model_module_version": "1.5.0",
          "state": {
            "_dom_classes": [],
            "_model_module": "@jupyter-widgets/controls",
            "_model_module_version": "1.5.0",
            "_model_name": "HBoxModel",
            "_view_count": null,
            "_view_module": "@jupyter-widgets/controls",
            "_view_module_version": "1.5.0",
            "_view_name": "HBoxView",
            "box_style": "",
            "children": [
              "IPY_MODEL_3c4dec56d11242c686b6453686b08410",
              "IPY_MODEL_cbad5bf104d6418eb6d569d1bb516694",
              "IPY_MODEL_996ae2b76db549cfa8ee1521e0d3a3a8"
            ],
            "layout": "IPY_MODEL_51c628bebfe34b34b6bb2013d10591e1"
          }
        },
        "3c4dec56d11242c686b6453686b08410": {
          "model_module": "@jupyter-widgets/controls",
          "model_name": "HTMLModel",
          "model_module_version": "1.5.0",
          "state": {
            "_dom_classes": [],
            "_model_module": "@jupyter-widgets/controls",
            "_model_module_version": "1.5.0",
            "_model_name": "HTMLModel",
            "_view_count": null,
            "_view_module": "@jupyter-widgets/controls",
            "_view_module_version": "1.5.0",
            "_view_name": "HTMLView",
            "description": "",
            "description_tooltip": null,
            "layout": "IPY_MODEL_c629d076d4ba48be902d3659be52bfab",
            "placeholder": "​",
            "style": "IPY_MODEL_123ef4b653ea4e79a63d5b3c6da07f1e",
            "value": "100%"
          }
        },
        "cbad5bf104d6418eb6d569d1bb516694": {
          "model_module": "@jupyter-widgets/controls",
          "model_name": "FloatProgressModel",
          "model_module_version": "1.5.0",
          "state": {
            "_dom_classes": [],
            "_model_module": "@jupyter-widgets/controls",
            "_model_module_version": "1.5.0",
            "_model_name": "FloatProgressModel",
            "_view_count": null,
            "_view_module": "@jupyter-widgets/controls",
            "_view_module_version": "1.5.0",
            "_view_name": "ProgressView",
            "bar_style": "success",
            "description": "",
            "description_tooltip": null,
            "layout": "IPY_MODEL_048e2ef7153b481eb966c0b06d016e64",
            "max": 40,
            "min": 0,
            "orientation": "horizontal",
            "style": "IPY_MODEL_dbdadaab0f3744a49098980b9af4d226",
            "value": 40
          }
        },
        "996ae2b76db549cfa8ee1521e0d3a3a8": {
          "model_module": "@jupyter-widgets/controls",
          "model_name": "HTMLModel",
          "model_module_version": "1.5.0",
          "state": {
            "_dom_classes": [],
            "_model_module": "@jupyter-widgets/controls",
            "_model_module_version": "1.5.0",
            "_model_name": "HTMLModel",
            "_view_count": null,
            "_view_module": "@jupyter-widgets/controls",
            "_view_module_version": "1.5.0",
            "_view_name": "HTMLView",
            "description": "",
            "description_tooltip": null,
            "layout": "IPY_MODEL_3a260b207a52499ea43bb905f55a17c8",
            "placeholder": "​",
            "style": "IPY_MODEL_47576c58b1f147dfaf31e845361ee0c0",
            "value": " 40/40 [00:01&lt;00:00, 26.44it/s]"
          }
        },
        "51c628bebfe34b34b6bb2013d10591e1": {
          "model_module": "@jupyter-widgets/base",
          "model_name": "LayoutModel",
          "model_module_version": "1.2.0",
          "state": {
            "_model_module": "@jupyter-widgets/base",
            "_model_module_version": "1.2.0",
            "_model_name": "LayoutModel",
            "_view_count": null,
            "_view_module": "@jupyter-widgets/base",
            "_view_module_version": "1.2.0",
            "_view_name": "LayoutView",
            "align_content": null,
            "align_items": null,
            "align_self": null,
            "border": null,
            "bottom": null,
            "display": null,
            "flex": null,
            "flex_flow": null,
            "grid_area": null,
            "grid_auto_columns": null,
            "grid_auto_flow": null,
            "grid_auto_rows": null,
            "grid_column": null,
            "grid_gap": null,
            "grid_row": null,
            "grid_template_areas": null,
            "grid_template_columns": null,
            "grid_template_rows": null,
            "height": null,
            "justify_content": null,
            "justify_items": null,
            "left": null,
            "margin": null,
            "max_height": null,
            "max_width": null,
            "min_height": null,
            "min_width": null,
            "object_fit": null,
            "object_position": null,
            "order": null,
            "overflow": null,
            "overflow_x": null,
            "overflow_y": null,
            "padding": null,
            "right": null,
            "top": null,
            "visibility": null,
            "width": null
          }
        },
        "c629d076d4ba48be902d3659be52bfab": {
          "model_module": "@jupyter-widgets/base",
          "model_name": "LayoutModel",
          "model_module_version": "1.2.0",
          "state": {
            "_model_module": "@jupyter-widgets/base",
            "_model_module_version": "1.2.0",
            "_model_name": "LayoutModel",
            "_view_count": null,
            "_view_module": "@jupyter-widgets/base",
            "_view_module_version": "1.2.0",
            "_view_name": "LayoutView",
            "align_content": null,
            "align_items": null,
            "align_self": null,
            "border": null,
            "bottom": null,
            "display": null,
            "flex": null,
            "flex_flow": null,
            "grid_area": null,
            "grid_auto_columns": null,
            "grid_auto_flow": null,
            "grid_auto_rows": null,
            "grid_column": null,
            "grid_gap": null,
            "grid_row": null,
            "grid_template_areas": null,
            "grid_template_columns": null,
            "grid_template_rows": null,
            "height": null,
            "justify_content": null,
            "justify_items": null,
            "left": null,
            "margin": null,
            "max_height": null,
            "max_width": null,
            "min_height": null,
            "min_width": null,
            "object_fit": null,
            "object_position": null,
            "order": null,
            "overflow": null,
            "overflow_x": null,
            "overflow_y": null,
            "padding": null,
            "right": null,
            "top": null,
            "visibility": null,
            "width": null
          }
        },
        "123ef4b653ea4e79a63d5b3c6da07f1e": {
          "model_module": "@jupyter-widgets/controls",
          "model_name": "DescriptionStyleModel",
          "model_module_version": "1.5.0",
          "state": {
            "_model_module": "@jupyter-widgets/controls",
            "_model_module_version": "1.5.0",
            "_model_name": "DescriptionStyleModel",
            "_view_count": null,
            "_view_module": "@jupyter-widgets/base",
            "_view_module_version": "1.2.0",
            "_view_name": "StyleView",
            "description_width": ""
          }
        },
        "048e2ef7153b481eb966c0b06d016e64": {
          "model_module": "@jupyter-widgets/base",
          "model_name": "LayoutModel",
          "model_module_version": "1.2.0",
          "state": {
            "_model_module": "@jupyter-widgets/base",
            "_model_module_version": "1.2.0",
            "_model_name": "LayoutModel",
            "_view_count": null,
            "_view_module": "@jupyter-widgets/base",
            "_view_module_version": "1.2.0",
            "_view_name": "LayoutView",
            "align_content": null,
            "align_items": null,
            "align_self": null,
            "border": null,
            "bottom": null,
            "display": null,
            "flex": null,
            "flex_flow": null,
            "grid_area": null,
            "grid_auto_columns": null,
            "grid_auto_flow": null,
            "grid_auto_rows": null,
            "grid_column": null,
            "grid_gap": null,
            "grid_row": null,
            "grid_template_areas": null,
            "grid_template_columns": null,
            "grid_template_rows": null,
            "height": null,
            "justify_content": null,
            "justify_items": null,
            "left": null,
            "margin": null,
            "max_height": null,
            "max_width": null,
            "min_height": null,
            "min_width": null,
            "object_fit": null,
            "object_position": null,
            "order": null,
            "overflow": null,
            "overflow_x": null,
            "overflow_y": null,
            "padding": null,
            "right": null,
            "top": null,
            "visibility": null,
            "width": null
          }
        },
        "dbdadaab0f3744a49098980b9af4d226": {
          "model_module": "@jupyter-widgets/controls",
          "model_name": "ProgressStyleModel",
          "model_module_version": "1.5.0",
          "state": {
            "_model_module": "@jupyter-widgets/controls",
            "_model_module_version": "1.5.0",
            "_model_name": "ProgressStyleModel",
            "_view_count": null,
            "_view_module": "@jupyter-widgets/base",
            "_view_module_version": "1.2.0",
            "_view_name": "StyleView",
            "bar_color": null,
            "description_width": ""
          }
        },
        "3a260b207a52499ea43bb905f55a17c8": {
          "model_module": "@jupyter-widgets/base",
          "model_name": "LayoutModel",
          "model_module_version": "1.2.0",
          "state": {
            "_model_module": "@jupyter-widgets/base",
            "_model_module_version": "1.2.0",
            "_model_name": "LayoutModel",
            "_view_count": null,
            "_view_module": "@jupyter-widgets/base",
            "_view_module_version": "1.2.0",
            "_view_name": "LayoutView",
            "align_content": null,
            "align_items": null,
            "align_self": null,
            "border": null,
            "bottom": null,
            "display": null,
            "flex": null,
            "flex_flow": null,
            "grid_area": null,
            "grid_auto_columns": null,
            "grid_auto_flow": null,
            "grid_auto_rows": null,
            "grid_column": null,
            "grid_gap": null,
            "grid_row": null,
            "grid_template_areas": null,
            "grid_template_columns": null,
            "grid_template_rows": null,
            "height": null,
            "justify_content": null,
            "justify_items": null,
            "left": null,
            "margin": null,
            "max_height": null,
            "max_width": null,
            "min_height": null,
            "min_width": null,
            "object_fit": null,
            "object_position": null,
            "order": null,
            "overflow": null,
            "overflow_x": null,
            "overflow_y": null,
            "padding": null,
            "right": null,
            "top": null,
            "visibility": null,
            "width": null
          }
        },
        "47576c58b1f147dfaf31e845361ee0c0": {
          "model_module": "@jupyter-widgets/controls",
          "model_name": "DescriptionStyleModel",
          "model_module_version": "1.5.0",
          "state": {
            "_model_module": "@jupyter-widgets/controls",
            "_model_module_version": "1.5.0",
            "_model_name": "DescriptionStyleModel",
            "_view_count": null,
            "_view_module": "@jupyter-widgets/base",
            "_view_module_version": "1.2.0",
            "_view_name": "StyleView",
            "description_width": ""
          }
        },
        "96782515e66c4948b355743e9f26fabc": {
          "model_module": "@jupyter-widgets/controls",
          "model_name": "HBoxModel",
          "model_module_version": "1.5.0",
          "state": {
            "_dom_classes": [],
            "_model_module": "@jupyter-widgets/controls",
            "_model_module_version": "1.5.0",
            "_model_name": "HBoxModel",
            "_view_count": null,
            "_view_module": "@jupyter-widgets/controls",
            "_view_module_version": "1.5.0",
            "_view_name": "HBoxView",
            "box_style": "",
            "children": [
              "IPY_MODEL_6c6690d6f83246d7abdb83988610427c",
              "IPY_MODEL_2683b94c0d384d27a38ae1649b58f740",
              "IPY_MODEL_479d812b5b6241a7b95e85706469abb4"
            ],
            "layout": "IPY_MODEL_a494a4ac2e0e4980a3b63b27fb65946d"
          }
        },
        "6c6690d6f83246d7abdb83988610427c": {
          "model_module": "@jupyter-widgets/controls",
          "model_name": "HTMLModel",
          "model_module_version": "1.5.0",
          "state": {
            "_dom_classes": [],
            "_model_module": "@jupyter-widgets/controls",
            "_model_module_version": "1.5.0",
            "_model_name": "HTMLModel",
            "_view_count": null,
            "_view_module": "@jupyter-widgets/controls",
            "_view_module_version": "1.5.0",
            "_view_name": "HTMLView",
            "description": "",
            "description_tooltip": null,
            "layout": "IPY_MODEL_4cc17ec554874e9f97af6636aa8a7c4c",
            "placeholder": "​",
            "style": "IPY_MODEL_b7e71bd6e4de46da85b23b8e5a927064",
            "value": "100%"
          }
        },
        "2683b94c0d384d27a38ae1649b58f740": {
          "model_module": "@jupyter-widgets/controls",
          "model_name": "FloatProgressModel",
          "model_module_version": "1.5.0",
          "state": {
            "_dom_classes": [],
            "_model_module": "@jupyter-widgets/controls",
            "_model_module_version": "1.5.0",
            "_model_name": "FloatProgressModel",
            "_view_count": null,
            "_view_module": "@jupyter-widgets/controls",
            "_view_module_version": "1.5.0",
            "_view_name": "ProgressView",
            "bar_style": "success",
            "description": "",
            "description_tooltip": null,
            "layout": "IPY_MODEL_fdc27d7b60e242cf8426d19c01174cfa",
            "max": 235,
            "min": 0,
            "orientation": "horizontal",
            "style": "IPY_MODEL_466ad0c12121491bae146523fdcf6e09",
            "value": 235
          }
        },
        "479d812b5b6241a7b95e85706469abb4": {
          "model_module": "@jupyter-widgets/controls",
          "model_name": "HTMLModel",
          "model_module_version": "1.5.0",
          "state": {
            "_dom_classes": [],
            "_model_module": "@jupyter-widgets/controls",
            "_model_module_version": "1.5.0",
            "_model_name": "HTMLModel",
            "_view_count": null,
            "_view_module": "@jupyter-widgets/controls",
            "_view_module_version": "1.5.0",
            "_view_name": "HTMLView",
            "description": "",
            "description_tooltip": null,
            "layout": "IPY_MODEL_886040a9f3a443ad80f7e8f71cb14ac5",
            "placeholder": "​",
            "style": "IPY_MODEL_0fca282b11e847c18b3b4ae5041eec78",
            "value": " 235/235 [00:09&lt;00:00, 33.24it/s]"
          }
        },
        "a494a4ac2e0e4980a3b63b27fb65946d": {
          "model_module": "@jupyter-widgets/base",
          "model_name": "LayoutModel",
          "model_module_version": "1.2.0",
          "state": {
            "_model_module": "@jupyter-widgets/base",
            "_model_module_version": "1.2.0",
            "_model_name": "LayoutModel",
            "_view_count": null,
            "_view_module": "@jupyter-widgets/base",
            "_view_module_version": "1.2.0",
            "_view_name": "LayoutView",
            "align_content": null,
            "align_items": null,
            "align_self": null,
            "border": null,
            "bottom": null,
            "display": null,
            "flex": null,
            "flex_flow": null,
            "grid_area": null,
            "grid_auto_columns": null,
            "grid_auto_flow": null,
            "grid_auto_rows": null,
            "grid_column": null,
            "grid_gap": null,
            "grid_row": null,
            "grid_template_areas": null,
            "grid_template_columns": null,
            "grid_template_rows": null,
            "height": null,
            "justify_content": null,
            "justify_items": null,
            "left": null,
            "margin": null,
            "max_height": null,
            "max_width": null,
            "min_height": null,
            "min_width": null,
            "object_fit": null,
            "object_position": null,
            "order": null,
            "overflow": null,
            "overflow_x": null,
            "overflow_y": null,
            "padding": null,
            "right": null,
            "top": null,
            "visibility": null,
            "width": null
          }
        },
        "4cc17ec554874e9f97af6636aa8a7c4c": {
          "model_module": "@jupyter-widgets/base",
          "model_name": "LayoutModel",
          "model_module_version": "1.2.0",
          "state": {
            "_model_module": "@jupyter-widgets/base",
            "_model_module_version": "1.2.0",
            "_model_name": "LayoutModel",
            "_view_count": null,
            "_view_module": "@jupyter-widgets/base",
            "_view_module_version": "1.2.0",
            "_view_name": "LayoutView",
            "align_content": null,
            "align_items": null,
            "align_self": null,
            "border": null,
            "bottom": null,
            "display": null,
            "flex": null,
            "flex_flow": null,
            "grid_area": null,
            "grid_auto_columns": null,
            "grid_auto_flow": null,
            "grid_auto_rows": null,
            "grid_column": null,
            "grid_gap": null,
            "grid_row": null,
            "grid_template_areas": null,
            "grid_template_columns": null,
            "grid_template_rows": null,
            "height": null,
            "justify_content": null,
            "justify_items": null,
            "left": null,
            "margin": null,
            "max_height": null,
            "max_width": null,
            "min_height": null,
            "min_width": null,
            "object_fit": null,
            "object_position": null,
            "order": null,
            "overflow": null,
            "overflow_x": null,
            "overflow_y": null,
            "padding": null,
            "right": null,
            "top": null,
            "visibility": null,
            "width": null
          }
        },
        "b7e71bd6e4de46da85b23b8e5a927064": {
          "model_module": "@jupyter-widgets/controls",
          "model_name": "DescriptionStyleModel",
          "model_module_version": "1.5.0",
          "state": {
            "_model_module": "@jupyter-widgets/controls",
            "_model_module_version": "1.5.0",
            "_model_name": "DescriptionStyleModel",
            "_view_count": null,
            "_view_module": "@jupyter-widgets/base",
            "_view_module_version": "1.2.0",
            "_view_name": "StyleView",
            "description_width": ""
          }
        },
        "fdc27d7b60e242cf8426d19c01174cfa": {
          "model_module": "@jupyter-widgets/base",
          "model_name": "LayoutModel",
          "model_module_version": "1.2.0",
          "state": {
            "_model_module": "@jupyter-widgets/base",
            "_model_module_version": "1.2.0",
            "_model_name": "LayoutModel",
            "_view_count": null,
            "_view_module": "@jupyter-widgets/base",
            "_view_module_version": "1.2.0",
            "_view_name": "LayoutView",
            "align_content": null,
            "align_items": null,
            "align_self": null,
            "border": null,
            "bottom": null,
            "display": null,
            "flex": null,
            "flex_flow": null,
            "grid_area": null,
            "grid_auto_columns": null,
            "grid_auto_flow": null,
            "grid_auto_rows": null,
            "grid_column": null,
            "grid_gap": null,
            "grid_row": null,
            "grid_template_areas": null,
            "grid_template_columns": null,
            "grid_template_rows": null,
            "height": null,
            "justify_content": null,
            "justify_items": null,
            "left": null,
            "margin": null,
            "max_height": null,
            "max_width": null,
            "min_height": null,
            "min_width": null,
            "object_fit": null,
            "object_position": null,
            "order": null,
            "overflow": null,
            "overflow_x": null,
            "overflow_y": null,
            "padding": null,
            "right": null,
            "top": null,
            "visibility": null,
            "width": null
          }
        },
        "466ad0c12121491bae146523fdcf6e09": {
          "model_module": "@jupyter-widgets/controls",
          "model_name": "ProgressStyleModel",
          "model_module_version": "1.5.0",
          "state": {
            "_model_module": "@jupyter-widgets/controls",
            "_model_module_version": "1.5.0",
            "_model_name": "ProgressStyleModel",
            "_view_count": null,
            "_view_module": "@jupyter-widgets/base",
            "_view_module_version": "1.2.0",
            "_view_name": "StyleView",
            "bar_color": null,
            "description_width": ""
          }
        },
        "886040a9f3a443ad80f7e8f71cb14ac5": {
          "model_module": "@jupyter-widgets/base",
          "model_name": "LayoutModel",
          "model_module_version": "1.2.0",
          "state": {
            "_model_module": "@jupyter-widgets/base",
            "_model_module_version": "1.2.0",
            "_model_name": "LayoutModel",
            "_view_count": null,
            "_view_module": "@jupyter-widgets/base",
            "_view_module_version": "1.2.0",
            "_view_name": "LayoutView",
            "align_content": null,
            "align_items": null,
            "align_self": null,
            "border": null,
            "bottom": null,
            "display": null,
            "flex": null,
            "flex_flow": null,
            "grid_area": null,
            "grid_auto_columns": null,
            "grid_auto_flow": null,
            "grid_auto_rows": null,
            "grid_column": null,
            "grid_gap": null,
            "grid_row": null,
            "grid_template_areas": null,
            "grid_template_columns": null,
            "grid_template_rows": null,
            "height": null,
            "justify_content": null,
            "justify_items": null,
            "left": null,
            "margin": null,
            "max_height": null,
            "max_width": null,
            "min_height": null,
            "min_width": null,
            "object_fit": null,
            "object_position": null,
            "order": null,
            "overflow": null,
            "overflow_x": null,
            "overflow_y": null,
            "padding": null,
            "right": null,
            "top": null,
            "visibility": null,
            "width": null
          }
        },
        "0fca282b11e847c18b3b4ae5041eec78": {
          "model_module": "@jupyter-widgets/controls",
          "model_name": "DescriptionStyleModel",
          "model_module_version": "1.5.0",
          "state": {
            "_model_module": "@jupyter-widgets/controls",
            "_model_module_version": "1.5.0",
            "_model_name": "DescriptionStyleModel",
            "_view_count": null,
            "_view_module": "@jupyter-widgets/base",
            "_view_module_version": "1.2.0",
            "_view_name": "StyleView",
            "description_width": ""
          }
        },
        "d144ace1f4844519b6f5c460e684031d": {
          "model_module": "@jupyter-widgets/controls",
          "model_name": "HBoxModel",
          "model_module_version": "1.5.0",
          "state": {
            "_dom_classes": [],
            "_model_module": "@jupyter-widgets/controls",
            "_model_module_version": "1.5.0",
            "_model_name": "HBoxModel",
            "_view_count": null,
            "_view_module": "@jupyter-widgets/controls",
            "_view_module_version": "1.5.0",
            "_view_name": "HBoxView",
            "box_style": "",
            "children": [
              "IPY_MODEL_6ac9a2aad7c545ac91dbfbbc14d9e04d",
              "IPY_MODEL_b38208c9bbcf4855b951a028b8a30087",
              "IPY_MODEL_a26f981468a04c629c6b2adb1ea6ceeb"
            ],
            "layout": "IPY_MODEL_c5bc18b168de4ac18dfe5cddd31e4090"
          }
        },
        "6ac9a2aad7c545ac91dbfbbc14d9e04d": {
          "model_module": "@jupyter-widgets/controls",
          "model_name": "HTMLModel",
          "model_module_version": "1.5.0",
          "state": {
            "_dom_classes": [],
            "_model_module": "@jupyter-widgets/controls",
            "_model_module_version": "1.5.0",
            "_model_name": "HTMLModel",
            "_view_count": null,
            "_view_module": "@jupyter-widgets/controls",
            "_view_module_version": "1.5.0",
            "_view_name": "HTMLView",
            "description": "",
            "description_tooltip": null,
            "layout": "IPY_MODEL_849fd91c38a4476983f0275d2e7fae68",
            "placeholder": "​",
            "style": "IPY_MODEL_4269b4bdec584cd985b570f10fd37aa5",
            "value": "100%"
          }
        },
        "b38208c9bbcf4855b951a028b8a30087": {
          "model_module": "@jupyter-widgets/controls",
          "model_name": "FloatProgressModel",
          "model_module_version": "1.5.0",
          "state": {
            "_dom_classes": [],
            "_model_module": "@jupyter-widgets/controls",
            "_model_module_version": "1.5.0",
            "_model_name": "FloatProgressModel",
            "_view_count": null,
            "_view_module": "@jupyter-widgets/controls",
            "_view_module_version": "1.5.0",
            "_view_name": "ProgressView",
            "bar_style": "success",
            "description": "",
            "description_tooltip": null,
            "layout": "IPY_MODEL_9f4ce51c4a814fdaa8fde125ec8b0b7b",
            "max": 40,
            "min": 0,
            "orientation": "horizontal",
            "style": "IPY_MODEL_260c1381bb254941a015067ec3997f76",
            "value": 40
          }
        },
        "a26f981468a04c629c6b2adb1ea6ceeb": {
          "model_module": "@jupyter-widgets/controls",
          "model_name": "HTMLModel",
          "model_module_version": "1.5.0",
          "state": {
            "_dom_classes": [],
            "_model_module": "@jupyter-widgets/controls",
            "_model_module_version": "1.5.0",
            "_model_name": "HTMLModel",
            "_view_count": null,
            "_view_module": "@jupyter-widgets/controls",
            "_view_module_version": "1.5.0",
            "_view_name": "HTMLView",
            "description": "",
            "description_tooltip": null,
            "layout": "IPY_MODEL_474800505b99414fbce68dc27a607f49",
            "placeholder": "​",
            "style": "IPY_MODEL_4abf0a7380334067938dc7b3852542b2",
            "value": " 40/40 [00:01&lt;00:00, 22.09it/s]"
          }
        },
        "c5bc18b168de4ac18dfe5cddd31e4090": {
          "model_module": "@jupyter-widgets/base",
          "model_name": "LayoutModel",
          "model_module_version": "1.2.0",
          "state": {
            "_model_module": "@jupyter-widgets/base",
            "_model_module_version": "1.2.0",
            "_model_name": "LayoutModel",
            "_view_count": null,
            "_view_module": "@jupyter-widgets/base",
            "_view_module_version": "1.2.0",
            "_view_name": "LayoutView",
            "align_content": null,
            "align_items": null,
            "align_self": null,
            "border": null,
            "bottom": null,
            "display": null,
            "flex": null,
            "flex_flow": null,
            "grid_area": null,
            "grid_auto_columns": null,
            "grid_auto_flow": null,
            "grid_auto_rows": null,
            "grid_column": null,
            "grid_gap": null,
            "grid_row": null,
            "grid_template_areas": null,
            "grid_template_columns": null,
            "grid_template_rows": null,
            "height": null,
            "justify_content": null,
            "justify_items": null,
            "left": null,
            "margin": null,
            "max_height": null,
            "max_width": null,
            "min_height": null,
            "min_width": null,
            "object_fit": null,
            "object_position": null,
            "order": null,
            "overflow": null,
            "overflow_x": null,
            "overflow_y": null,
            "padding": null,
            "right": null,
            "top": null,
            "visibility": null,
            "width": null
          }
        },
        "849fd91c38a4476983f0275d2e7fae68": {
          "model_module": "@jupyter-widgets/base",
          "model_name": "LayoutModel",
          "model_module_version": "1.2.0",
          "state": {
            "_model_module": "@jupyter-widgets/base",
            "_model_module_version": "1.2.0",
            "_model_name": "LayoutModel",
            "_view_count": null,
            "_view_module": "@jupyter-widgets/base",
            "_view_module_version": "1.2.0",
            "_view_name": "LayoutView",
            "align_content": null,
            "align_items": null,
            "align_self": null,
            "border": null,
            "bottom": null,
            "display": null,
            "flex": null,
            "flex_flow": null,
            "grid_area": null,
            "grid_auto_columns": null,
            "grid_auto_flow": null,
            "grid_auto_rows": null,
            "grid_column": null,
            "grid_gap": null,
            "grid_row": null,
            "grid_template_areas": null,
            "grid_template_columns": null,
            "grid_template_rows": null,
            "height": null,
            "justify_content": null,
            "justify_items": null,
            "left": null,
            "margin": null,
            "max_height": null,
            "max_width": null,
            "min_height": null,
            "min_width": null,
            "object_fit": null,
            "object_position": null,
            "order": null,
            "overflow": null,
            "overflow_x": null,
            "overflow_y": null,
            "padding": null,
            "right": null,
            "top": null,
            "visibility": null,
            "width": null
          }
        },
        "4269b4bdec584cd985b570f10fd37aa5": {
          "model_module": "@jupyter-widgets/controls",
          "model_name": "DescriptionStyleModel",
          "model_module_version": "1.5.0",
          "state": {
            "_model_module": "@jupyter-widgets/controls",
            "_model_module_version": "1.5.0",
            "_model_name": "DescriptionStyleModel",
            "_view_count": null,
            "_view_module": "@jupyter-widgets/base",
            "_view_module_version": "1.2.0",
            "_view_name": "StyleView",
            "description_width": ""
          }
        },
        "9f4ce51c4a814fdaa8fde125ec8b0b7b": {
          "model_module": "@jupyter-widgets/base",
          "model_name": "LayoutModel",
          "model_module_version": "1.2.0",
          "state": {
            "_model_module": "@jupyter-widgets/base",
            "_model_module_version": "1.2.0",
            "_model_name": "LayoutModel",
            "_view_count": null,
            "_view_module": "@jupyter-widgets/base",
            "_view_module_version": "1.2.0",
            "_view_name": "LayoutView",
            "align_content": null,
            "align_items": null,
            "align_self": null,
            "border": null,
            "bottom": null,
            "display": null,
            "flex": null,
            "flex_flow": null,
            "grid_area": null,
            "grid_auto_columns": null,
            "grid_auto_flow": null,
            "grid_auto_rows": null,
            "grid_column": null,
            "grid_gap": null,
            "grid_row": null,
            "grid_template_areas": null,
            "grid_template_columns": null,
            "grid_template_rows": null,
            "height": null,
            "justify_content": null,
            "justify_items": null,
            "left": null,
            "margin": null,
            "max_height": null,
            "max_width": null,
            "min_height": null,
            "min_width": null,
            "object_fit": null,
            "object_position": null,
            "order": null,
            "overflow": null,
            "overflow_x": null,
            "overflow_y": null,
            "padding": null,
            "right": null,
            "top": null,
            "visibility": null,
            "width": null
          }
        },
        "260c1381bb254941a015067ec3997f76": {
          "model_module": "@jupyter-widgets/controls",
          "model_name": "ProgressStyleModel",
          "model_module_version": "1.5.0",
          "state": {
            "_model_module": "@jupyter-widgets/controls",
            "_model_module_version": "1.5.0",
            "_model_name": "ProgressStyleModel",
            "_view_count": null,
            "_view_module": "@jupyter-widgets/base",
            "_view_module_version": "1.2.0",
            "_view_name": "StyleView",
            "bar_color": null,
            "description_width": ""
          }
        },
        "474800505b99414fbce68dc27a607f49": {
          "model_module": "@jupyter-widgets/base",
          "model_name": "LayoutModel",
          "model_module_version": "1.2.0",
          "state": {
            "_model_module": "@jupyter-widgets/base",
            "_model_module_version": "1.2.0",
            "_model_name": "LayoutModel",
            "_view_count": null,
            "_view_module": "@jupyter-widgets/base",
            "_view_module_version": "1.2.0",
            "_view_name": "LayoutView",
            "align_content": null,
            "align_items": null,
            "align_self": null,
            "border": null,
            "bottom": null,
            "display": null,
            "flex": null,
            "flex_flow": null,
            "grid_area": null,
            "grid_auto_columns": null,
            "grid_auto_flow": null,
            "grid_auto_rows": null,
            "grid_column": null,
            "grid_gap": null,
            "grid_row": null,
            "grid_template_areas": null,
            "grid_template_columns": null,
            "grid_template_rows": null,
            "height": null,
            "justify_content": null,
            "justify_items": null,
            "left": null,
            "margin": null,
            "max_height": null,
            "max_width": null,
            "min_height": null,
            "min_width": null,
            "object_fit": null,
            "object_position": null,
            "order": null,
            "overflow": null,
            "overflow_x": null,
            "overflow_y": null,
            "padding": null,
            "right": null,
            "top": null,
            "visibility": null,
            "width": null
          }
        },
        "4abf0a7380334067938dc7b3852542b2": {
          "model_module": "@jupyter-widgets/controls",
          "model_name": "DescriptionStyleModel",
          "model_module_version": "1.5.0",
          "state": {
            "_model_module": "@jupyter-widgets/controls",
            "_model_module_version": "1.5.0",
            "_model_name": "DescriptionStyleModel",
            "_view_count": null,
            "_view_module": "@jupyter-widgets/base",
            "_view_module_version": "1.2.0",
            "_view_name": "StyleView",
            "description_width": ""
          }
        },
        "95cf194a362a412a9668f96896d232d7": {
          "model_module": "@jupyter-widgets/controls",
          "model_name": "HBoxModel",
          "model_module_version": "1.5.0",
          "state": {
            "_dom_classes": [],
            "_model_module": "@jupyter-widgets/controls",
            "_model_module_version": "1.5.0",
            "_model_name": "HBoxModel",
            "_view_count": null,
            "_view_module": "@jupyter-widgets/controls",
            "_view_module_version": "1.5.0",
            "_view_name": "HBoxView",
            "box_style": "",
            "children": [
              "IPY_MODEL_6b54244301e845708d5697c7ddb3b6e7",
              "IPY_MODEL_6815aac72d864feea46e461b8f7aa237",
              "IPY_MODEL_4752d7be316847f8a415d6fa4c4e6b32"
            ],
            "layout": "IPY_MODEL_5115721ad07e4198a1dc7fa742eb643a"
          }
        },
        "6b54244301e845708d5697c7ddb3b6e7": {
          "model_module": "@jupyter-widgets/controls",
          "model_name": "HTMLModel",
          "model_module_version": "1.5.0",
          "state": {
            "_dom_classes": [],
            "_model_module": "@jupyter-widgets/controls",
            "_model_module_version": "1.5.0",
            "_model_name": "HTMLModel",
            "_view_count": null,
            "_view_module": "@jupyter-widgets/controls",
            "_view_module_version": "1.5.0",
            "_view_name": "HTMLView",
            "description": "",
            "description_tooltip": null,
            "layout": "IPY_MODEL_21fd4fb73e9b40eba16235250d5bb88e",
            "placeholder": "​",
            "style": "IPY_MODEL_529b3bb8722c41d8b4c56a1bdcd5b4cf",
            "value": "100%"
          }
        },
        "6815aac72d864feea46e461b8f7aa237": {
          "model_module": "@jupyter-widgets/controls",
          "model_name": "FloatProgressModel",
          "model_module_version": "1.5.0",
          "state": {
            "_dom_classes": [],
            "_model_module": "@jupyter-widgets/controls",
            "_model_module_version": "1.5.0",
            "_model_name": "FloatProgressModel",
            "_view_count": null,
            "_view_module": "@jupyter-widgets/controls",
            "_view_module_version": "1.5.0",
            "_view_name": "ProgressView",
            "bar_style": "success",
            "description": "",
            "description_tooltip": null,
            "layout": "IPY_MODEL_813b65fd266441329b4675cf9685e3cb",
            "max": 235,
            "min": 0,
            "orientation": "horizontal",
            "style": "IPY_MODEL_174392d80d644050b8ed0926bdb606b4",
            "value": 235
          }
        },
        "4752d7be316847f8a415d6fa4c4e6b32": {
          "model_module": "@jupyter-widgets/controls",
          "model_name": "HTMLModel",
          "model_module_version": "1.5.0",
          "state": {
            "_dom_classes": [],
            "_model_module": "@jupyter-widgets/controls",
            "_model_module_version": "1.5.0",
            "_model_name": "HTMLModel",
            "_view_count": null,
            "_view_module": "@jupyter-widgets/controls",
            "_view_module_version": "1.5.0",
            "_view_name": "HTMLView",
            "description": "",
            "description_tooltip": null,
            "layout": "IPY_MODEL_c6861b894de9472f9567d5aa89df7261",
            "placeholder": "​",
            "style": "IPY_MODEL_6c7a5db0c1b64dcda0bd3f5aca9ccac6",
            "value": " 235/235 [00:09&lt;00:00, 37.10it/s]"
          }
        },
        "5115721ad07e4198a1dc7fa742eb643a": {
          "model_module": "@jupyter-widgets/base",
          "model_name": "LayoutModel",
          "model_module_version": "1.2.0",
          "state": {
            "_model_module": "@jupyter-widgets/base",
            "_model_module_version": "1.2.0",
            "_model_name": "LayoutModel",
            "_view_count": null,
            "_view_module": "@jupyter-widgets/base",
            "_view_module_version": "1.2.0",
            "_view_name": "LayoutView",
            "align_content": null,
            "align_items": null,
            "align_self": null,
            "border": null,
            "bottom": null,
            "display": null,
            "flex": null,
            "flex_flow": null,
            "grid_area": null,
            "grid_auto_columns": null,
            "grid_auto_flow": null,
            "grid_auto_rows": null,
            "grid_column": null,
            "grid_gap": null,
            "grid_row": null,
            "grid_template_areas": null,
            "grid_template_columns": null,
            "grid_template_rows": null,
            "height": null,
            "justify_content": null,
            "justify_items": null,
            "left": null,
            "margin": null,
            "max_height": null,
            "max_width": null,
            "min_height": null,
            "min_width": null,
            "object_fit": null,
            "object_position": null,
            "order": null,
            "overflow": null,
            "overflow_x": null,
            "overflow_y": null,
            "padding": null,
            "right": null,
            "top": null,
            "visibility": null,
            "width": null
          }
        },
        "21fd4fb73e9b40eba16235250d5bb88e": {
          "model_module": "@jupyter-widgets/base",
          "model_name": "LayoutModel",
          "model_module_version": "1.2.0",
          "state": {
            "_model_module": "@jupyter-widgets/base",
            "_model_module_version": "1.2.0",
            "_model_name": "LayoutModel",
            "_view_count": null,
            "_view_module": "@jupyter-widgets/base",
            "_view_module_version": "1.2.0",
            "_view_name": "LayoutView",
            "align_content": null,
            "align_items": null,
            "align_self": null,
            "border": null,
            "bottom": null,
            "display": null,
            "flex": null,
            "flex_flow": null,
            "grid_area": null,
            "grid_auto_columns": null,
            "grid_auto_flow": null,
            "grid_auto_rows": null,
            "grid_column": null,
            "grid_gap": null,
            "grid_row": null,
            "grid_template_areas": null,
            "grid_template_columns": null,
            "grid_template_rows": null,
            "height": null,
            "justify_content": null,
            "justify_items": null,
            "left": null,
            "margin": null,
            "max_height": null,
            "max_width": null,
            "min_height": null,
            "min_width": null,
            "object_fit": null,
            "object_position": null,
            "order": null,
            "overflow": null,
            "overflow_x": null,
            "overflow_y": null,
            "padding": null,
            "right": null,
            "top": null,
            "visibility": null,
            "width": null
          }
        },
        "529b3bb8722c41d8b4c56a1bdcd5b4cf": {
          "model_module": "@jupyter-widgets/controls",
          "model_name": "DescriptionStyleModel",
          "model_module_version": "1.5.0",
          "state": {
            "_model_module": "@jupyter-widgets/controls",
            "_model_module_version": "1.5.0",
            "_model_name": "DescriptionStyleModel",
            "_view_count": null,
            "_view_module": "@jupyter-widgets/base",
            "_view_module_version": "1.2.0",
            "_view_name": "StyleView",
            "description_width": ""
          }
        },
        "813b65fd266441329b4675cf9685e3cb": {
          "model_module": "@jupyter-widgets/base",
          "model_name": "LayoutModel",
          "model_module_version": "1.2.0",
          "state": {
            "_model_module": "@jupyter-widgets/base",
            "_model_module_version": "1.2.0",
            "_model_name": "LayoutModel",
            "_view_count": null,
            "_view_module": "@jupyter-widgets/base",
            "_view_module_version": "1.2.0",
            "_view_name": "LayoutView",
            "align_content": null,
            "align_items": null,
            "align_self": null,
            "border": null,
            "bottom": null,
            "display": null,
            "flex": null,
            "flex_flow": null,
            "grid_area": null,
            "grid_auto_columns": null,
            "grid_auto_flow": null,
            "grid_auto_rows": null,
            "grid_column": null,
            "grid_gap": null,
            "grid_row": null,
            "grid_template_areas": null,
            "grid_template_columns": null,
            "grid_template_rows": null,
            "height": null,
            "justify_content": null,
            "justify_items": null,
            "left": null,
            "margin": null,
            "max_height": null,
            "max_width": null,
            "min_height": null,
            "min_width": null,
            "object_fit": null,
            "object_position": null,
            "order": null,
            "overflow": null,
            "overflow_x": null,
            "overflow_y": null,
            "padding": null,
            "right": null,
            "top": null,
            "visibility": null,
            "width": null
          }
        },
        "174392d80d644050b8ed0926bdb606b4": {
          "model_module": "@jupyter-widgets/controls",
          "model_name": "ProgressStyleModel",
          "model_module_version": "1.5.0",
          "state": {
            "_model_module": "@jupyter-widgets/controls",
            "_model_module_version": "1.5.0",
            "_model_name": "ProgressStyleModel",
            "_view_count": null,
            "_view_module": "@jupyter-widgets/base",
            "_view_module_version": "1.2.0",
            "_view_name": "StyleView",
            "bar_color": null,
            "description_width": ""
          }
        },
        "c6861b894de9472f9567d5aa89df7261": {
          "model_module": "@jupyter-widgets/base",
          "model_name": "LayoutModel",
          "model_module_version": "1.2.0",
          "state": {
            "_model_module": "@jupyter-widgets/base",
            "_model_module_version": "1.2.0",
            "_model_name": "LayoutModel",
            "_view_count": null,
            "_view_module": "@jupyter-widgets/base",
            "_view_module_version": "1.2.0",
            "_view_name": "LayoutView",
            "align_content": null,
            "align_items": null,
            "align_self": null,
            "border": null,
            "bottom": null,
            "display": null,
            "flex": null,
            "flex_flow": null,
            "grid_area": null,
            "grid_auto_columns": null,
            "grid_auto_flow": null,
            "grid_auto_rows": null,
            "grid_column": null,
            "grid_gap": null,
            "grid_row": null,
            "grid_template_areas": null,
            "grid_template_columns": null,
            "grid_template_rows": null,
            "height": null,
            "justify_content": null,
            "justify_items": null,
            "left": null,
            "margin": null,
            "max_height": null,
            "max_width": null,
            "min_height": null,
            "min_width": null,
            "object_fit": null,
            "object_position": null,
            "order": null,
            "overflow": null,
            "overflow_x": null,
            "overflow_y": null,
            "padding": null,
            "right": null,
            "top": null,
            "visibility": null,
            "width": null
          }
        },
        "6c7a5db0c1b64dcda0bd3f5aca9ccac6": {
          "model_module": "@jupyter-widgets/controls",
          "model_name": "DescriptionStyleModel",
          "model_module_version": "1.5.0",
          "state": {
            "_model_module": "@jupyter-widgets/controls",
            "_model_module_version": "1.5.0",
            "_model_name": "DescriptionStyleModel",
            "_view_count": null,
            "_view_module": "@jupyter-widgets/base",
            "_view_module_version": "1.2.0",
            "_view_name": "StyleView",
            "description_width": ""
          }
        },
        "0cdcc0a7a2024765b27859b3ca428e52": {
          "model_module": "@jupyter-widgets/controls",
          "model_name": "HBoxModel",
          "model_module_version": "1.5.0",
          "state": {
            "_dom_classes": [],
            "_model_module": "@jupyter-widgets/controls",
            "_model_module_version": "1.5.0",
            "_model_name": "HBoxModel",
            "_view_count": null,
            "_view_module": "@jupyter-widgets/controls",
            "_view_module_version": "1.5.0",
            "_view_name": "HBoxView",
            "box_style": "",
            "children": [
              "IPY_MODEL_d293d31a017d4b3a98554d5038e6ca4e",
              "IPY_MODEL_d72124af741a4a9888b7edfca4bedb46",
              "IPY_MODEL_f62fe7d80c394a2b83f9444cad6a90fe"
            ],
            "layout": "IPY_MODEL_c7c77c3fbceb49c999ae1db87a7d4c03"
          }
        },
        "d293d31a017d4b3a98554d5038e6ca4e": {
          "model_module": "@jupyter-widgets/controls",
          "model_name": "HTMLModel",
          "model_module_version": "1.5.0",
          "state": {
            "_dom_classes": [],
            "_model_module": "@jupyter-widgets/controls",
            "_model_module_version": "1.5.0",
            "_model_name": "HTMLModel",
            "_view_count": null,
            "_view_module": "@jupyter-widgets/controls",
            "_view_module_version": "1.5.0",
            "_view_name": "HTMLView",
            "description": "",
            "description_tooltip": null,
            "layout": "IPY_MODEL_bdfedd15c0f6483c86894249781d0333",
            "placeholder": "​",
            "style": "IPY_MODEL_90fc45a28b654c36a0f1dc225210ee6c",
            "value": "100%"
          }
        },
        "d72124af741a4a9888b7edfca4bedb46": {
          "model_module": "@jupyter-widgets/controls",
          "model_name": "FloatProgressModel",
          "model_module_version": "1.5.0",
          "state": {
            "_dom_classes": [],
            "_model_module": "@jupyter-widgets/controls",
            "_model_module_version": "1.5.0",
            "_model_name": "FloatProgressModel",
            "_view_count": null,
            "_view_module": "@jupyter-widgets/controls",
            "_view_module_version": "1.5.0",
            "_view_name": "ProgressView",
            "bar_style": "success",
            "description": "",
            "description_tooltip": null,
            "layout": "IPY_MODEL_33bb1c8854a74eecaa12ddc4c483b49b",
            "max": 40,
            "min": 0,
            "orientation": "horizontal",
            "style": "IPY_MODEL_64481cba23df42c5944c2db7d94622c3",
            "value": 40
          }
        },
        "f62fe7d80c394a2b83f9444cad6a90fe": {
          "model_module": "@jupyter-widgets/controls",
          "model_name": "HTMLModel",
          "model_module_version": "1.5.0",
          "state": {
            "_dom_classes": [],
            "_model_module": "@jupyter-widgets/controls",
            "_model_module_version": "1.5.0",
            "_model_name": "HTMLModel",
            "_view_count": null,
            "_view_module": "@jupyter-widgets/controls",
            "_view_module_version": "1.5.0",
            "_view_name": "HTMLView",
            "description": "",
            "description_tooltip": null,
            "layout": "IPY_MODEL_84846f965f9a4d2d98af99fb2aa75027",
            "placeholder": "​",
            "style": "IPY_MODEL_5685106f6409405ea16a5f6d06fa7726",
            "value": " 40/40 [00:01&lt;00:00, 22.87it/s]"
          }
        },
        "c7c77c3fbceb49c999ae1db87a7d4c03": {
          "model_module": "@jupyter-widgets/base",
          "model_name": "LayoutModel",
          "model_module_version": "1.2.0",
          "state": {
            "_model_module": "@jupyter-widgets/base",
            "_model_module_version": "1.2.0",
            "_model_name": "LayoutModel",
            "_view_count": null,
            "_view_module": "@jupyter-widgets/base",
            "_view_module_version": "1.2.0",
            "_view_name": "LayoutView",
            "align_content": null,
            "align_items": null,
            "align_self": null,
            "border": null,
            "bottom": null,
            "display": null,
            "flex": null,
            "flex_flow": null,
            "grid_area": null,
            "grid_auto_columns": null,
            "grid_auto_flow": null,
            "grid_auto_rows": null,
            "grid_column": null,
            "grid_gap": null,
            "grid_row": null,
            "grid_template_areas": null,
            "grid_template_columns": null,
            "grid_template_rows": null,
            "height": null,
            "justify_content": null,
            "justify_items": null,
            "left": null,
            "margin": null,
            "max_height": null,
            "max_width": null,
            "min_height": null,
            "min_width": null,
            "object_fit": null,
            "object_position": null,
            "order": null,
            "overflow": null,
            "overflow_x": null,
            "overflow_y": null,
            "padding": null,
            "right": null,
            "top": null,
            "visibility": null,
            "width": null
          }
        },
        "bdfedd15c0f6483c86894249781d0333": {
          "model_module": "@jupyter-widgets/base",
          "model_name": "LayoutModel",
          "model_module_version": "1.2.0",
          "state": {
            "_model_module": "@jupyter-widgets/base",
            "_model_module_version": "1.2.0",
            "_model_name": "LayoutModel",
            "_view_count": null,
            "_view_module": "@jupyter-widgets/base",
            "_view_module_version": "1.2.0",
            "_view_name": "LayoutView",
            "align_content": null,
            "align_items": null,
            "align_self": null,
            "border": null,
            "bottom": null,
            "display": null,
            "flex": null,
            "flex_flow": null,
            "grid_area": null,
            "grid_auto_columns": null,
            "grid_auto_flow": null,
            "grid_auto_rows": null,
            "grid_column": null,
            "grid_gap": null,
            "grid_row": null,
            "grid_template_areas": null,
            "grid_template_columns": null,
            "grid_template_rows": null,
            "height": null,
            "justify_content": null,
            "justify_items": null,
            "left": null,
            "margin": null,
            "max_height": null,
            "max_width": null,
            "min_height": null,
            "min_width": null,
            "object_fit": null,
            "object_position": null,
            "order": null,
            "overflow": null,
            "overflow_x": null,
            "overflow_y": null,
            "padding": null,
            "right": null,
            "top": null,
            "visibility": null,
            "width": null
          }
        },
        "90fc45a28b654c36a0f1dc225210ee6c": {
          "model_module": "@jupyter-widgets/controls",
          "model_name": "DescriptionStyleModel",
          "model_module_version": "1.5.0",
          "state": {
            "_model_module": "@jupyter-widgets/controls",
            "_model_module_version": "1.5.0",
            "_model_name": "DescriptionStyleModel",
            "_view_count": null,
            "_view_module": "@jupyter-widgets/base",
            "_view_module_version": "1.2.0",
            "_view_name": "StyleView",
            "description_width": ""
          }
        },
        "33bb1c8854a74eecaa12ddc4c483b49b": {
          "model_module": "@jupyter-widgets/base",
          "model_name": "LayoutModel",
          "model_module_version": "1.2.0",
          "state": {
            "_model_module": "@jupyter-widgets/base",
            "_model_module_version": "1.2.0",
            "_model_name": "LayoutModel",
            "_view_count": null,
            "_view_module": "@jupyter-widgets/base",
            "_view_module_version": "1.2.0",
            "_view_name": "LayoutView",
            "align_content": null,
            "align_items": null,
            "align_self": null,
            "border": null,
            "bottom": null,
            "display": null,
            "flex": null,
            "flex_flow": null,
            "grid_area": null,
            "grid_auto_columns": null,
            "grid_auto_flow": null,
            "grid_auto_rows": null,
            "grid_column": null,
            "grid_gap": null,
            "grid_row": null,
            "grid_template_areas": null,
            "grid_template_columns": null,
            "grid_template_rows": null,
            "height": null,
            "justify_content": null,
            "justify_items": null,
            "left": null,
            "margin": null,
            "max_height": null,
            "max_width": null,
            "min_height": null,
            "min_width": null,
            "object_fit": null,
            "object_position": null,
            "order": null,
            "overflow": null,
            "overflow_x": null,
            "overflow_y": null,
            "padding": null,
            "right": null,
            "top": null,
            "visibility": null,
            "width": null
          }
        },
        "64481cba23df42c5944c2db7d94622c3": {
          "model_module": "@jupyter-widgets/controls",
          "model_name": "ProgressStyleModel",
          "model_module_version": "1.5.0",
          "state": {
            "_model_module": "@jupyter-widgets/controls",
            "_model_module_version": "1.5.0",
            "_model_name": "ProgressStyleModel",
            "_view_count": null,
            "_view_module": "@jupyter-widgets/base",
            "_view_module_version": "1.2.0",
            "_view_name": "StyleView",
            "bar_color": null,
            "description_width": ""
          }
        },
        "84846f965f9a4d2d98af99fb2aa75027": {
          "model_module": "@jupyter-widgets/base",
          "model_name": "LayoutModel",
          "model_module_version": "1.2.0",
          "state": {
            "_model_module": "@jupyter-widgets/base",
            "_model_module_version": "1.2.0",
            "_model_name": "LayoutModel",
            "_view_count": null,
            "_view_module": "@jupyter-widgets/base",
            "_view_module_version": "1.2.0",
            "_view_name": "LayoutView",
            "align_content": null,
            "align_items": null,
            "align_self": null,
            "border": null,
            "bottom": null,
            "display": null,
            "flex": null,
            "flex_flow": null,
            "grid_area": null,
            "grid_auto_columns": null,
            "grid_auto_flow": null,
            "grid_auto_rows": null,
            "grid_column": null,
            "grid_gap": null,
            "grid_row": null,
            "grid_template_areas": null,
            "grid_template_columns": null,
            "grid_template_rows": null,
            "height": null,
            "justify_content": null,
            "justify_items": null,
            "left": null,
            "margin": null,
            "max_height": null,
            "max_width": null,
            "min_height": null,
            "min_width": null,
            "object_fit": null,
            "object_position": null,
            "order": null,
            "overflow": null,
            "overflow_x": null,
            "overflow_y": null,
            "padding": null,
            "right": null,
            "top": null,
            "visibility": null,
            "width": null
          }
        },
        "5685106f6409405ea16a5f6d06fa7726": {
          "model_module": "@jupyter-widgets/controls",
          "model_name": "DescriptionStyleModel",
          "model_module_version": "1.5.0",
          "state": {
            "_model_module": "@jupyter-widgets/controls",
            "_model_module_version": "1.5.0",
            "_model_name": "DescriptionStyleModel",
            "_view_count": null,
            "_view_module": "@jupyter-widgets/base",
            "_view_module_version": "1.2.0",
            "_view_name": "StyleView",
            "description_width": ""
          }
        },
        "7b3699eb71fc43ff94bade7890ba0bda": {
          "model_module": "@jupyter-widgets/controls",
          "model_name": "HBoxModel",
          "model_module_version": "1.5.0",
          "state": {
            "_dom_classes": [],
            "_model_module": "@jupyter-widgets/controls",
            "_model_module_version": "1.5.0",
            "_model_name": "HBoxModel",
            "_view_count": null,
            "_view_module": "@jupyter-widgets/controls",
            "_view_module_version": "1.5.0",
            "_view_name": "HBoxView",
            "box_style": "",
            "children": [
              "IPY_MODEL_3bc247c46c1f47ecbbe20956faf2e974",
              "IPY_MODEL_e054114cf5ed416bb095cf206b68526e",
              "IPY_MODEL_73f5f34b1168469daf1c7c5569110622"
            ],
            "layout": "IPY_MODEL_f45902c0c4914d198a7e0e3bbcc11ff5"
          }
        },
        "3bc247c46c1f47ecbbe20956faf2e974": {
          "model_module": "@jupyter-widgets/controls",
          "model_name": "HTMLModel",
          "model_module_version": "1.5.0",
          "state": {
            "_dom_classes": [],
            "_model_module": "@jupyter-widgets/controls",
            "_model_module_version": "1.5.0",
            "_model_name": "HTMLModel",
            "_view_count": null,
            "_view_module": "@jupyter-widgets/controls",
            "_view_module_version": "1.5.0",
            "_view_name": "HTMLView",
            "description": "",
            "description_tooltip": null,
            "layout": "IPY_MODEL_5206d32b87cf4f23bd0f4e037834f8cc",
            "placeholder": "​",
            "style": "IPY_MODEL_46ae51f68ce145efbb3c585069bdccbd",
            "value": "100%"
          }
        },
        "e054114cf5ed416bb095cf206b68526e": {
          "model_module": "@jupyter-widgets/controls",
          "model_name": "FloatProgressModel",
          "model_module_version": "1.5.0",
          "state": {
            "_dom_classes": [],
            "_model_module": "@jupyter-widgets/controls",
            "_model_module_version": "1.5.0",
            "_model_name": "FloatProgressModel",
            "_view_count": null,
            "_view_module": "@jupyter-widgets/controls",
            "_view_module_version": "1.5.0",
            "_view_name": "ProgressView",
            "bar_style": "success",
            "description": "",
            "description_tooltip": null,
            "layout": "IPY_MODEL_60025833f0934d99b4ede050839016c8",
            "max": 235,
            "min": 0,
            "orientation": "horizontal",
            "style": "IPY_MODEL_0d354fce865d4eb6b7807fde2481b616",
            "value": 235
          }
        },
        "73f5f34b1168469daf1c7c5569110622": {
          "model_module": "@jupyter-widgets/controls",
          "model_name": "HTMLModel",
          "model_module_version": "1.5.0",
          "state": {
            "_dom_classes": [],
            "_model_module": "@jupyter-widgets/controls",
            "_model_module_version": "1.5.0",
            "_model_name": "HTMLModel",
            "_view_count": null,
            "_view_module": "@jupyter-widgets/controls",
            "_view_module_version": "1.5.0",
            "_view_name": "HTMLView",
            "description": "",
            "description_tooltip": null,
            "layout": "IPY_MODEL_544e8e8d96c4476bbc9006a6c6255db7",
            "placeholder": "​",
            "style": "IPY_MODEL_848a5ef3eb78450d9a32c91c47842244",
            "value": " 235/235 [00:10&lt;00:00, 17.87it/s]"
          }
        },
        "f45902c0c4914d198a7e0e3bbcc11ff5": {
          "model_module": "@jupyter-widgets/base",
          "model_name": "LayoutModel",
          "model_module_version": "1.2.0",
          "state": {
            "_model_module": "@jupyter-widgets/base",
            "_model_module_version": "1.2.0",
            "_model_name": "LayoutModel",
            "_view_count": null,
            "_view_module": "@jupyter-widgets/base",
            "_view_module_version": "1.2.0",
            "_view_name": "LayoutView",
            "align_content": null,
            "align_items": null,
            "align_self": null,
            "border": null,
            "bottom": null,
            "display": null,
            "flex": null,
            "flex_flow": null,
            "grid_area": null,
            "grid_auto_columns": null,
            "grid_auto_flow": null,
            "grid_auto_rows": null,
            "grid_column": null,
            "grid_gap": null,
            "grid_row": null,
            "grid_template_areas": null,
            "grid_template_columns": null,
            "grid_template_rows": null,
            "height": null,
            "justify_content": null,
            "justify_items": null,
            "left": null,
            "margin": null,
            "max_height": null,
            "max_width": null,
            "min_height": null,
            "min_width": null,
            "object_fit": null,
            "object_position": null,
            "order": null,
            "overflow": null,
            "overflow_x": null,
            "overflow_y": null,
            "padding": null,
            "right": null,
            "top": null,
            "visibility": null,
            "width": null
          }
        },
        "5206d32b87cf4f23bd0f4e037834f8cc": {
          "model_module": "@jupyter-widgets/base",
          "model_name": "LayoutModel",
          "model_module_version": "1.2.0",
          "state": {
            "_model_module": "@jupyter-widgets/base",
            "_model_module_version": "1.2.0",
            "_model_name": "LayoutModel",
            "_view_count": null,
            "_view_module": "@jupyter-widgets/base",
            "_view_module_version": "1.2.0",
            "_view_name": "LayoutView",
            "align_content": null,
            "align_items": null,
            "align_self": null,
            "border": null,
            "bottom": null,
            "display": null,
            "flex": null,
            "flex_flow": null,
            "grid_area": null,
            "grid_auto_columns": null,
            "grid_auto_flow": null,
            "grid_auto_rows": null,
            "grid_column": null,
            "grid_gap": null,
            "grid_row": null,
            "grid_template_areas": null,
            "grid_template_columns": null,
            "grid_template_rows": null,
            "height": null,
            "justify_content": null,
            "justify_items": null,
            "left": null,
            "margin": null,
            "max_height": null,
            "max_width": null,
            "min_height": null,
            "min_width": null,
            "object_fit": null,
            "object_position": null,
            "order": null,
            "overflow": null,
            "overflow_x": null,
            "overflow_y": null,
            "padding": null,
            "right": null,
            "top": null,
            "visibility": null,
            "width": null
          }
        },
        "46ae51f68ce145efbb3c585069bdccbd": {
          "model_module": "@jupyter-widgets/controls",
          "model_name": "DescriptionStyleModel",
          "model_module_version": "1.5.0",
          "state": {
            "_model_module": "@jupyter-widgets/controls",
            "_model_module_version": "1.5.0",
            "_model_name": "DescriptionStyleModel",
            "_view_count": null,
            "_view_module": "@jupyter-widgets/base",
            "_view_module_version": "1.2.0",
            "_view_name": "StyleView",
            "description_width": ""
          }
        },
        "60025833f0934d99b4ede050839016c8": {
          "model_module": "@jupyter-widgets/base",
          "model_name": "LayoutModel",
          "model_module_version": "1.2.0",
          "state": {
            "_model_module": "@jupyter-widgets/base",
            "_model_module_version": "1.2.0",
            "_model_name": "LayoutModel",
            "_view_count": null,
            "_view_module": "@jupyter-widgets/base",
            "_view_module_version": "1.2.0",
            "_view_name": "LayoutView",
            "align_content": null,
            "align_items": null,
            "align_self": null,
            "border": null,
            "bottom": null,
            "display": null,
            "flex": null,
            "flex_flow": null,
            "grid_area": null,
            "grid_auto_columns": null,
            "grid_auto_flow": null,
            "grid_auto_rows": null,
            "grid_column": null,
            "grid_gap": null,
            "grid_row": null,
            "grid_template_areas": null,
            "grid_template_columns": null,
            "grid_template_rows": null,
            "height": null,
            "justify_content": null,
            "justify_items": null,
            "left": null,
            "margin": null,
            "max_height": null,
            "max_width": null,
            "min_height": null,
            "min_width": null,
            "object_fit": null,
            "object_position": null,
            "order": null,
            "overflow": null,
            "overflow_x": null,
            "overflow_y": null,
            "padding": null,
            "right": null,
            "top": null,
            "visibility": null,
            "width": null
          }
        },
        "0d354fce865d4eb6b7807fde2481b616": {
          "model_module": "@jupyter-widgets/controls",
          "model_name": "ProgressStyleModel",
          "model_module_version": "1.5.0",
          "state": {
            "_model_module": "@jupyter-widgets/controls",
            "_model_module_version": "1.5.0",
            "_model_name": "ProgressStyleModel",
            "_view_count": null,
            "_view_module": "@jupyter-widgets/base",
            "_view_module_version": "1.2.0",
            "_view_name": "StyleView",
            "bar_color": null,
            "description_width": ""
          }
        },
        "544e8e8d96c4476bbc9006a6c6255db7": {
          "model_module": "@jupyter-widgets/base",
          "model_name": "LayoutModel",
          "model_module_version": "1.2.0",
          "state": {
            "_model_module": "@jupyter-widgets/base",
            "_model_module_version": "1.2.0",
            "_model_name": "LayoutModel",
            "_view_count": null,
            "_view_module": "@jupyter-widgets/base",
            "_view_module_version": "1.2.0",
            "_view_name": "LayoutView",
            "align_content": null,
            "align_items": null,
            "align_self": null,
            "border": null,
            "bottom": null,
            "display": null,
            "flex": null,
            "flex_flow": null,
            "grid_area": null,
            "grid_auto_columns": null,
            "grid_auto_flow": null,
            "grid_auto_rows": null,
            "grid_column": null,
            "grid_gap": null,
            "grid_row": null,
            "grid_template_areas": null,
            "grid_template_columns": null,
            "grid_template_rows": null,
            "height": null,
            "justify_content": null,
            "justify_items": null,
            "left": null,
            "margin": null,
            "max_height": null,
            "max_width": null,
            "min_height": null,
            "min_width": null,
            "object_fit": null,
            "object_position": null,
            "order": null,
            "overflow": null,
            "overflow_x": null,
            "overflow_y": null,
            "padding": null,
            "right": null,
            "top": null,
            "visibility": null,
            "width": null
          }
        },
        "848a5ef3eb78450d9a32c91c47842244": {
          "model_module": "@jupyter-widgets/controls",
          "model_name": "DescriptionStyleModel",
          "model_module_version": "1.5.0",
          "state": {
            "_model_module": "@jupyter-widgets/controls",
            "_model_module_version": "1.5.0",
            "_model_name": "DescriptionStyleModel",
            "_view_count": null,
            "_view_module": "@jupyter-widgets/base",
            "_view_module_version": "1.2.0",
            "_view_name": "StyleView",
            "description_width": ""
          }
        },
        "3cecdb19cbca4e3db45cb2d434cbfc9f": {
          "model_module": "@jupyter-widgets/controls",
          "model_name": "HBoxModel",
          "model_module_version": "1.5.0",
          "state": {
            "_dom_classes": [],
            "_model_module": "@jupyter-widgets/controls",
            "_model_module_version": "1.5.0",
            "_model_name": "HBoxModel",
            "_view_count": null,
            "_view_module": "@jupyter-widgets/controls",
            "_view_module_version": "1.5.0",
            "_view_name": "HBoxView",
            "box_style": "",
            "children": [
              "IPY_MODEL_eb8be544969b47bbb9d97701040ed62b",
              "IPY_MODEL_567907220ece40f8974e21f1f18f0725",
              "IPY_MODEL_c4db8089618e4d58957c95e9eccf8333"
            ],
            "layout": "IPY_MODEL_2a2a6f45aeb2497e9817cefadad31419"
          }
        },
        "eb8be544969b47bbb9d97701040ed62b": {
          "model_module": "@jupyter-widgets/controls",
          "model_name": "HTMLModel",
          "model_module_version": "1.5.0",
          "state": {
            "_dom_classes": [],
            "_model_module": "@jupyter-widgets/controls",
            "_model_module_version": "1.5.0",
            "_model_name": "HTMLModel",
            "_view_count": null,
            "_view_module": "@jupyter-widgets/controls",
            "_view_module_version": "1.5.0",
            "_view_name": "HTMLView",
            "description": "",
            "description_tooltip": null,
            "layout": "IPY_MODEL_a1e7564764894978a84bc38a840b33c8",
            "placeholder": "​",
            "style": "IPY_MODEL_b1470dac00194e46a7a8086224289e05",
            "value": "100%"
          }
        },
        "567907220ece40f8974e21f1f18f0725": {
          "model_module": "@jupyter-widgets/controls",
          "model_name": "FloatProgressModel",
          "model_module_version": "1.5.0",
          "state": {
            "_dom_classes": [],
            "_model_module": "@jupyter-widgets/controls",
            "_model_module_version": "1.5.0",
            "_model_name": "FloatProgressModel",
            "_view_count": null,
            "_view_module": "@jupyter-widgets/controls",
            "_view_module_version": "1.5.0",
            "_view_name": "ProgressView",
            "bar_style": "success",
            "description": "",
            "description_tooltip": null,
            "layout": "IPY_MODEL_eded25c6c7e244189390bb25410ffff3",
            "max": 40,
            "min": 0,
            "orientation": "horizontal",
            "style": "IPY_MODEL_8128c999037c46b3a293d00e284db160",
            "value": 40
          }
        },
        "c4db8089618e4d58957c95e9eccf8333": {
          "model_module": "@jupyter-widgets/controls",
          "model_name": "HTMLModel",
          "model_module_version": "1.5.0",
          "state": {
            "_dom_classes": [],
            "_model_module": "@jupyter-widgets/controls",
            "_model_module_version": "1.5.0",
            "_model_name": "HTMLModel",
            "_view_count": null,
            "_view_module": "@jupyter-widgets/controls",
            "_view_module_version": "1.5.0",
            "_view_name": "HTMLView",
            "description": "",
            "description_tooltip": null,
            "layout": "IPY_MODEL_ca063319b33a431ea83791cc22d35084",
            "placeholder": "​",
            "style": "IPY_MODEL_19bd04cc0040448a8b4c8ccb7d9f7ffa",
            "value": " 40/40 [00:01&lt;00:00, 37.89it/s]"
          }
        },
        "2a2a6f45aeb2497e9817cefadad31419": {
          "model_module": "@jupyter-widgets/base",
          "model_name": "LayoutModel",
          "model_module_version": "1.2.0",
          "state": {
            "_model_module": "@jupyter-widgets/base",
            "_model_module_version": "1.2.0",
            "_model_name": "LayoutModel",
            "_view_count": null,
            "_view_module": "@jupyter-widgets/base",
            "_view_module_version": "1.2.0",
            "_view_name": "LayoutView",
            "align_content": null,
            "align_items": null,
            "align_self": null,
            "border": null,
            "bottom": null,
            "display": null,
            "flex": null,
            "flex_flow": null,
            "grid_area": null,
            "grid_auto_columns": null,
            "grid_auto_flow": null,
            "grid_auto_rows": null,
            "grid_column": null,
            "grid_gap": null,
            "grid_row": null,
            "grid_template_areas": null,
            "grid_template_columns": null,
            "grid_template_rows": null,
            "height": null,
            "justify_content": null,
            "justify_items": null,
            "left": null,
            "margin": null,
            "max_height": null,
            "max_width": null,
            "min_height": null,
            "min_width": null,
            "object_fit": null,
            "object_position": null,
            "order": null,
            "overflow": null,
            "overflow_x": null,
            "overflow_y": null,
            "padding": null,
            "right": null,
            "top": null,
            "visibility": null,
            "width": null
          }
        },
        "a1e7564764894978a84bc38a840b33c8": {
          "model_module": "@jupyter-widgets/base",
          "model_name": "LayoutModel",
          "model_module_version": "1.2.0",
          "state": {
            "_model_module": "@jupyter-widgets/base",
            "_model_module_version": "1.2.0",
            "_model_name": "LayoutModel",
            "_view_count": null,
            "_view_module": "@jupyter-widgets/base",
            "_view_module_version": "1.2.0",
            "_view_name": "LayoutView",
            "align_content": null,
            "align_items": null,
            "align_self": null,
            "border": null,
            "bottom": null,
            "display": null,
            "flex": null,
            "flex_flow": null,
            "grid_area": null,
            "grid_auto_columns": null,
            "grid_auto_flow": null,
            "grid_auto_rows": null,
            "grid_column": null,
            "grid_gap": null,
            "grid_row": null,
            "grid_template_areas": null,
            "grid_template_columns": null,
            "grid_template_rows": null,
            "height": null,
            "justify_content": null,
            "justify_items": null,
            "left": null,
            "margin": null,
            "max_height": null,
            "max_width": null,
            "min_height": null,
            "min_width": null,
            "object_fit": null,
            "object_position": null,
            "order": null,
            "overflow": null,
            "overflow_x": null,
            "overflow_y": null,
            "padding": null,
            "right": null,
            "top": null,
            "visibility": null,
            "width": null
          }
        },
        "b1470dac00194e46a7a8086224289e05": {
          "model_module": "@jupyter-widgets/controls",
          "model_name": "DescriptionStyleModel",
          "model_module_version": "1.5.0",
          "state": {
            "_model_module": "@jupyter-widgets/controls",
            "_model_module_version": "1.5.0",
            "_model_name": "DescriptionStyleModel",
            "_view_count": null,
            "_view_module": "@jupyter-widgets/base",
            "_view_module_version": "1.2.0",
            "_view_name": "StyleView",
            "description_width": ""
          }
        },
        "eded25c6c7e244189390bb25410ffff3": {
          "model_module": "@jupyter-widgets/base",
          "model_name": "LayoutModel",
          "model_module_version": "1.2.0",
          "state": {
            "_model_module": "@jupyter-widgets/base",
            "_model_module_version": "1.2.0",
            "_model_name": "LayoutModel",
            "_view_count": null,
            "_view_module": "@jupyter-widgets/base",
            "_view_module_version": "1.2.0",
            "_view_name": "LayoutView",
            "align_content": null,
            "align_items": null,
            "align_self": null,
            "border": null,
            "bottom": null,
            "display": null,
            "flex": null,
            "flex_flow": null,
            "grid_area": null,
            "grid_auto_columns": null,
            "grid_auto_flow": null,
            "grid_auto_rows": null,
            "grid_column": null,
            "grid_gap": null,
            "grid_row": null,
            "grid_template_areas": null,
            "grid_template_columns": null,
            "grid_template_rows": null,
            "height": null,
            "justify_content": null,
            "justify_items": null,
            "left": null,
            "margin": null,
            "max_height": null,
            "max_width": null,
            "min_height": null,
            "min_width": null,
            "object_fit": null,
            "object_position": null,
            "order": null,
            "overflow": null,
            "overflow_x": null,
            "overflow_y": null,
            "padding": null,
            "right": null,
            "top": null,
            "visibility": null,
            "width": null
          }
        },
        "8128c999037c46b3a293d00e284db160": {
          "model_module": "@jupyter-widgets/controls",
          "model_name": "ProgressStyleModel",
          "model_module_version": "1.5.0",
          "state": {
            "_model_module": "@jupyter-widgets/controls",
            "_model_module_version": "1.5.0",
            "_model_name": "ProgressStyleModel",
            "_view_count": null,
            "_view_module": "@jupyter-widgets/base",
            "_view_module_version": "1.2.0",
            "_view_name": "StyleView",
            "bar_color": null,
            "description_width": ""
          }
        },
        "ca063319b33a431ea83791cc22d35084": {
          "model_module": "@jupyter-widgets/base",
          "model_name": "LayoutModel",
          "model_module_version": "1.2.0",
          "state": {
            "_model_module": "@jupyter-widgets/base",
            "_model_module_version": "1.2.0",
            "_model_name": "LayoutModel",
            "_view_count": null,
            "_view_module": "@jupyter-widgets/base",
            "_view_module_version": "1.2.0",
            "_view_name": "LayoutView",
            "align_content": null,
            "align_items": null,
            "align_self": null,
            "border": null,
            "bottom": null,
            "display": null,
            "flex": null,
            "flex_flow": null,
            "grid_area": null,
            "grid_auto_columns": null,
            "grid_auto_flow": null,
            "grid_auto_rows": null,
            "grid_column": null,
            "grid_gap": null,
            "grid_row": null,
            "grid_template_areas": null,
            "grid_template_columns": null,
            "grid_template_rows": null,
            "height": null,
            "justify_content": null,
            "justify_items": null,
            "left": null,
            "margin": null,
            "max_height": null,
            "max_width": null,
            "min_height": null,
            "min_width": null,
            "object_fit": null,
            "object_position": null,
            "order": null,
            "overflow": null,
            "overflow_x": null,
            "overflow_y": null,
            "padding": null,
            "right": null,
            "top": null,
            "visibility": null,
            "width": null
          }
        },
        "19bd04cc0040448a8b4c8ccb7d9f7ffa": {
          "model_module": "@jupyter-widgets/controls",
          "model_name": "DescriptionStyleModel",
          "model_module_version": "1.5.0",
          "state": {
            "_model_module": "@jupyter-widgets/controls",
            "_model_module_version": "1.5.0",
            "_model_name": "DescriptionStyleModel",
            "_view_count": null,
            "_view_module": "@jupyter-widgets/base",
            "_view_module_version": "1.2.0",
            "_view_name": "StyleView",
            "description_width": ""
          }
        },
        "157b52f59d97456cbb24c3e4e1dfe239": {
          "model_module": "@jupyter-widgets/controls",
          "model_name": "HBoxModel",
          "model_module_version": "1.5.0",
          "state": {
            "_dom_classes": [],
            "_model_module": "@jupyter-widgets/controls",
            "_model_module_version": "1.5.0",
            "_model_name": "HBoxModel",
            "_view_count": null,
            "_view_module": "@jupyter-widgets/controls",
            "_view_module_version": "1.5.0",
            "_view_name": "HBoxView",
            "box_style": "",
            "children": [
              "IPY_MODEL_c85129bb58ea4fc6979679030b40fe9b",
              "IPY_MODEL_43f3df1737fd4abba15480e8d7cbb0bc",
              "IPY_MODEL_2c5c9127ea6c4e02a4d9db6c178842d7"
            ],
            "layout": "IPY_MODEL_7c047da3b741430d8ca4d663d39a0994"
          }
        },
        "c85129bb58ea4fc6979679030b40fe9b": {
          "model_module": "@jupyter-widgets/controls",
          "model_name": "HTMLModel",
          "model_module_version": "1.5.0",
          "state": {
            "_dom_classes": [],
            "_model_module": "@jupyter-widgets/controls",
            "_model_module_version": "1.5.0",
            "_model_name": "HTMLModel",
            "_view_count": null,
            "_view_module": "@jupyter-widgets/controls",
            "_view_module_version": "1.5.0",
            "_view_name": "HTMLView",
            "description": "",
            "description_tooltip": null,
            "layout": "IPY_MODEL_056345c45a0848b3b36cd5aa117d9307",
            "placeholder": "​",
            "style": "IPY_MODEL_44468c6f7fb44715b8685353002af684",
            "value": "100%"
          }
        },
        "43f3df1737fd4abba15480e8d7cbb0bc": {
          "model_module": "@jupyter-widgets/controls",
          "model_name": "FloatProgressModel",
          "model_module_version": "1.5.0",
          "state": {
            "_dom_classes": [],
            "_model_module": "@jupyter-widgets/controls",
            "_model_module_version": "1.5.0",
            "_model_name": "FloatProgressModel",
            "_view_count": null,
            "_view_module": "@jupyter-widgets/controls",
            "_view_module_version": "1.5.0",
            "_view_name": "ProgressView",
            "bar_style": "success",
            "description": "",
            "description_tooltip": null,
            "layout": "IPY_MODEL_095b42cedfbb4de696f3e8704c11decb",
            "max": 235,
            "min": 0,
            "orientation": "horizontal",
            "style": "IPY_MODEL_0ad15d5986cb409bb0ca43b2b01b2b08",
            "value": 235
          }
        },
        "2c5c9127ea6c4e02a4d9db6c178842d7": {
          "model_module": "@jupyter-widgets/controls",
          "model_name": "HTMLModel",
          "model_module_version": "1.5.0",
          "state": {
            "_dom_classes": [],
            "_model_module": "@jupyter-widgets/controls",
            "_model_module_version": "1.5.0",
            "_model_name": "HTMLModel",
            "_view_count": null,
            "_view_module": "@jupyter-widgets/controls",
            "_view_module_version": "1.5.0",
            "_view_name": "HTMLView",
            "description": "",
            "description_tooltip": null,
            "layout": "IPY_MODEL_e85749568c474e8bbed5c790275e12d7",
            "placeholder": "​",
            "style": "IPY_MODEL_9352cea7422e4f80bae5224e8188e2d8",
            "value": " 235/235 [00:09&lt;00:00, 32.81it/s]"
          }
        },
        "7c047da3b741430d8ca4d663d39a0994": {
          "model_module": "@jupyter-widgets/base",
          "model_name": "LayoutModel",
          "model_module_version": "1.2.0",
          "state": {
            "_model_module": "@jupyter-widgets/base",
            "_model_module_version": "1.2.0",
            "_model_name": "LayoutModel",
            "_view_count": null,
            "_view_module": "@jupyter-widgets/base",
            "_view_module_version": "1.2.0",
            "_view_name": "LayoutView",
            "align_content": null,
            "align_items": null,
            "align_self": null,
            "border": null,
            "bottom": null,
            "display": null,
            "flex": null,
            "flex_flow": null,
            "grid_area": null,
            "grid_auto_columns": null,
            "grid_auto_flow": null,
            "grid_auto_rows": null,
            "grid_column": null,
            "grid_gap": null,
            "grid_row": null,
            "grid_template_areas": null,
            "grid_template_columns": null,
            "grid_template_rows": null,
            "height": null,
            "justify_content": null,
            "justify_items": null,
            "left": null,
            "margin": null,
            "max_height": null,
            "max_width": null,
            "min_height": null,
            "min_width": null,
            "object_fit": null,
            "object_position": null,
            "order": null,
            "overflow": null,
            "overflow_x": null,
            "overflow_y": null,
            "padding": null,
            "right": null,
            "top": null,
            "visibility": null,
            "width": null
          }
        },
        "056345c45a0848b3b36cd5aa117d9307": {
          "model_module": "@jupyter-widgets/base",
          "model_name": "LayoutModel",
          "model_module_version": "1.2.0",
          "state": {
            "_model_module": "@jupyter-widgets/base",
            "_model_module_version": "1.2.0",
            "_model_name": "LayoutModel",
            "_view_count": null,
            "_view_module": "@jupyter-widgets/base",
            "_view_module_version": "1.2.0",
            "_view_name": "LayoutView",
            "align_content": null,
            "align_items": null,
            "align_self": null,
            "border": null,
            "bottom": null,
            "display": null,
            "flex": null,
            "flex_flow": null,
            "grid_area": null,
            "grid_auto_columns": null,
            "grid_auto_flow": null,
            "grid_auto_rows": null,
            "grid_column": null,
            "grid_gap": null,
            "grid_row": null,
            "grid_template_areas": null,
            "grid_template_columns": null,
            "grid_template_rows": null,
            "height": null,
            "justify_content": null,
            "justify_items": null,
            "left": null,
            "margin": null,
            "max_height": null,
            "max_width": null,
            "min_height": null,
            "min_width": null,
            "object_fit": null,
            "object_position": null,
            "order": null,
            "overflow": null,
            "overflow_x": null,
            "overflow_y": null,
            "padding": null,
            "right": null,
            "top": null,
            "visibility": null,
            "width": null
          }
        },
        "44468c6f7fb44715b8685353002af684": {
          "model_module": "@jupyter-widgets/controls",
          "model_name": "DescriptionStyleModel",
          "model_module_version": "1.5.0",
          "state": {
            "_model_module": "@jupyter-widgets/controls",
            "_model_module_version": "1.5.0",
            "_model_name": "DescriptionStyleModel",
            "_view_count": null,
            "_view_module": "@jupyter-widgets/base",
            "_view_module_version": "1.2.0",
            "_view_name": "StyleView",
            "description_width": ""
          }
        },
        "095b42cedfbb4de696f3e8704c11decb": {
          "model_module": "@jupyter-widgets/base",
          "model_name": "LayoutModel",
          "model_module_version": "1.2.0",
          "state": {
            "_model_module": "@jupyter-widgets/base",
            "_model_module_version": "1.2.0",
            "_model_name": "LayoutModel",
            "_view_count": null,
            "_view_module": "@jupyter-widgets/base",
            "_view_module_version": "1.2.0",
            "_view_name": "LayoutView",
            "align_content": null,
            "align_items": null,
            "align_self": null,
            "border": null,
            "bottom": null,
            "display": null,
            "flex": null,
            "flex_flow": null,
            "grid_area": null,
            "grid_auto_columns": null,
            "grid_auto_flow": null,
            "grid_auto_rows": null,
            "grid_column": null,
            "grid_gap": null,
            "grid_row": null,
            "grid_template_areas": null,
            "grid_template_columns": null,
            "grid_template_rows": null,
            "height": null,
            "justify_content": null,
            "justify_items": null,
            "left": null,
            "margin": null,
            "max_height": null,
            "max_width": null,
            "min_height": null,
            "min_width": null,
            "object_fit": null,
            "object_position": null,
            "order": null,
            "overflow": null,
            "overflow_x": null,
            "overflow_y": null,
            "padding": null,
            "right": null,
            "top": null,
            "visibility": null,
            "width": null
          }
        },
        "0ad15d5986cb409bb0ca43b2b01b2b08": {
          "model_module": "@jupyter-widgets/controls",
          "model_name": "ProgressStyleModel",
          "model_module_version": "1.5.0",
          "state": {
            "_model_module": "@jupyter-widgets/controls",
            "_model_module_version": "1.5.0",
            "_model_name": "ProgressStyleModel",
            "_view_count": null,
            "_view_module": "@jupyter-widgets/base",
            "_view_module_version": "1.2.0",
            "_view_name": "StyleView",
            "bar_color": null,
            "description_width": ""
          }
        },
        "e85749568c474e8bbed5c790275e12d7": {
          "model_module": "@jupyter-widgets/base",
          "model_name": "LayoutModel",
          "model_module_version": "1.2.0",
          "state": {
            "_model_module": "@jupyter-widgets/base",
            "_model_module_version": "1.2.0",
            "_model_name": "LayoutModel",
            "_view_count": null,
            "_view_module": "@jupyter-widgets/base",
            "_view_module_version": "1.2.0",
            "_view_name": "LayoutView",
            "align_content": null,
            "align_items": null,
            "align_self": null,
            "border": null,
            "bottom": null,
            "display": null,
            "flex": null,
            "flex_flow": null,
            "grid_area": null,
            "grid_auto_columns": null,
            "grid_auto_flow": null,
            "grid_auto_rows": null,
            "grid_column": null,
            "grid_gap": null,
            "grid_row": null,
            "grid_template_areas": null,
            "grid_template_columns": null,
            "grid_template_rows": null,
            "height": null,
            "justify_content": null,
            "justify_items": null,
            "left": null,
            "margin": null,
            "max_height": null,
            "max_width": null,
            "min_height": null,
            "min_width": null,
            "object_fit": null,
            "object_position": null,
            "order": null,
            "overflow": null,
            "overflow_x": null,
            "overflow_y": null,
            "padding": null,
            "right": null,
            "top": null,
            "visibility": null,
            "width": null
          }
        },
        "9352cea7422e4f80bae5224e8188e2d8": {
          "model_module": "@jupyter-widgets/controls",
          "model_name": "DescriptionStyleModel",
          "model_module_version": "1.5.0",
          "state": {
            "_model_module": "@jupyter-widgets/controls",
            "_model_module_version": "1.5.0",
            "_model_name": "DescriptionStyleModel",
            "_view_count": null,
            "_view_module": "@jupyter-widgets/base",
            "_view_module_version": "1.2.0",
            "_view_name": "StyleView",
            "description_width": ""
          }
        },
        "0bfd074c072147b880f8f6d64513e0d8": {
          "model_module": "@jupyter-widgets/controls",
          "model_name": "HBoxModel",
          "model_module_version": "1.5.0",
          "state": {
            "_dom_classes": [],
            "_model_module": "@jupyter-widgets/controls",
            "_model_module_version": "1.5.0",
            "_model_name": "HBoxModel",
            "_view_count": null,
            "_view_module": "@jupyter-widgets/controls",
            "_view_module_version": "1.5.0",
            "_view_name": "HBoxView",
            "box_style": "",
            "children": [
              "IPY_MODEL_56a92d8399934e5abdc9bb26d64495ce",
              "IPY_MODEL_8833c98e9da94f5e870a6a5f8cf56fc6",
              "IPY_MODEL_5b813a209eeb4cdd83a46fbc3e6fa314"
            ],
            "layout": "IPY_MODEL_9e2a7bff3658435e98fd4a37e0f495c2"
          }
        },
        "56a92d8399934e5abdc9bb26d64495ce": {
          "model_module": "@jupyter-widgets/controls",
          "model_name": "HTMLModel",
          "model_module_version": "1.5.0",
          "state": {
            "_dom_classes": [],
            "_model_module": "@jupyter-widgets/controls",
            "_model_module_version": "1.5.0",
            "_model_name": "HTMLModel",
            "_view_count": null,
            "_view_module": "@jupyter-widgets/controls",
            "_view_module_version": "1.5.0",
            "_view_name": "HTMLView",
            "description": "",
            "description_tooltip": null,
            "layout": "IPY_MODEL_2619665dfb9c404a91aa6725d33d993f",
            "placeholder": "​",
            "style": "IPY_MODEL_fb20bf63325343f8a98249204ccf7034",
            "value": "100%"
          }
        },
        "8833c98e9da94f5e870a6a5f8cf56fc6": {
          "model_module": "@jupyter-widgets/controls",
          "model_name": "FloatProgressModel",
          "model_module_version": "1.5.0",
          "state": {
            "_dom_classes": [],
            "_model_module": "@jupyter-widgets/controls",
            "_model_module_version": "1.5.0",
            "_model_name": "FloatProgressModel",
            "_view_count": null,
            "_view_module": "@jupyter-widgets/controls",
            "_view_module_version": "1.5.0",
            "_view_name": "ProgressView",
            "bar_style": "success",
            "description": "",
            "description_tooltip": null,
            "layout": "IPY_MODEL_51326d00a2dd4304a332029101fd7d58",
            "max": 40,
            "min": 0,
            "orientation": "horizontal",
            "style": "IPY_MODEL_98786de348854933bff751852f4187f6",
            "value": 40
          }
        },
        "5b813a209eeb4cdd83a46fbc3e6fa314": {
          "model_module": "@jupyter-widgets/controls",
          "model_name": "HTMLModel",
          "model_module_version": "1.5.0",
          "state": {
            "_dom_classes": [],
            "_model_module": "@jupyter-widgets/controls",
            "_model_module_version": "1.5.0",
            "_model_name": "HTMLModel",
            "_view_count": null,
            "_view_module": "@jupyter-widgets/controls",
            "_view_module_version": "1.5.0",
            "_view_name": "HTMLView",
            "description": "",
            "description_tooltip": null,
            "layout": "IPY_MODEL_49b5606ad6a343da9313aa25879d7224",
            "placeholder": "​",
            "style": "IPY_MODEL_a1e2ceef31e841ecb889d8b7e2fac893",
            "value": " 40/40 [00:01&lt;00:00, 30.15it/s]"
          }
        },
        "9e2a7bff3658435e98fd4a37e0f495c2": {
          "model_module": "@jupyter-widgets/base",
          "model_name": "LayoutModel",
          "model_module_version": "1.2.0",
          "state": {
            "_model_module": "@jupyter-widgets/base",
            "_model_module_version": "1.2.0",
            "_model_name": "LayoutModel",
            "_view_count": null,
            "_view_module": "@jupyter-widgets/base",
            "_view_module_version": "1.2.0",
            "_view_name": "LayoutView",
            "align_content": null,
            "align_items": null,
            "align_self": null,
            "border": null,
            "bottom": null,
            "display": null,
            "flex": null,
            "flex_flow": null,
            "grid_area": null,
            "grid_auto_columns": null,
            "grid_auto_flow": null,
            "grid_auto_rows": null,
            "grid_column": null,
            "grid_gap": null,
            "grid_row": null,
            "grid_template_areas": null,
            "grid_template_columns": null,
            "grid_template_rows": null,
            "height": null,
            "justify_content": null,
            "justify_items": null,
            "left": null,
            "margin": null,
            "max_height": null,
            "max_width": null,
            "min_height": null,
            "min_width": null,
            "object_fit": null,
            "object_position": null,
            "order": null,
            "overflow": null,
            "overflow_x": null,
            "overflow_y": null,
            "padding": null,
            "right": null,
            "top": null,
            "visibility": null,
            "width": null
          }
        },
        "2619665dfb9c404a91aa6725d33d993f": {
          "model_module": "@jupyter-widgets/base",
          "model_name": "LayoutModel",
          "model_module_version": "1.2.0",
          "state": {
            "_model_module": "@jupyter-widgets/base",
            "_model_module_version": "1.2.0",
            "_model_name": "LayoutModel",
            "_view_count": null,
            "_view_module": "@jupyter-widgets/base",
            "_view_module_version": "1.2.0",
            "_view_name": "LayoutView",
            "align_content": null,
            "align_items": null,
            "align_self": null,
            "border": null,
            "bottom": null,
            "display": null,
            "flex": null,
            "flex_flow": null,
            "grid_area": null,
            "grid_auto_columns": null,
            "grid_auto_flow": null,
            "grid_auto_rows": null,
            "grid_column": null,
            "grid_gap": null,
            "grid_row": null,
            "grid_template_areas": null,
            "grid_template_columns": null,
            "grid_template_rows": null,
            "height": null,
            "justify_content": null,
            "justify_items": null,
            "left": null,
            "margin": null,
            "max_height": null,
            "max_width": null,
            "min_height": null,
            "min_width": null,
            "object_fit": null,
            "object_position": null,
            "order": null,
            "overflow": null,
            "overflow_x": null,
            "overflow_y": null,
            "padding": null,
            "right": null,
            "top": null,
            "visibility": null,
            "width": null
          }
        },
        "fb20bf63325343f8a98249204ccf7034": {
          "model_module": "@jupyter-widgets/controls",
          "model_name": "DescriptionStyleModel",
          "model_module_version": "1.5.0",
          "state": {
            "_model_module": "@jupyter-widgets/controls",
            "_model_module_version": "1.5.0",
            "_model_name": "DescriptionStyleModel",
            "_view_count": null,
            "_view_module": "@jupyter-widgets/base",
            "_view_module_version": "1.2.0",
            "_view_name": "StyleView",
            "description_width": ""
          }
        },
        "51326d00a2dd4304a332029101fd7d58": {
          "model_module": "@jupyter-widgets/base",
          "model_name": "LayoutModel",
          "model_module_version": "1.2.0",
          "state": {
            "_model_module": "@jupyter-widgets/base",
            "_model_module_version": "1.2.0",
            "_model_name": "LayoutModel",
            "_view_count": null,
            "_view_module": "@jupyter-widgets/base",
            "_view_module_version": "1.2.0",
            "_view_name": "LayoutView",
            "align_content": null,
            "align_items": null,
            "align_self": null,
            "border": null,
            "bottom": null,
            "display": null,
            "flex": null,
            "flex_flow": null,
            "grid_area": null,
            "grid_auto_columns": null,
            "grid_auto_flow": null,
            "grid_auto_rows": null,
            "grid_column": null,
            "grid_gap": null,
            "grid_row": null,
            "grid_template_areas": null,
            "grid_template_columns": null,
            "grid_template_rows": null,
            "height": null,
            "justify_content": null,
            "justify_items": null,
            "left": null,
            "margin": null,
            "max_height": null,
            "max_width": null,
            "min_height": null,
            "min_width": null,
            "object_fit": null,
            "object_position": null,
            "order": null,
            "overflow": null,
            "overflow_x": null,
            "overflow_y": null,
            "padding": null,
            "right": null,
            "top": null,
            "visibility": null,
            "width": null
          }
        },
        "98786de348854933bff751852f4187f6": {
          "model_module": "@jupyter-widgets/controls",
          "model_name": "ProgressStyleModel",
          "model_module_version": "1.5.0",
          "state": {
            "_model_module": "@jupyter-widgets/controls",
            "_model_module_version": "1.5.0",
            "_model_name": "ProgressStyleModel",
            "_view_count": null,
            "_view_module": "@jupyter-widgets/base",
            "_view_module_version": "1.2.0",
            "_view_name": "StyleView",
            "bar_color": null,
            "description_width": ""
          }
        },
        "49b5606ad6a343da9313aa25879d7224": {
          "model_module": "@jupyter-widgets/base",
          "model_name": "LayoutModel",
          "model_module_version": "1.2.0",
          "state": {
            "_model_module": "@jupyter-widgets/base",
            "_model_module_version": "1.2.0",
            "_model_name": "LayoutModel",
            "_view_count": null,
            "_view_module": "@jupyter-widgets/base",
            "_view_module_version": "1.2.0",
            "_view_name": "LayoutView",
            "align_content": null,
            "align_items": null,
            "align_self": null,
            "border": null,
            "bottom": null,
            "display": null,
            "flex": null,
            "flex_flow": null,
            "grid_area": null,
            "grid_auto_columns": null,
            "grid_auto_flow": null,
            "grid_auto_rows": null,
            "grid_column": null,
            "grid_gap": null,
            "grid_row": null,
            "grid_template_areas": null,
            "grid_template_columns": null,
            "grid_template_rows": null,
            "height": null,
            "justify_content": null,
            "justify_items": null,
            "left": null,
            "margin": null,
            "max_height": null,
            "max_width": null,
            "min_height": null,
            "min_width": null,
            "object_fit": null,
            "object_position": null,
            "order": null,
            "overflow": null,
            "overflow_x": null,
            "overflow_y": null,
            "padding": null,
            "right": null,
            "top": null,
            "visibility": null,
            "width": null
          }
        },
        "a1e2ceef31e841ecb889d8b7e2fac893": {
          "model_module": "@jupyter-widgets/controls",
          "model_name": "DescriptionStyleModel",
          "model_module_version": "1.5.0",
          "state": {
            "_model_module": "@jupyter-widgets/controls",
            "_model_module_version": "1.5.0",
            "_model_name": "DescriptionStyleModel",
            "_view_count": null,
            "_view_module": "@jupyter-widgets/base",
            "_view_module_version": "1.2.0",
            "_view_name": "StyleView",
            "description_width": ""
          }
        },
        "3730bade3d814eb8b5355fdf42c74157": {
          "model_module": "@jupyter-widgets/controls",
          "model_name": "HBoxModel",
          "model_module_version": "1.5.0",
          "state": {
            "_dom_classes": [],
            "_model_module": "@jupyter-widgets/controls",
            "_model_module_version": "1.5.0",
            "_model_name": "HBoxModel",
            "_view_count": null,
            "_view_module": "@jupyter-widgets/controls",
            "_view_module_version": "1.5.0",
            "_view_name": "HBoxView",
            "box_style": "",
            "children": [
              "IPY_MODEL_c35b3f06fb1c4a68bd4e10f6ca5abde3",
              "IPY_MODEL_0aa8efea568a4b6a857c9bced725c4ea",
              "IPY_MODEL_bb60c96d6cba4ecdba2e7487dc4807ad"
            ],
            "layout": "IPY_MODEL_861cadf4c61844aea2da5719c5e5bd2c"
          }
        },
        "c35b3f06fb1c4a68bd4e10f6ca5abde3": {
          "model_module": "@jupyter-widgets/controls",
          "model_name": "HTMLModel",
          "model_module_version": "1.5.0",
          "state": {
            "_dom_classes": [],
            "_model_module": "@jupyter-widgets/controls",
            "_model_module_version": "1.5.0",
            "_model_name": "HTMLModel",
            "_view_count": null,
            "_view_module": "@jupyter-widgets/controls",
            "_view_module_version": "1.5.0",
            "_view_name": "HTMLView",
            "description": "",
            "description_tooltip": null,
            "layout": "IPY_MODEL_20d81db681544b7cb8d0b81355ce60a7",
            "placeholder": "​",
            "style": "IPY_MODEL_122ed8e197a544569c32fbb6649afced",
            "value": "100%"
          }
        },
        "0aa8efea568a4b6a857c9bced725c4ea": {
          "model_module": "@jupyter-widgets/controls",
          "model_name": "FloatProgressModel",
          "model_module_version": "1.5.0",
          "state": {
            "_dom_classes": [],
            "_model_module": "@jupyter-widgets/controls",
            "_model_module_version": "1.5.0",
            "_model_name": "FloatProgressModel",
            "_view_count": null,
            "_view_module": "@jupyter-widgets/controls",
            "_view_module_version": "1.5.0",
            "_view_name": "ProgressView",
            "bar_style": "success",
            "description": "",
            "description_tooltip": null,
            "layout": "IPY_MODEL_cb2b1cf230e14053ad94eb217c82b801",
            "max": 235,
            "min": 0,
            "orientation": "horizontal",
            "style": "IPY_MODEL_694e627439d644f5a2c7b3dc56e422d3",
            "value": 235
          }
        },
        "bb60c96d6cba4ecdba2e7487dc4807ad": {
          "model_module": "@jupyter-widgets/controls",
          "model_name": "HTMLModel",
          "model_module_version": "1.5.0",
          "state": {
            "_dom_classes": [],
            "_model_module": "@jupyter-widgets/controls",
            "_model_module_version": "1.5.0",
            "_model_name": "HTMLModel",
            "_view_count": null,
            "_view_module": "@jupyter-widgets/controls",
            "_view_module_version": "1.5.0",
            "_view_name": "HTMLView",
            "description": "",
            "description_tooltip": null,
            "layout": "IPY_MODEL_878d19f61bff4c23a616374a0708dbf5",
            "placeholder": "​",
            "style": "IPY_MODEL_762b5e67d5e042a58cee816f34d11431",
            "value": " 235/235 [00:10&lt;00:00, 31.72it/s]"
          }
        },
        "861cadf4c61844aea2da5719c5e5bd2c": {
          "model_module": "@jupyter-widgets/base",
          "model_name": "LayoutModel",
          "model_module_version": "1.2.0",
          "state": {
            "_model_module": "@jupyter-widgets/base",
            "_model_module_version": "1.2.0",
            "_model_name": "LayoutModel",
            "_view_count": null,
            "_view_module": "@jupyter-widgets/base",
            "_view_module_version": "1.2.0",
            "_view_name": "LayoutView",
            "align_content": null,
            "align_items": null,
            "align_self": null,
            "border": null,
            "bottom": null,
            "display": null,
            "flex": null,
            "flex_flow": null,
            "grid_area": null,
            "grid_auto_columns": null,
            "grid_auto_flow": null,
            "grid_auto_rows": null,
            "grid_column": null,
            "grid_gap": null,
            "grid_row": null,
            "grid_template_areas": null,
            "grid_template_columns": null,
            "grid_template_rows": null,
            "height": null,
            "justify_content": null,
            "justify_items": null,
            "left": null,
            "margin": null,
            "max_height": null,
            "max_width": null,
            "min_height": null,
            "min_width": null,
            "object_fit": null,
            "object_position": null,
            "order": null,
            "overflow": null,
            "overflow_x": null,
            "overflow_y": null,
            "padding": null,
            "right": null,
            "top": null,
            "visibility": null,
            "width": null
          }
        },
        "20d81db681544b7cb8d0b81355ce60a7": {
          "model_module": "@jupyter-widgets/base",
          "model_name": "LayoutModel",
          "model_module_version": "1.2.0",
          "state": {
            "_model_module": "@jupyter-widgets/base",
            "_model_module_version": "1.2.0",
            "_model_name": "LayoutModel",
            "_view_count": null,
            "_view_module": "@jupyter-widgets/base",
            "_view_module_version": "1.2.0",
            "_view_name": "LayoutView",
            "align_content": null,
            "align_items": null,
            "align_self": null,
            "border": null,
            "bottom": null,
            "display": null,
            "flex": null,
            "flex_flow": null,
            "grid_area": null,
            "grid_auto_columns": null,
            "grid_auto_flow": null,
            "grid_auto_rows": null,
            "grid_column": null,
            "grid_gap": null,
            "grid_row": null,
            "grid_template_areas": null,
            "grid_template_columns": null,
            "grid_template_rows": null,
            "height": null,
            "justify_content": null,
            "justify_items": null,
            "left": null,
            "margin": null,
            "max_height": null,
            "max_width": null,
            "min_height": null,
            "min_width": null,
            "object_fit": null,
            "object_position": null,
            "order": null,
            "overflow": null,
            "overflow_x": null,
            "overflow_y": null,
            "padding": null,
            "right": null,
            "top": null,
            "visibility": null,
            "width": null
          }
        },
        "122ed8e197a544569c32fbb6649afced": {
          "model_module": "@jupyter-widgets/controls",
          "model_name": "DescriptionStyleModel",
          "model_module_version": "1.5.0",
          "state": {
            "_model_module": "@jupyter-widgets/controls",
            "_model_module_version": "1.5.0",
            "_model_name": "DescriptionStyleModel",
            "_view_count": null,
            "_view_module": "@jupyter-widgets/base",
            "_view_module_version": "1.2.0",
            "_view_name": "StyleView",
            "description_width": ""
          }
        },
        "cb2b1cf230e14053ad94eb217c82b801": {
          "model_module": "@jupyter-widgets/base",
          "model_name": "LayoutModel",
          "model_module_version": "1.2.0",
          "state": {
            "_model_module": "@jupyter-widgets/base",
            "_model_module_version": "1.2.0",
            "_model_name": "LayoutModel",
            "_view_count": null,
            "_view_module": "@jupyter-widgets/base",
            "_view_module_version": "1.2.0",
            "_view_name": "LayoutView",
            "align_content": null,
            "align_items": null,
            "align_self": null,
            "border": null,
            "bottom": null,
            "display": null,
            "flex": null,
            "flex_flow": null,
            "grid_area": null,
            "grid_auto_columns": null,
            "grid_auto_flow": null,
            "grid_auto_rows": null,
            "grid_column": null,
            "grid_gap": null,
            "grid_row": null,
            "grid_template_areas": null,
            "grid_template_columns": null,
            "grid_template_rows": null,
            "height": null,
            "justify_content": null,
            "justify_items": null,
            "left": null,
            "margin": null,
            "max_height": null,
            "max_width": null,
            "min_height": null,
            "min_width": null,
            "object_fit": null,
            "object_position": null,
            "order": null,
            "overflow": null,
            "overflow_x": null,
            "overflow_y": null,
            "padding": null,
            "right": null,
            "top": null,
            "visibility": null,
            "width": null
          }
        },
        "694e627439d644f5a2c7b3dc56e422d3": {
          "model_module": "@jupyter-widgets/controls",
          "model_name": "ProgressStyleModel",
          "model_module_version": "1.5.0",
          "state": {
            "_model_module": "@jupyter-widgets/controls",
            "_model_module_version": "1.5.0",
            "_model_name": "ProgressStyleModel",
            "_view_count": null,
            "_view_module": "@jupyter-widgets/base",
            "_view_module_version": "1.2.0",
            "_view_name": "StyleView",
            "bar_color": null,
            "description_width": ""
          }
        },
        "878d19f61bff4c23a616374a0708dbf5": {
          "model_module": "@jupyter-widgets/base",
          "model_name": "LayoutModel",
          "model_module_version": "1.2.0",
          "state": {
            "_model_module": "@jupyter-widgets/base",
            "_model_module_version": "1.2.0",
            "_model_name": "LayoutModel",
            "_view_count": null,
            "_view_module": "@jupyter-widgets/base",
            "_view_module_version": "1.2.0",
            "_view_name": "LayoutView",
            "align_content": null,
            "align_items": null,
            "align_self": null,
            "border": null,
            "bottom": null,
            "display": null,
            "flex": null,
            "flex_flow": null,
            "grid_area": null,
            "grid_auto_columns": null,
            "grid_auto_flow": null,
            "grid_auto_rows": null,
            "grid_column": null,
            "grid_gap": null,
            "grid_row": null,
            "grid_template_areas": null,
            "grid_template_columns": null,
            "grid_template_rows": null,
            "height": null,
            "justify_content": null,
            "justify_items": null,
            "left": null,
            "margin": null,
            "max_height": null,
            "max_width": null,
            "min_height": null,
            "min_width": null,
            "object_fit": null,
            "object_position": null,
            "order": null,
            "overflow": null,
            "overflow_x": null,
            "overflow_y": null,
            "padding": null,
            "right": null,
            "top": null,
            "visibility": null,
            "width": null
          }
        },
        "762b5e67d5e042a58cee816f34d11431": {
          "model_module": "@jupyter-widgets/controls",
          "model_name": "DescriptionStyleModel",
          "model_module_version": "1.5.0",
          "state": {
            "_model_module": "@jupyter-widgets/controls",
            "_model_module_version": "1.5.0",
            "_model_name": "DescriptionStyleModel",
            "_view_count": null,
            "_view_module": "@jupyter-widgets/base",
            "_view_module_version": "1.2.0",
            "_view_name": "StyleView",
            "description_width": ""
          }
        },
        "a6e28909059b459b89bc1d8a72ac9d6d": {
          "model_module": "@jupyter-widgets/controls",
          "model_name": "HBoxModel",
          "model_module_version": "1.5.0",
          "state": {
            "_dom_classes": [],
            "_model_module": "@jupyter-widgets/controls",
            "_model_module_version": "1.5.0",
            "_model_name": "HBoxModel",
            "_view_count": null,
            "_view_module": "@jupyter-widgets/controls",
            "_view_module_version": "1.5.0",
            "_view_name": "HBoxView",
            "box_style": "",
            "children": [
              "IPY_MODEL_c03159d9b15c43e9b2c0af2a205c6f7b",
              "IPY_MODEL_262aa31e480e45a6bfe3626d7682ff84",
              "IPY_MODEL_8cfd105a2d494e518ff9e7b8473670d4"
            ],
            "layout": "IPY_MODEL_0336e874a3944ef6b47d0234c712b040"
          }
        },
        "c03159d9b15c43e9b2c0af2a205c6f7b": {
          "model_module": "@jupyter-widgets/controls",
          "model_name": "HTMLModel",
          "model_module_version": "1.5.0",
          "state": {
            "_dom_classes": [],
            "_model_module": "@jupyter-widgets/controls",
            "_model_module_version": "1.5.0",
            "_model_name": "HTMLModel",
            "_view_count": null,
            "_view_module": "@jupyter-widgets/controls",
            "_view_module_version": "1.5.0",
            "_view_name": "HTMLView",
            "description": "",
            "description_tooltip": null,
            "layout": "IPY_MODEL_d8dbee2d0a8b4af4a494cb3dc758cdb3",
            "placeholder": "​",
            "style": "IPY_MODEL_4e5bab9afa2f42e09815069bf511a820",
            "value": "100%"
          }
        },
        "262aa31e480e45a6bfe3626d7682ff84": {
          "model_module": "@jupyter-widgets/controls",
          "model_name": "FloatProgressModel",
          "model_module_version": "1.5.0",
          "state": {
            "_dom_classes": [],
            "_model_module": "@jupyter-widgets/controls",
            "_model_module_version": "1.5.0",
            "_model_name": "FloatProgressModel",
            "_view_count": null,
            "_view_module": "@jupyter-widgets/controls",
            "_view_module_version": "1.5.0",
            "_view_name": "ProgressView",
            "bar_style": "success",
            "description": "",
            "description_tooltip": null,
            "layout": "IPY_MODEL_7a52b06e1f7543c98789daf7e6513a5d",
            "max": 40,
            "min": 0,
            "orientation": "horizontal",
            "style": "IPY_MODEL_19aaecfbd5484569820737ccd580a209",
            "value": 40
          }
        },
        "8cfd105a2d494e518ff9e7b8473670d4": {
          "model_module": "@jupyter-widgets/controls",
          "model_name": "HTMLModel",
          "model_module_version": "1.5.0",
          "state": {
            "_dom_classes": [],
            "_model_module": "@jupyter-widgets/controls",
            "_model_module_version": "1.5.0",
            "_model_name": "HTMLModel",
            "_view_count": null,
            "_view_module": "@jupyter-widgets/controls",
            "_view_module_version": "1.5.0",
            "_view_name": "HTMLView",
            "description": "",
            "description_tooltip": null,
            "layout": "IPY_MODEL_22f950ee238c4c43b5af4baafe1a9da8",
            "placeholder": "​",
            "style": "IPY_MODEL_124fb815c3d64120aaa2744b05d4fa00",
            "value": " 40/40 [00:01&lt;00:00, 26.52it/s]"
          }
        },
        "0336e874a3944ef6b47d0234c712b040": {
          "model_module": "@jupyter-widgets/base",
          "model_name": "LayoutModel",
          "model_module_version": "1.2.0",
          "state": {
            "_model_module": "@jupyter-widgets/base",
            "_model_module_version": "1.2.0",
            "_model_name": "LayoutModel",
            "_view_count": null,
            "_view_module": "@jupyter-widgets/base",
            "_view_module_version": "1.2.0",
            "_view_name": "LayoutView",
            "align_content": null,
            "align_items": null,
            "align_self": null,
            "border": null,
            "bottom": null,
            "display": null,
            "flex": null,
            "flex_flow": null,
            "grid_area": null,
            "grid_auto_columns": null,
            "grid_auto_flow": null,
            "grid_auto_rows": null,
            "grid_column": null,
            "grid_gap": null,
            "grid_row": null,
            "grid_template_areas": null,
            "grid_template_columns": null,
            "grid_template_rows": null,
            "height": null,
            "justify_content": null,
            "justify_items": null,
            "left": null,
            "margin": null,
            "max_height": null,
            "max_width": null,
            "min_height": null,
            "min_width": null,
            "object_fit": null,
            "object_position": null,
            "order": null,
            "overflow": null,
            "overflow_x": null,
            "overflow_y": null,
            "padding": null,
            "right": null,
            "top": null,
            "visibility": null,
            "width": null
          }
        },
        "d8dbee2d0a8b4af4a494cb3dc758cdb3": {
          "model_module": "@jupyter-widgets/base",
          "model_name": "LayoutModel",
          "model_module_version": "1.2.0",
          "state": {
            "_model_module": "@jupyter-widgets/base",
            "_model_module_version": "1.2.0",
            "_model_name": "LayoutModel",
            "_view_count": null,
            "_view_module": "@jupyter-widgets/base",
            "_view_module_version": "1.2.0",
            "_view_name": "LayoutView",
            "align_content": null,
            "align_items": null,
            "align_self": null,
            "border": null,
            "bottom": null,
            "display": null,
            "flex": null,
            "flex_flow": null,
            "grid_area": null,
            "grid_auto_columns": null,
            "grid_auto_flow": null,
            "grid_auto_rows": null,
            "grid_column": null,
            "grid_gap": null,
            "grid_row": null,
            "grid_template_areas": null,
            "grid_template_columns": null,
            "grid_template_rows": null,
            "height": null,
            "justify_content": null,
            "justify_items": null,
            "left": null,
            "margin": null,
            "max_height": null,
            "max_width": null,
            "min_height": null,
            "min_width": null,
            "object_fit": null,
            "object_position": null,
            "order": null,
            "overflow": null,
            "overflow_x": null,
            "overflow_y": null,
            "padding": null,
            "right": null,
            "top": null,
            "visibility": null,
            "width": null
          }
        },
        "4e5bab9afa2f42e09815069bf511a820": {
          "model_module": "@jupyter-widgets/controls",
          "model_name": "DescriptionStyleModel",
          "model_module_version": "1.5.0",
          "state": {
            "_model_module": "@jupyter-widgets/controls",
            "_model_module_version": "1.5.0",
            "_model_name": "DescriptionStyleModel",
            "_view_count": null,
            "_view_module": "@jupyter-widgets/base",
            "_view_module_version": "1.2.0",
            "_view_name": "StyleView",
            "description_width": ""
          }
        },
        "7a52b06e1f7543c98789daf7e6513a5d": {
          "model_module": "@jupyter-widgets/base",
          "model_name": "LayoutModel",
          "model_module_version": "1.2.0",
          "state": {
            "_model_module": "@jupyter-widgets/base",
            "_model_module_version": "1.2.0",
            "_model_name": "LayoutModel",
            "_view_count": null,
            "_view_module": "@jupyter-widgets/base",
            "_view_module_version": "1.2.0",
            "_view_name": "LayoutView",
            "align_content": null,
            "align_items": null,
            "align_self": null,
            "border": null,
            "bottom": null,
            "display": null,
            "flex": null,
            "flex_flow": null,
            "grid_area": null,
            "grid_auto_columns": null,
            "grid_auto_flow": null,
            "grid_auto_rows": null,
            "grid_column": null,
            "grid_gap": null,
            "grid_row": null,
            "grid_template_areas": null,
            "grid_template_columns": null,
            "grid_template_rows": null,
            "height": null,
            "justify_content": null,
            "justify_items": null,
            "left": null,
            "margin": null,
            "max_height": null,
            "max_width": null,
            "min_height": null,
            "min_width": null,
            "object_fit": null,
            "object_position": null,
            "order": null,
            "overflow": null,
            "overflow_x": null,
            "overflow_y": null,
            "padding": null,
            "right": null,
            "top": null,
            "visibility": null,
            "width": null
          }
        },
        "19aaecfbd5484569820737ccd580a209": {
          "model_module": "@jupyter-widgets/controls",
          "model_name": "ProgressStyleModel",
          "model_module_version": "1.5.0",
          "state": {
            "_model_module": "@jupyter-widgets/controls",
            "_model_module_version": "1.5.0",
            "_model_name": "ProgressStyleModel",
            "_view_count": null,
            "_view_module": "@jupyter-widgets/base",
            "_view_module_version": "1.2.0",
            "_view_name": "StyleView",
            "bar_color": null,
            "description_width": ""
          }
        },
        "22f950ee238c4c43b5af4baafe1a9da8": {
          "model_module": "@jupyter-widgets/base",
          "model_name": "LayoutModel",
          "model_module_version": "1.2.0",
          "state": {
            "_model_module": "@jupyter-widgets/base",
            "_model_module_version": "1.2.0",
            "_model_name": "LayoutModel",
            "_view_count": null,
            "_view_module": "@jupyter-widgets/base",
            "_view_module_version": "1.2.0",
            "_view_name": "LayoutView",
            "align_content": null,
            "align_items": null,
            "align_self": null,
            "border": null,
            "bottom": null,
            "display": null,
            "flex": null,
            "flex_flow": null,
            "grid_area": null,
            "grid_auto_columns": null,
            "grid_auto_flow": null,
            "grid_auto_rows": null,
            "grid_column": null,
            "grid_gap": null,
            "grid_row": null,
            "grid_template_areas": null,
            "grid_template_columns": null,
            "grid_template_rows": null,
            "height": null,
            "justify_content": null,
            "justify_items": null,
            "left": null,
            "margin": null,
            "max_height": null,
            "max_width": null,
            "min_height": null,
            "min_width": null,
            "object_fit": null,
            "object_position": null,
            "order": null,
            "overflow": null,
            "overflow_x": null,
            "overflow_y": null,
            "padding": null,
            "right": null,
            "top": null,
            "visibility": null,
            "width": null
          }
        },
        "124fb815c3d64120aaa2744b05d4fa00": {
          "model_module": "@jupyter-widgets/controls",
          "model_name": "DescriptionStyleModel",
          "model_module_version": "1.5.0",
          "state": {
            "_model_module": "@jupyter-widgets/controls",
            "_model_module_version": "1.5.0",
            "_model_name": "DescriptionStyleModel",
            "_view_count": null,
            "_view_module": "@jupyter-widgets/base",
            "_view_module_version": "1.2.0",
            "_view_name": "StyleView",
            "description_width": ""
          }
        }
      }
    }
  },
  "cells": [
    {
      "cell_type": "markdown",
      "metadata": {
        "id": "WSlDQRg9sF8A"
      },
      "source": [
        "# Exercise Class 1\n",
        "This first exercise notebook aims to provide an intuition of how to train a model in PyTorch. First, we will briefly cover some basic concepts. Then, we will implement training schemes for \n",
        "1. a binary classification of a 2-dimensional synthetic dataset.\n",
        "2. a deep autoencoder for the Fashion-MNIST dataset.\n",
        "\n",
        "This exercise is not directly relevant for the exam. Its goal is to simplify the start and setup for the projects.\n",
        "\n",
        "If you do not have access to a GPU or prefer not to work locally, you may use [Google Colab](https://colab.research.google.com) (free version) as the workspace."
      ]
    },
    {
      "cell_type": "markdown",
      "source": [
        "# PyTorch Basics"
      ],
      "metadata": {
        "id": "AifmlxROvQFw"
      }
    },
    {
      "cell_type": "markdown",
      "metadata": {
        "id": "mrJtmRGQds0x"
      },
      "source": [
        "\n",
        "### The Tensor Class and Autograd\n",
        "Let's start by introducing the main data structure in PyTorch. \n",
        "\n",
        "The fundamental data structure in Pytorch is a \"tensor\". In this case, it refers to an array with arbitrary dimensions. It improves on ```numpy.array``` in the sense that it provides gradient computation semantics for tensors."
      ]
    },
    {
      "cell_type": "code",
      "metadata": {
        "colab": {
          "base_uri": "https://localhost:8080/"
        },
        "id": "Mrqg1eGydeiR",
        "outputId": "4d461ca7-2165-4bb8-f4d2-66b65129c25f"
      },
      "source": [
        "import torch\n",
        "\n",
        "# PyTorch Tensors are similar in behaviour to NumPy’s arrays.\n",
        "a = torch.Tensor([[1,2],[3,4]])\n",
        "print('a: ', a)\n",
        "print('a**2: ', a**2) # it supports vertorization just like numpy.array"
      ],
      "execution_count": null,
      "outputs": [
        {
          "output_type": "stream",
          "name": "stdout",
          "text": [
            "a:  tensor([[1., 2.],\n",
            "        [3., 4.]])\n",
            "a**2:  tensor([[ 1.,  4.],\n",
            "        [ 9., 16.]])\n"
          ]
        }
      ]
    },
    {
      "cell_type": "markdown",
      "source": [
        "There are two confusing ''calls'' of the tensor data structure. One is ```torch.Tensor``` and the other is ```torch.tensor```.\n",
        "\n",
        "In fact, ```torch.Tensor``` is the class, and ```torch.tensor``` is a function which returns a Tensor.\n",
        "\n",
        "The signature for this function is\n",
        "```torch.tensor(data, *, dtype=None, device=None, requires_grad=False, pin_memory=False) → Tensor```. Note that the output type is ```torch.Tensor``` as claimed by the signature."
      ],
      "metadata": {
        "id": "9npLhEBfjeVg"
      }
    },
    {
      "cell_type": "code",
      "source": [
        "# Both are of type torch.Tensor (because this is the class name).\n",
        "print(\"a type:\", type(a))\n",
        "a2 = torch.tensor([[1,2],[3,4]])\n",
        "print(\"a2 type:\", type(a2))\n",
        "\n",
        "# ---- Difference between torch.Tensor and torch.tensor ----\n",
        "# 1. the data type is different for int inputs.\n",
        "b = torch.tensor([2, 3])\n",
        "b2 = torch.tensor([2., 3.]) # a dot behind a int means a float in Python; this means the input for b2 is float.\n",
        "c = torch.Tensor([2, 3])\n",
        "print(\"b type:\", b.dtype) # with torch.tensor, the data type is not adjusted\n",
        "print(\"b2 type:\", b2.dtype)\n",
        "print(\"c type:\", c.dtype) # with torch.Tensor, the input is automatically casted."
      ],
      "metadata": {
        "colab": {
          "base_uri": "https://localhost:8080/"
        },
        "id": "yxmjYFgimzEv",
        "outputId": "a3032683-d82d-44c5-aa26-f0f39c19fde7"
      },
      "execution_count": null,
      "outputs": [
        {
          "output_type": "stream",
          "name": "stdout",
          "text": [
            "a type: <class 'torch.Tensor'>\n",
            "a2 type: <class 'torch.Tensor'>\n",
            "b type: torch.int64\n",
            "b2 type: torch.float32\n",
            "c type: torch.float32\n"
          ]
        }
      ]
    },
    {
      "cell_type": "code",
      "source": [
        "# 2. Initializing torch.Tensor with no param is allowed; but no param for torch.tensor is not allowed!\n",
        "e1 = torch.Tensor()\n",
        "print(\"e1 OK!\")\n",
        "\n",
        "# e2 = torch.tensor() # data is a required positional param!\n",
        "# print(\"This leads to an error!\")"
      ],
      "metadata": {
        "colab": {
          "base_uri": "https://localhost:8080/"
        },
        "id": "fPJex6zJkn2P",
        "outputId": "7ffc7f4c-6a29-4b93-aaea-3fc9965e3d77"
      },
      "execution_count": null,
      "outputs": [
        {
          "output_type": "stream",
          "name": "stdout",
          "text": [
            "e1 OK!\n"
          ]
        }
      ]
    },
    {
      "cell_type": "code",
      "source": [
        "# You can always create an empty tensor though\n",
        "e3 = torch.Tensor([])\n",
        "e4 = torch.tensor([])\n",
        "print(e3, e4)\n",
        "print(e3.dtype, e4.dtype) # an empty tensor is a float32 (but this is an undefined behavior and should not be relied on)"
      ],
      "metadata": {
        "colab": {
          "base_uri": "https://localhost:8080/"
        },
        "id": "VBPUhu-vnjby",
        "outputId": "74704681-be25-4c90-c7c8-16e1a5d66945"
      },
      "execution_count": null,
      "outputs": [
        {
          "output_type": "stream",
          "name": "stdout",
          "text": [
            "tensor([]) tensor([])\n",
            "torch.float32 torch.float32\n"
          ]
        }
      ]
    },
    {
      "cell_type": "code",
      "source": [
        "# Pytorch (and Python) is trying to be clever for you.\n",
        "# Dividing torch.int64 by torch.int64 is safe: the results are floats! Note: this is different to C++.\n",
        "d = torch.tensor([2, 2])\n",
        "print(\"d type:\", d.dtype)\n",
        "ratio = b / d\n",
        "print(\"int/int Type:\", ratio.dtype)\n",
        "print(\"b / d:\", b / d)\n",
        "\n",
        "# This holds for Long as well in the recent versions of Pytorch. In the older versions, the following code would print 1, just like c++!\n",
        "# Make sure to check unless you are super sure. Sometimes versions can be annoying for such bugs!\n",
        "# However, you may want to avoid dividing long tensor with another long tensor. \n",
        "# In the common practice, long tensors are almost always used to hold the label, and thus should not be used for any algebra operations such as + and / \n",
        "# unless you are sure about this.\n",
        "l1 = torch.LongTensor([3, 2])\n",
        "l2 = torch.LongTensor([2, 2])\n",
        "print(l1 / l2)"
      ],
      "metadata": {
        "colab": {
          "base_uri": "https://localhost:8080/"
        },
        "id": "1pF4d8oam4ih",
        "outputId": "bd9d84ac-3d68-4606-9177-bebb07c116a8"
      },
      "execution_count": null,
      "outputs": [
        {
          "output_type": "stream",
          "name": "stdout",
          "text": [
            "d type: torch.int64\n",
            "int/int Type: torch.float32\n",
            "b / d: tensor([1.0000, 1.5000])\n",
            "tensor([1.5000, 1.0000])\n"
          ]
        }
      ]
    },
    {
      "cell_type": "markdown",
      "metadata": {
        "id": "mLbgP21hezfp"
      },
      "source": [
        "By default, a Pytorch tensor does not have autograd (short for automatic gradient computation) semantics. This is because autograd requires it to maintain the computational graph in order to compute the gradients, which could be costly.\n",
        "\n",
        "To enable autograd, set ```requires_grad=True``` for your tensor. Note: in the older versions, a wrapper called ```torch.Variable``` is used for autograd, which is deprecated now. Unless you are unable to use a more recent version, avoid using ```torch.Variable```."
      ]
    },
    {
      "cell_type": "code",
      "metadata": {
        "colab": {
          "base_uri": "https://localhost:8080/"
        },
        "id": "9SynKcNCewCN",
        "outputId": "6db00922-c303-4d9a-d44d-a27b964c18d5"
      },
      "source": [
        "# dtype and requires_grad can be set when creating the tensor\n",
        "# only Tensors of floating point and complex dtype can require gradients; thus no int and long tensor (gradients need continuous domain)\n",
        "a = torch.tensor([[1,2],[3,4]], dtype=torch.float32, requires_grad=True)\n",
        "print('a:\\n', a) # now the message will additionally show requires_grad=True when printing this tensor\n",
        "\n",
        "c.requires_grad = True # changing requires_grad is also possible after its instantiation\n",
        "print(\"Changed to requires_grad=True:\\n\", c)\n",
        "c.requires_grad = False\n",
        "print(\"Changed to requires_grad=False:\\n\", c)"
      ],
      "execution_count": null,
      "outputs": [
        {
          "output_type": "stream",
          "name": "stdout",
          "text": [
            "a:\n",
            " tensor([[1., 2.],\n",
            "        [3., 4.]], requires_grad=True)\n",
            "Changed to requires_grad=True:\n",
            " tensor([2., 3.], requires_grad=True)\n",
            "Changed to requires_grad=False:\n",
            " tensor([2., 3.])\n"
          ]
        }
      ]
    },
    {
      "cell_type": "code",
      "source": [
        "# when performing differentiable operations on a tensor requiring grad, Pytorch builds the computational graph for us automatically.\n",
        "# This leads to extra memory costs, but does not change the code.\n",
        "# Pytorch does autograd by backward propagation. Details can be found at https://towardsdatascience.com/understanding-backpropagation-algorithm-7bb3aa2f95fd\n",
        "# Basically, it keeps how the variables are computed, and propagate the gradients by chain rule. It is a dynamic programming.\n",
        "# We will cover backward propagation later in the course (neural network section) as well.\n",
        "y = torch.sum(a**2) # 1 + 4 + 9 + 16\n",
        "print('y: ', y) # a tensor that can be backwardly propagated has a grad_fn\n",
        "\n",
        "# Compute gradients of y wrt a.\n",
        "y.backward()\n",
        "print('gradients: ', a.grad)"
      ],
      "metadata": {
        "colab": {
          "base_uri": "https://localhost:8080/"
        },
        "id": "03zF2a7Ku12Y",
        "outputId": "4c5068f3-51f1-4360-c36c-c65d627c109f"
      },
      "execution_count": null,
      "outputs": [
        {
          "output_type": "stream",
          "name": "stdout",
          "text": [
            "y:  tensor(30., grad_fn=<SumBackward0>)\n",
            "gradients:  tensor([[2., 4.],\n",
            "        [6., 8.]])\n"
          ]
        }
      ]
    },
    {
      "cell_type": "code",
      "source": [
        "# After a differentiation, Pytorch automatically removes the computational graph to save memory.\n",
        "# This makes us unable to backward again.\n",
        "\n",
        "# y.backward()\n",
        "# print(\"This leads to an error!\")"
      ],
      "metadata": {
        "id": "5kvrno7rwHUQ"
      },
      "execution_count": null,
      "outputs": []
    },
    {
      "cell_type": "code",
      "source": [
        "# If you really want to backward again and does not care about the memory usage, set retain_graph=True when doing backward.\n",
        "# This asks Pytorch to keep the computational graph.\n",
        "\n",
        "a.grad = None # remove the grad we computed before\n",
        "y = torch.sum(a**2)\n",
        "y.backward(retain_graph=True) # this computes grad while keeping the computational graph\n",
        "print(a.grad)\n",
        "\n",
        "a.grad = None\n",
        "y.backward() # this computes grad and removes the computational graph\n",
        "print(a.grad)"
      ],
      "metadata": {
        "colab": {
          "base_uri": "https://localhost:8080/"
        },
        "id": "oZUGAfaxwPc-",
        "outputId": "4bed0f55-fd89-4274-850a-67c3821de8bc"
      },
      "execution_count": null,
      "outputs": [
        {
          "output_type": "stream",
          "name": "stdout",
          "text": [
            "tensor([[2., 4.],\n",
            "        [6., 8.]])\n",
            "tensor([[2., 4.],\n",
            "        [6., 8.]])\n"
          ]
        }
      ]
    },
    {
      "cell_type": "markdown",
      "source": [
        "To reuse the code, sometimes you don't want to switch the requires_grad flag frequently. Guess how messy it would look like in your code!\n",
        "\n",
        "Therefore, in order to disable autograd for tensors requiring grad, which is commonly used when testing a fixed model, we can use the ```torch.no_grad()``` decorator."
      ],
      "metadata": {
        "id": "BQJL2bEl30zS"
      }
    },
    {
      "cell_type": "code",
      "source": [
        "a.grad = None\n",
        "with torch.no_grad():\n",
        "    y = torch.sum(a**2)\n",
        "print(y) # note that now y does not have a grad_fn and thus calling y.backward would lead to an error.\n",
        "\n",
        "# Similarly, there is a decorator to enable autograd for tensors requiring grad. It is often used inside torch.no_grad() if necessary\n",
        "with torch.no_grad():\n",
        "    with torch.enable_grad():\n",
        "        y = torch.sum(a**2) # this now creates the computational graph\n",
        "    y.backward() # this works because torch.no_grad just prevents creating the computational graph, but does not remove an existing computational graph\n",
        "print(a.grad)"
      ],
      "metadata": {
        "colab": {
          "base_uri": "https://localhost:8080/"
        },
        "id": "UXh1IOon5Be4",
        "outputId": "f857e8bd-89ad-45b7-c554-ff96104539fd"
      },
      "execution_count": null,
      "outputs": [
        {
          "output_type": "stream",
          "name": "stdout",
          "text": [
            "tensor(30.)\n",
            "tensor([[2., 4.],\n",
            "        [6., 8.]])\n"
          ]
        }
      ]
    },
    {
      "cell_type": "markdown",
      "source": [
        "You may have heard that Pytorch is good at working with GPUs and CUDA. Yes! Don't be scared of GPUs, you can do this by moving the tensor into the device by calling ```tensor.to(device)```."
      ],
      "metadata": {
        "id": "nK3pS-Cv_88U"
      }
    },
    {
      "cell_type": "code",
      "source": [
        "# On Google Colab, you can enable gpu support by Edit -> Notebook Settings -> Hardware Support, then restart the kernel.\n",
        "device = \"cuda\" if torch.cuda.is_available() else \"cpu\" # check whether you have cuda support\n",
        "print(f\"Will use {device}\")\n",
        "# If you believe you should have cuda but device=\"cpu\" anyways, it is possible that you installed the cpu-only version of Pytorch\n",
        "# Check https://pytorch.org/get-started/locally/\n",
        "\n",
        "print(a) # by default, a tensor is in the CPU memory\n",
        "a = a.to(device)\n",
        "print(a) # see device=\"cuda:0\", right? 0 here means the GPU index (a program can use multiple GPUs)\n",
        "\n",
        "# You can create tensor directly on GPUs. This is faster than moving via to(device)\n",
        "# Check https://fleuret.org/dlc/materials/dlc-handout-6-6-using-GPUs.pdf\n",
        "b = torch.rand_like(a, device=\"cuda\")\n",
        "print(b) "
      ],
      "metadata": {
        "colab": {
          "base_uri": "https://localhost:8080/"
        },
        "id": "p78_KYryAQ3h",
        "outputId": "89596da4-9dd7-4b9d-e9b1-486d9a5a7295"
      },
      "execution_count": null,
      "outputs": [
        {
          "output_type": "stream",
          "name": "stdout",
          "text": [
            "Will use cuda\n",
            "tensor([[1., 2.],\n",
            "        [3., 4.]], requires_grad=True)\n",
            "tensor([[1., 2.],\n",
            "        [3., 4.]], device='cuda:0', grad_fn=<ToCopyBackward0>)\n",
            "tensor([[0.9299, 0.2070],\n",
            "        [0.5207, 0.4065]], device='cuda:0')\n"
          ]
        }
      ]
    },
    {
      "cell_type": "markdown",
      "source": [
        "Copying a class could be expensive. Therefore, Python tries to do everything with aliasing when handling a class, which includes a torch.Tensor. This could lead to problems when you (accidentally) change a leaf variable when maintaining the computational graph. A leaf variable is a variable that does not depend on other variables. In Pytorch, this means a leaf variable is a tensor with ```requires_grad=True``` and does not have a ```grad_fn```."
      ],
      "metadata": {
        "id": "z_9lb36ODh5h"
      }
    },
    {
      "cell_type": "code",
      "source": [
        "a = torch.rand(5, requires_grad=True)\n",
        "b = a\n",
        "print(a)\n",
        "print(b is a)\n",
        "\n",
        "c = torch.sum(a**2)\n",
        "print(c)\n",
        "# b[0] = 1 # not allowed since a is changed while it is in the computational graph\n",
        "# print(\"This leads to an error!\")"
      ],
      "metadata": {
        "colab": {
          "base_uri": "https://localhost:8080/"
        },
        "id": "1hlNRV1CEFB_",
        "outputId": "df9ba0d5-2737-4223-c5a8-58dded8c2d24"
      },
      "execution_count": null,
      "outputs": [
        {
          "output_type": "stream",
          "name": "stdout",
          "text": [
            "tensor([0.6459, 0.0009, 0.4956, 0.7127, 0.3312], requires_grad=True)\n",
            "True\n",
            "tensor(1.2804, grad_fn=<SumBackward0>)\n"
          ]
        }
      ]
    },
    {
      "cell_type": "code",
      "source": [
        "# We can copy the tensor in order to avoid this\n",
        "b = a.clone()\n",
        "b[0] = 1\n",
        "print(a)\n",
        "print(b) # Note: b has a grad_fn, why? Copying, slicing and selecting is also differentiable!\n",
        "\n",
        "b = b.detach() # remove the gradient attachment from b to a\n",
        "print(b) # no grad_fn any more, right?"
      ],
      "metadata": {
        "colab": {
          "base_uri": "https://localhost:8080/"
        },
        "id": "qPheCKIjEq4j",
        "outputId": "9083f9cc-7472-4163-d99b-6fa2f1f76d67"
      },
      "execution_count": null,
      "outputs": [
        {
          "output_type": "stream",
          "name": "stdout",
          "text": [
            "tensor([0.6459, 0.0009, 0.4956, 0.7127, 0.3312], requires_grad=True)\n",
            "tensor([1.0000e+00, 8.7470e-04, 4.9559e-01, 7.1266e-01, 3.3121e-01],\n",
            "       grad_fn=<CopySlices>)\n",
            "tensor([1.0000e+00, 8.7470e-04, 4.9559e-01, 7.1266e-01, 3.3121e-01])\n"
          ]
        }
      ]
    },
    {
      "cell_type": "markdown",
      "source": [
        "Useful tricks to work with CUDA:\n",
        "\n",
        "- Run ```nvidia-smi``` to check your GPU status. It will show the memory usage and workload of each GPU.\n",
        "\n",
        "- Pytorch automatically does garbage collection when a function call is finished. Although you may manually delete an unwanted tensor, this is often unnecessary and has the potential to lower the performance. This is because Pytorch does not release allocated memory immediately when it no longer needs it. Pytorch releases memory only when an overflow would happen if it does not release. It works like this to avoid frequently asking for additional memory. Instead, it now uses the allocated but free memory. A rule of thumb is to **not** manually delete unwanted tensors if this is not necessary. For more details, check https://pytorch.org/docs/stable/notes/cuda.html#cuda-memory-management (for advanced users only).\n",
        "\n",
        "- Make sure to check your memory usage is not accumulated through steps. This often happens if your code does not release unwanted tensors properly. For example, this could happen if you always call backward with ```retain_graph=True```."
      ],
      "metadata": {
        "id": "kdwpEfz3mydv"
      }
    },
    {
      "cell_type": "markdown",
      "source": [
        "Congratulations!\n",
        "\n",
        "So far, you have known all Pytorch (just kidding). However, all the rest, including the fancy neural networks, are basically applying the autograd functionality on some predefined wrappers.\n",
        "\n",
        "We discuss how to train a neural network below on a naive classification task. For all such tasks, you may follow a similar (almost identital) setup."
      ],
      "metadata": {
        "id": "uUIpw9YVx5xl"
      }
    },
    {
      "cell_type": "markdown",
      "metadata": {
        "id": "4gP0ls3YfldM"
      },
      "source": [
        "### Training a Model with Gradients\n",
        "\n",
        "When we train a model in PyTorch, we usually follow the same 5 steps:\n",
        "1. Compute the model's output (forward pass) by passing a batch of inputs.\n",
        "```\n",
        "output_batch = model(train_batch)\n",
        "```\n",
        "2. Calculate the loss.\n",
        "```\n",
        "loss = loss_fn(output_batch, labels_batch)\n",
        "```\n",
        "3. Clear the previous gradients.\n",
        "```\n",
        "optimizer.zero_grad()\n",
        "```\n",
        "4. Compute gradients of loss wrt to all the variables.\n",
        "```\n",
        "loss.backward()\n",
        "```\n",
        "5. Update the model's parameters using the computed gradients.\n",
        "```\n",
        "optimizer.step()\n",
        "```\n",
        "\n",
        "Lost? Let's learn with examples."
      ]
    },
    {
      "cell_type": "markdown",
      "metadata": {
        "id": "8CsOTpZRg-cZ"
      },
      "source": [
        "#### Defining the Models\n",
        "A model can be defined in PyTorch by subclassing the ```torch.nn.Module``` class. The model is defined in two steps. We first specify the parameters of the model, and then outline how they are applied to the inputs."
      ]
    },
    {
      "cell_type": "code",
      "metadata": {
        "id": "CRgKh6aNg944"
      },
      "source": [
        "import torch.nn as nn # this library defined all you need for layers in a neural network\n",
        "\n",
        "# Make sure to inherit from nn.Module: this module provides all dirty functions which are none of your business if you are not interested\n",
        "class TwoLayerNet(nn.Module):\n",
        "    # yeah, you need to initialize the model, right?\n",
        "    def __init__(self, d_in, H, d_out):\n",
        "        \"\"\"\n",
        "        d_in: input dimension\n",
        "        H: dimension of hidden layer\n",
        "        d_out: output dimension\n",
        "        \"\"\"\n",
        "        super().__init__()\n",
        "        # nn.Sequential is a wrapper class for combining a list of layers sequentially.\n",
        "        # When called, it feeds the input to the first layer, then feeds the output of the first layer to the next one, repeatedly through all layers.\n",
        "        self.model = nn.Sequential(\n",
        "            # Unfamiliar with layers? Check https://pytorch.org/docs/stable/nn.html\n",
        "            nn.Linear(d_in, H),\n",
        "            nn.ReLU(),\n",
        "            nn.Linear(H, d_out),\n",
        "        )\n",
        "\n",
        "    # __init__ and forward are the only two methods required by Pytorch (the former by Python actually). Neat?\n",
        "    def forward(self, x):\n",
        "        \"\"\"\n",
        "        In the forward function we accept input data and we must \n",
        "        return the model's output. We can use Modules defined in the \n",
        "        constructor as well as arbitrary operators on the inputs.\n",
        "        \"\"\"\n",
        "        y_pred = self.model(x) \n",
        "        # A model (subclass of nn.Module) is callable because we have __call__ method defined in nn.Module which calls self.forward.\n",
        "        # This is why we can customize self.forward only here.\n",
        "        return y_pred"
      ],
      "execution_count": null,
      "outputs": []
    },
    {
      "cell_type": "markdown",
      "source": [
        "#### Defining the Dataset\n",
        "\n",
        "A dataset is defined by inheriting from ```torch.utils.data.Dataset```. Note: if you think the importing path is too long, you may want to make sure your colleages understand your work since your code might not be modularized 🚑.\n",
        "\n"
      ],
      "metadata": {
        "id": "XfniV8Qk0wUF"
      }
    },
    {
      "cell_type": "code",
      "source": [
        "from torch.utils.data import Dataset # this is the class for datasets\n",
        "from torchvision import datasets # this module provides some common datasets\n",
        "# torchvision.transform provides many useful transformation on images. \n",
        "# Here we use ToTensor which converts an array-like input to tensor.\n",
        "# Check https://pytorch.org/vision/stable/transforms.html for all predefined transformations.\n",
        "from torchvision.transforms import ToTensor\n",
        "\n",
        "train_data = datasets.FashionMNIST(\n",
        "    root=\"data\", # where you want to put the downloaded dataset\n",
        "    train=True, # indicates whether you want the train set\n",
        "    download=True, # download the dataset if it is not yet in your root; otherwise skip\n",
        "    transform=ToTensor() # defines the transformation of the input image; the last step is almost always ToTensor\n",
        ")\n",
        "# You can use Compose to apply a list of transformation sequentially:\n",
        "#  https://pytorch.org/vision/stable/generated/torchvision.transforms.Compose.html#torchvision.transforms.Compose\n",
        "\n",
        "test_data = datasets.FashionMNIST(\n",
        "    root=\"data\",\n",
        "    train=False,\n",
        "    download=True,\n",
        "    transform=ToTensor()\n",
        ")\n"
      ],
      "metadata": {
        "id": "A4uTJKg86Spy"
      },
      "execution_count": null,
      "outputs": []
    },
    {
      "cell_type": "markdown",
      "source": [
        " With a typical image dataset (not tensor dataset!), the dataset is actually not loaded into the memory.\n",
        " Loading the the data (and only the wanted data) is the job of DataLoader. In addition, it is often useful to only differentiate w.r.t. a batch of data, i.e., applying stochastic gradient methods. Therefore, we need to efficiently draw batches from our dataset. These are the functionalities of DataLoader.\n",
        "\n",
        "To do this, we can use ```torch.utils.data.DataLoader```. It provides fast and multi-processing utilities for drawing the batches and loading the batches into the memory."
      ],
      "metadata": {
        "id": "DdmuUAt9-Zka"
      }
    },
    {
      "cell_type": "code",
      "source": [
        "from torch.utils.data import DataLoader\n",
        "# batch_size is recommended to be set as the power of 2, e.g., 64, 128, 256, etc.\n",
        "# This is because GPU works better with these numbers\n",
        "train_dataloader = DataLoader(train_data, batch_size=256, shuffle=True, num_workers=0)\n",
        "# num_workers specifies the number of processes that are used to load data.\n",
        "# Unless your system resource is limited, setting it to a larger number could improve your data loading efficiency.\n",
        "# Depending on your Pytorch version and system, this is also a very error-proning functionality.\n",
        "# Setting num_workers=0 is always a safe option.\n",
        "test_dataloader = DataLoader(test_data, batch_size=256, shuffle=False, num_workers=0)"
      ],
      "metadata": {
        "id": "MTRZ7chB-Yq0"
      },
      "execution_count": null,
      "outputs": []
    },
    {
      "cell_type": "markdown",
      "source": [
        "#### Iterating over Batches"
      ],
      "metadata": {
        "id": "PJExVtZ65dEq"
      }
    },
    {
      "cell_type": "code",
      "source": [
        "print(\"Number of batches:\", len(train_dataloader)) # there are 235 batches in the train data;\n",
        "print(\"Input shape:\", next(iter(train_dataloader))[0].shape) # each batch is of shape (256, 1, 28, 28)\n",
        "\n",
        "\n",
        "model = TwoLayerNet(1*28*28, 32, 10)\n",
        "model = model.to(device) # move the model to the device\n",
        "\n",
        "from tqdm.auto import tqdm # show the status bar\n",
        "\n",
        "def test_model(test_dataloader, model):\n",
        "    num_correct, num_total = 0, 0\n",
        "    ## Iterate over the full data once\n",
        "    with torch.no_grad():\n",
        "        for x, y in tqdm(test_dataloader):\n",
        "            # reshape x to be one dimensional because our net accepts a one-dim input\n",
        "            # you may do this by adding the flatten layer in the model instead\n",
        "            x = x.view(x.shape[0], -1) \n",
        "            x, y = x.to(device), y.to(device)\n",
        "            output = model(x) # the output of the model\n",
        "            pred = output.argmax(dim=1) # get the label with the highest predicted score as our prediction\n",
        "            num_total += len(x)\n",
        "            num_correct += torch.sum(pred == y).item() # we can get the value of a single-element tensor by calling item()\n",
        "    print(\"Test Accuracy:\", num_correct / num_total) \n",
        "\n",
        "\n",
        "# the random model should get roughly the random-guess accuracy: 10%\n",
        "test_model(test_dataloader, model)"
      ],
      "metadata": {
        "colab": {
          "base_uri": "https://localhost:8080/",
          "height": 103,
          "referenced_widgets": [
            "9432ef19c7794ffcbbd4b8f4fd63bcc2",
            "e63e77c9613b4c76b35794d0be129fd5",
            "714345e5026749018e9b6dda4103940b",
            "1f32bdb29074428dba99e27abb4f0c96",
            "dd77bb4ea6bb4ab28ce4229b247324ed",
            "e179e8b1ecb64be997e58e71fd9a3ca0",
            "27f41985ea6947888f7fba1517fabf8b",
            "ba015a80564440468331816f25da887b",
            "de3e61c2414846c68b20314c7fb706f6",
            "967e3f4de2d44c8ea0132be3d702cf11",
            "60ff71dc4b8649e5a7395bbddd9d6ab9"
          ]
        },
        "id": "9ALH3LcA5ebH",
        "outputId": "e3568e5b-2f69-4e3d-d6fb-deda380b3771"
      },
      "execution_count": null,
      "outputs": [
        {
          "output_type": "stream",
          "name": "stdout",
          "text": [
            "Number of batches: 235\n",
            "Input shape: torch.Size([256, 1, 28, 28])\n"
          ]
        },
        {
          "output_type": "display_data",
          "data": {
            "text/plain": [
              "  0%|          | 0/40 [00:00<?, ?it/s]"
            ],
            "application/vnd.jupyter.widget-view+json": {
              "version_major": 2,
              "version_minor": 0,
              "model_id": "9432ef19c7794ffcbbd4b8f4fd63bcc2"
            }
          },
          "metadata": {}
        },
        {
          "output_type": "stream",
          "name": "stdout",
          "text": [
            "Test Accuracy: 0.1071\n"
          ]
        }
      ]
    },
    {
      "cell_type": "markdown",
      "source": [
        "#### Training the Model\n",
        "\n",
        "We train a model by minimizing some loss functions. There are many loss functions predefined in Pytorch. Check https://neptune.ai/blog/pytorch-loss-functions for more details.\n",
        "\n",
        "The most frequently used loss function for classification is the cross entropy loss. You can find its mathematical properties in the above link.\n",
        "\n",
        "Now we show how to train the model with cross entropy loss and stochastic gradient descent."
      ],
      "metadata": {
        "id": "6KPes_gZ9OW2"
      }
    },
    {
      "cell_type": "code",
      "source": [
        "optimizer = torch.optim.SGD(model.parameters(), lr=1e-2) # self.parameters() is a helper function defined for nn.Module class\n",
        "loss_fn = torch.nn.CrossEntropyLoss()\n",
        "\n",
        "def train_one_epoch(train_dataloader, model, optimizer, loss_fn):\n",
        "    with torch.enable_grad(): # this can be omitted\n",
        "        for x, y in tqdm(train_dataloader):\n",
        "            x = x.view(x.shape[0], -1) \n",
        "            x, y = x.to(device), y.to(device)\n",
        "            output = model(x)\n",
        "\n",
        "            # compute loss, gradient, then update\n",
        "            loss = loss_fn(output, y)\n",
        "            optimizer.zero_grad() # clean the current grad stored on the variables\n",
        "            loss.backward()\n",
        "            optimizer.step() # update the model according to the grad\n",
        "            \n",
        "    return model\n",
        "\n",
        "model = train_one_epoch(train_dataloader, model, optimizer, loss_fn)\n",
        "test_model(test_dataloader, model) # after one iteration over the data, the accuracy improves largely"
      ],
      "metadata": {
        "colab": {
          "base_uri": "https://localhost:8080/",
          "height": 99,
          "referenced_widgets": [
            "884eb0e02d4249ffa2a550a6c26d8dd2",
            "62c0182861e343378d6c7c6062597212",
            "7288eaec5ee44020abc47a3daba788a6",
            "12458859967e418a9240f1d8bdf90ef3",
            "79777cca2f464d9eb1058ec975ed42e7",
            "12b14de38af74c28ba476b7b8ad6c5b4",
            "15ba0137f31942d3add2d8c5e0da34f3",
            "f0ad7ee9a1bd4fa581c50e2a980a4804",
            "a477cebeafb246539179d9e425e77121",
            "90156e4c699343569dc330987fdcf561",
            "3980de64d4be47d599aebb2b31b7218a",
            "11fb2a6caf2c415fb706f082326ce197",
            "3c4dec56d11242c686b6453686b08410",
            "cbad5bf104d6418eb6d569d1bb516694",
            "996ae2b76db549cfa8ee1521e0d3a3a8",
            "51c628bebfe34b34b6bb2013d10591e1",
            "c629d076d4ba48be902d3659be52bfab",
            "123ef4b653ea4e79a63d5b3c6da07f1e",
            "048e2ef7153b481eb966c0b06d016e64",
            "dbdadaab0f3744a49098980b9af4d226",
            "3a260b207a52499ea43bb905f55a17c8",
            "47576c58b1f147dfaf31e845361ee0c0"
          ]
        },
        "id": "RRpe_BuT_KtW",
        "outputId": "73a11d3c-d77a-4236-b9cb-fc897ecec1de"
      },
      "execution_count": null,
      "outputs": [
        {
          "output_type": "display_data",
          "data": {
            "text/plain": [
              "  0%|          | 0/235 [00:00<?, ?it/s]"
            ],
            "application/vnd.jupyter.widget-view+json": {
              "version_major": 2,
              "version_minor": 0,
              "model_id": "884eb0e02d4249ffa2a550a6c26d8dd2"
            }
          },
          "metadata": {}
        },
        {
          "output_type": "display_data",
          "data": {
            "text/plain": [
              "  0%|          | 0/40 [00:00<?, ?it/s]"
            ],
            "application/vnd.jupyter.widget-view+json": {
              "version_major": 2,
              "version_minor": 0,
              "model_id": "11fb2a6caf2c415fb706f082326ce197"
            }
          },
          "metadata": {}
        },
        {
          "output_type": "stream",
          "name": "stdout",
          "text": [
            "Test Accuracy: 0.6339\n"
          ]
        }
      ]
    },
    {
      "cell_type": "code",
      "source": [
        "# Now let's do more iteration.\n",
        "# The performance increases along the way.\n",
        "# If you train for enough iterations, the model will finially converge\n",
        "num_epoch = 5\n",
        "for epoch_idx in range(num_epoch):\n",
        "    print(f\"Epoch {epoch_idx}\")\n",
        "    model = train_one_epoch(train_dataloader, model, optimizer, loss_fn)\n",
        "    test_model(test_dataloader, model)"
      ],
      "metadata": {
        "colab": {
          "base_uri": "https://localhost:8080/",
          "height": 516,
          "referenced_widgets": [
            "96782515e66c4948b355743e9f26fabc",
            "6c6690d6f83246d7abdb83988610427c",
            "2683b94c0d384d27a38ae1649b58f740",
            "479d812b5b6241a7b95e85706469abb4",
            "a494a4ac2e0e4980a3b63b27fb65946d",
            "4cc17ec554874e9f97af6636aa8a7c4c",
            "b7e71bd6e4de46da85b23b8e5a927064",
            "fdc27d7b60e242cf8426d19c01174cfa",
            "466ad0c12121491bae146523fdcf6e09",
            "886040a9f3a443ad80f7e8f71cb14ac5",
            "0fca282b11e847c18b3b4ae5041eec78",
            "d144ace1f4844519b6f5c460e684031d",
            "6ac9a2aad7c545ac91dbfbbc14d9e04d",
            "b38208c9bbcf4855b951a028b8a30087",
            "a26f981468a04c629c6b2adb1ea6ceeb",
            "c5bc18b168de4ac18dfe5cddd31e4090",
            "849fd91c38a4476983f0275d2e7fae68",
            "4269b4bdec584cd985b570f10fd37aa5",
            "9f4ce51c4a814fdaa8fde125ec8b0b7b",
            "260c1381bb254941a015067ec3997f76",
            "474800505b99414fbce68dc27a607f49",
            "4abf0a7380334067938dc7b3852542b2",
            "95cf194a362a412a9668f96896d232d7",
            "6b54244301e845708d5697c7ddb3b6e7",
            "6815aac72d864feea46e461b8f7aa237",
            "4752d7be316847f8a415d6fa4c4e6b32",
            "5115721ad07e4198a1dc7fa742eb643a",
            "21fd4fb73e9b40eba16235250d5bb88e",
            "529b3bb8722c41d8b4c56a1bdcd5b4cf",
            "813b65fd266441329b4675cf9685e3cb",
            "174392d80d644050b8ed0926bdb606b4",
            "c6861b894de9472f9567d5aa89df7261",
            "6c7a5db0c1b64dcda0bd3f5aca9ccac6",
            "0cdcc0a7a2024765b27859b3ca428e52",
            "d293d31a017d4b3a98554d5038e6ca4e",
            "d72124af741a4a9888b7edfca4bedb46",
            "f62fe7d80c394a2b83f9444cad6a90fe",
            "c7c77c3fbceb49c999ae1db87a7d4c03",
            "bdfedd15c0f6483c86894249781d0333",
            "90fc45a28b654c36a0f1dc225210ee6c",
            "33bb1c8854a74eecaa12ddc4c483b49b",
            "64481cba23df42c5944c2db7d94622c3",
            "84846f965f9a4d2d98af99fb2aa75027",
            "5685106f6409405ea16a5f6d06fa7726",
            "7b3699eb71fc43ff94bade7890ba0bda",
            "3bc247c46c1f47ecbbe20956faf2e974",
            "e054114cf5ed416bb095cf206b68526e",
            "73f5f34b1168469daf1c7c5569110622",
            "f45902c0c4914d198a7e0e3bbcc11ff5",
            "5206d32b87cf4f23bd0f4e037834f8cc",
            "46ae51f68ce145efbb3c585069bdccbd",
            "60025833f0934d99b4ede050839016c8",
            "0d354fce865d4eb6b7807fde2481b616",
            "544e8e8d96c4476bbc9006a6c6255db7",
            "848a5ef3eb78450d9a32c91c47842244",
            "3cecdb19cbca4e3db45cb2d434cbfc9f",
            "eb8be544969b47bbb9d97701040ed62b",
            "567907220ece40f8974e21f1f18f0725",
            "c4db8089618e4d58957c95e9eccf8333",
            "2a2a6f45aeb2497e9817cefadad31419",
            "a1e7564764894978a84bc38a840b33c8",
            "b1470dac00194e46a7a8086224289e05",
            "eded25c6c7e244189390bb25410ffff3",
            "8128c999037c46b3a293d00e284db160",
            "ca063319b33a431ea83791cc22d35084",
            "19bd04cc0040448a8b4c8ccb7d9f7ffa",
            "157b52f59d97456cbb24c3e4e1dfe239",
            "c85129bb58ea4fc6979679030b40fe9b",
            "43f3df1737fd4abba15480e8d7cbb0bc",
            "2c5c9127ea6c4e02a4d9db6c178842d7",
            "7c047da3b741430d8ca4d663d39a0994",
            "056345c45a0848b3b36cd5aa117d9307",
            "44468c6f7fb44715b8685353002af684",
            "095b42cedfbb4de696f3e8704c11decb",
            "0ad15d5986cb409bb0ca43b2b01b2b08",
            "e85749568c474e8bbed5c790275e12d7",
            "9352cea7422e4f80bae5224e8188e2d8",
            "0bfd074c072147b880f8f6d64513e0d8",
            "56a92d8399934e5abdc9bb26d64495ce",
            "8833c98e9da94f5e870a6a5f8cf56fc6",
            "5b813a209eeb4cdd83a46fbc3e6fa314",
            "9e2a7bff3658435e98fd4a37e0f495c2",
            "2619665dfb9c404a91aa6725d33d993f",
            "fb20bf63325343f8a98249204ccf7034",
            "51326d00a2dd4304a332029101fd7d58",
            "98786de348854933bff751852f4187f6",
            "49b5606ad6a343da9313aa25879d7224",
            "a1e2ceef31e841ecb889d8b7e2fac893",
            "3730bade3d814eb8b5355fdf42c74157",
            "c35b3f06fb1c4a68bd4e10f6ca5abde3",
            "0aa8efea568a4b6a857c9bced725c4ea",
            "bb60c96d6cba4ecdba2e7487dc4807ad",
            "861cadf4c61844aea2da5719c5e5bd2c",
            "20d81db681544b7cb8d0b81355ce60a7",
            "122ed8e197a544569c32fbb6649afced",
            "cb2b1cf230e14053ad94eb217c82b801",
            "694e627439d644f5a2c7b3dc56e422d3",
            "878d19f61bff4c23a616374a0708dbf5",
            "762b5e67d5e042a58cee816f34d11431",
            "a6e28909059b459b89bc1d8a72ac9d6d",
            "c03159d9b15c43e9b2c0af2a205c6f7b",
            "262aa31e480e45a6bfe3626d7682ff84",
            "8cfd105a2d494e518ff9e7b8473670d4",
            "0336e874a3944ef6b47d0234c712b040",
            "d8dbee2d0a8b4af4a494cb3dc758cdb3",
            "4e5bab9afa2f42e09815069bf511a820",
            "7a52b06e1f7543c98789daf7e6513a5d",
            "19aaecfbd5484569820737ccd580a209",
            "22f950ee238c4c43b5af4baafe1a9da8",
            "124fb815c3d64120aaa2744b05d4fa00"
          ]
        },
        "id": "q84qOHexB3Sw",
        "outputId": "7d16a215-7e7a-4b4e-a6a1-a50165634ff7"
      },
      "execution_count": null,
      "outputs": [
        {
          "output_type": "stream",
          "name": "stdout",
          "text": [
            "Epoch 0\n"
          ]
        },
        {
          "output_type": "display_data",
          "data": {
            "text/plain": [
              "  0%|          | 0/235 [00:00<?, ?it/s]"
            ],
            "application/vnd.jupyter.widget-view+json": {
              "version_major": 2,
              "version_minor": 0,
              "model_id": "96782515e66c4948b355743e9f26fabc"
            }
          },
          "metadata": {}
        },
        {
          "output_type": "display_data",
          "data": {
            "text/plain": [
              "  0%|          | 0/40 [00:00<?, ?it/s]"
            ],
            "application/vnd.jupyter.widget-view+json": {
              "version_major": 2,
              "version_minor": 0,
              "model_id": "d144ace1f4844519b6f5c460e684031d"
            }
          },
          "metadata": {}
        },
        {
          "output_type": "stream",
          "name": "stdout",
          "text": [
            "Test Accuracy: 0.6619\n",
            "Epoch 1\n"
          ]
        },
        {
          "output_type": "display_data",
          "data": {
            "text/plain": [
              "  0%|          | 0/235 [00:00<?, ?it/s]"
            ],
            "application/vnd.jupyter.widget-view+json": {
              "version_major": 2,
              "version_minor": 0,
              "model_id": "95cf194a362a412a9668f96896d232d7"
            }
          },
          "metadata": {}
        },
        {
          "output_type": "display_data",
          "data": {
            "text/plain": [
              "  0%|          | 0/40 [00:00<?, ?it/s]"
            ],
            "application/vnd.jupyter.widget-view+json": {
              "version_major": 2,
              "version_minor": 0,
              "model_id": "0cdcc0a7a2024765b27859b3ca428e52"
            }
          },
          "metadata": {}
        },
        {
          "output_type": "stream",
          "name": "stdout",
          "text": [
            "Test Accuracy: 0.6896\n",
            "Epoch 2\n"
          ]
        },
        {
          "output_type": "display_data",
          "data": {
            "text/plain": [
              "  0%|          | 0/235 [00:00<?, ?it/s]"
            ],
            "application/vnd.jupyter.widget-view+json": {
              "version_major": 2,
              "version_minor": 0,
              "model_id": "7b3699eb71fc43ff94bade7890ba0bda"
            }
          },
          "metadata": {}
        },
        {
          "output_type": "display_data",
          "data": {
            "text/plain": [
              "  0%|          | 0/40 [00:00<?, ?it/s]"
            ],
            "application/vnd.jupyter.widget-view+json": {
              "version_major": 2,
              "version_minor": 0,
              "model_id": "3cecdb19cbca4e3db45cb2d434cbfc9f"
            }
          },
          "metadata": {}
        },
        {
          "output_type": "stream",
          "name": "stdout",
          "text": [
            "Test Accuracy: 0.7226\n",
            "Epoch 3\n"
          ]
        },
        {
          "output_type": "display_data",
          "data": {
            "text/plain": [
              "  0%|          | 0/235 [00:00<?, ?it/s]"
            ],
            "application/vnd.jupyter.widget-view+json": {
              "version_major": 2,
              "version_minor": 0,
              "model_id": "157b52f59d97456cbb24c3e4e1dfe239"
            }
          },
          "metadata": {}
        },
        {
          "output_type": "display_data",
          "data": {
            "text/plain": [
              "  0%|          | 0/40 [00:00<?, ?it/s]"
            ],
            "application/vnd.jupyter.widget-view+json": {
              "version_major": 2,
              "version_minor": 0,
              "model_id": "0bfd074c072147b880f8f6d64513e0d8"
            }
          },
          "metadata": {}
        },
        {
          "output_type": "stream",
          "name": "stdout",
          "text": [
            "Test Accuracy: 0.742\n",
            "Epoch 4\n"
          ]
        },
        {
          "output_type": "display_data",
          "data": {
            "text/plain": [
              "  0%|          | 0/235 [00:00<?, ?it/s]"
            ],
            "application/vnd.jupyter.widget-view+json": {
              "version_major": 2,
              "version_minor": 0,
              "model_id": "3730bade3d814eb8b5355fdf42c74157"
            }
          },
          "metadata": {}
        },
        {
          "output_type": "display_data",
          "data": {
            "text/plain": [
              "  0%|          | 0/40 [00:00<?, ?it/s]"
            ],
            "application/vnd.jupyter.widget-view+json": {
              "version_major": 2,
              "version_minor": 0,
              "model_id": "a6e28909059b459b89bc1d8a72ac9d6d"
            }
          },
          "metadata": {}
        },
        {
          "output_type": "stream",
          "name": "stdout",
          "text": [
            "Test Accuracy: 0.7529\n"
          ]
        }
      ]
    },
    {
      "cell_type": "markdown",
      "source": [
        "Big congratulations! Now you are really getting the basic usage of Pytorch. This is already sufficient for CIL. You may choose more advanced optimizer such as Adam, more advanced training techniques such as learning rate scheduling, and more advanced model such as CNN and ResNet if you want to improve your model. Pytorch is merely a framework to help you efficiently train your model."
      ],
      "metadata": {
        "id": "X3TFIKzqFzvn"
      }
    },
    {
      "cell_type": "markdown",
      "metadata": {
        "id": "CM0L_0lqqFmx"
      },
      "source": [
        "# Exercise 1 - 2D Points Classification\n",
        "Train the TwoLayerNet from before to classify 2-dimensional points into two classes. "
      ]
    },
    {
      "cell_type": "markdown",
      "metadata": {
        "id": "9vktbUUFFg3Q"
      },
      "source": [
        "## Imports\n",
        "First, we import the packages that we'll need."
      ]
    },
    {
      "cell_type": "code",
      "metadata": {
        "id": "ny1jHrGqI6QD"
      },
      "source": [
        "import numpy as np\n",
        "import matplotlib.pyplot as plt\n",
        "from tqdm import tqdm\n",
        "from time import sleep\n",
        "import math\n",
        "from keras.datasets import fashion_mnist\n",
        "from sklearn.model_selection import train_test_split\n",
        "\n",
        "import torch\n",
        "import torch.nn.functional as F\n",
        "from torch import nn\n",
        "import torch.optim as optim\n",
        "from torch.utils.data import DataLoader, TensorDataset"
      ],
      "execution_count": null,
      "outputs": []
    },
    {
      "cell_type": "markdown",
      "metadata": {
        "id": "GR1508C3qfsu"
      },
      "source": [
        "## Create the Dataset\n",
        "We create a synthethic dataset of points in 2 dimensions that belong to either of 2 classes."
      ]
    },
    {
      "cell_type": "code",
      "metadata": {
        "colab": {
          "base_uri": "https://localhost:8080/",
          "height": 265
        },
        "id": "wvup1TV0Cj98",
        "outputId": "5d658ba4-ebe3-4851-eb44-b146219f0a38"
      },
      "source": [
        "N = 2000\n",
        "batch_size = 64\n",
        "\n",
        "def random_point_circle(radius, eps=0.1):\n",
        "    # random angle\n",
        "    alpha = 2 * math.pi * np.random.random()\n",
        "    r = radius + eps * np.random.normal()\n",
        "    return (r * math.cos(alpha), r * math.sin(alpha))\n",
        "\n",
        "class_0_points = np.array([random_point_circle(0.9, 0.05) for _ in range(N)])\n",
        "class_1_points = np.array([random_point_circle(0.6, 0.05) for _ in range(N)])\n",
        "\n",
        "X = np.concatenate([class_0_points, class_1_points])\n",
        "y = [0] * N + [1] * N\n",
        "X_train, X_test, y_train, y_test = train_test_split(X, y, test_size=0.1)\n",
        "\n",
        "plt.figure()\n",
        "plt.scatter(class_0_points[:, 0], class_0_points[:, 1], label='Class 0')\n",
        "plt.scatter(class_1_points[:, 0], class_1_points[:, 1], label='Class 1')\n",
        "plt.legend()\n",
        "plt.show()\n",
        "\n",
        "train_loader = DataLoader(\n",
        "    TensorDataset(torch.Tensor(X_train), torch.Tensor(y_train)),\n",
        "    batch_size=batch_size)\n",
        "test_loader = DataLoader(\n",
        "    TensorDataset(torch.Tensor(X_test), torch.Tensor(y_test)),\n",
        "    batch_size=batch_size)\n",
        "    "
      ],
      "execution_count": null,
      "outputs": [
        {
          "output_type": "display_data",
          "data": {
            "text/plain": [
              "<Figure size 432x288 with 1 Axes>"
            ],
            "image/png": "[encoded data removed]"
          },
          "metadata": {
            "needs_background": "light"
          }
        }
      ]
    },
    {
      "cell_type": "markdown",
      "metadata": {
        "id": "mj-GyP4xqkjr"
      },
      "source": [
        "## Train the Model - TODO\n",
        "Please implement the 'train' function to train the TwoLayerModel to classify the 2-dimensional synthetic data points into Class 0 and Class 1. "
      ]
    },
    {
      "cell_type": "code",
      "metadata": {
        "id": "5RiC1xnsIT24",
        "colab": {
          "base_uri": "https://localhost:8080/",
          "height": 358
        },
        "outputId": "606aaeda-6ce3-4fb9-c2c9-54958e941990"
      },
      "source": [
        "# Parameters\n",
        "batch_size = 128\n",
        "num_epochs = 5\n",
        "learning_rate = .5\n",
        "\n",
        "model = TwoLayerNet(2, 16, 1)\n",
        "\n",
        "# Loss function & optimizer\n",
        "loss_fn = nn.BCEWithLogitsLoss()\n",
        "optimizer = optim.SGD(model.parameters(),\n",
        "                       lr=learning_rate)\n",
        "\n",
        "def train(model, train_loader, test_loader, num_epochs=num_epochs):\n",
        "    \"\"\"Train the model.\"\"\"\n",
        "    for epoch in range(num_epochs):\n",
        "        iteration_loss = 0.\n",
        "        for batch in tqdm(train_loader, leave=False):\n",
        "            # Load the next batch of images and transfer them to GPU.\n",
        "            X, label = batch\n",
        "            \n",
        "            # Reset the optimizer.\n",
        "            # TODO: --- \n",
        "\n",
        "            # Do the forward pass of the autoencoder.\n",
        "            # TODO: ---\n",
        "\n",
        "            # Compute the loss and do the backward pass.\n",
        "            # TODO: ---\n",
        "\n",
        "            iteration_loss += loss.item()\n",
        "        \n",
        "        print(f'Epoch {epoch+1}/{num_epochs}, ' \\\n",
        "              f'Train Loss: {iteration_loss / len(train_loader):.3f}, ' \\\n",
        "              f'Test Accuracy: {compute_test_accuracy(model, test_loader)*100:.2f}%')\n",
        "\n",
        "def compute_test_accuracy(model, test_loader):\n",
        "    accuracy = []\n",
        "    for batch in tqdm(test_loader, leave=False):\n",
        "        X, label = batch\n",
        "        outputs = model(X)\n",
        "        acc = [1. if (out >= 0 and target == 1) or (out < 0 and target == 0) else 0.\n",
        "        for out, target in zip(outputs.squeeze(), label)]\n",
        "        accuracy.extend(acc)\n",
        "    return np.mean(accuracy)\n",
        "\n",
        "def plot_decision_boundary(model):\n",
        "    # Plotting decision regions.\n",
        "    x_min, x_max = - 1.5, 1.5\n",
        "    y_min, y_max = - 1.5, 1.5\n",
        "    xx, yy = np.meshgrid(np.arange(x_min, x_max, 0.1),\n",
        "                        np.arange(y_min, y_max, 0.1))\n",
        "    X = np.concatenate((np.ones((xx.shape[0]*xx.shape[1],1))\n",
        "                    ,  np.c_[xx.ravel(), yy.ravel()]), axis = 1)\n",
        "    outputs = model(torch.Tensor(np.c_[xx.ravel(), yy.ravel()])).squeeze()\n",
        "    outputs = torch.sigmoid(outputs.data)\n",
        "    plt.contourf(xx, yy, outputs.data.reshape(xx.shape))\n",
        "    plt.colorbar()\n",
        "    plt.show()\n",
        "\n",
        "\n",
        "train(model, train_loader, test_loader)\n",
        "plot_decision_boundary(model)"
      ],
      "execution_count": null,
      "outputs": [
        {
          "output_type": "stream",
          "name": "stderr",
          "text": []
        },
        {
          "output_type": "stream",
          "name": "stdout",
          "text": [
            "Epoch 1/5, Train Loss: 0.673, Test Accuracy: 75.00%\n"
          ]
        },
        {
          "output_type": "stream",
          "name": "stderr",
          "text": []
        },
        {
          "output_type": "stream",
          "name": "stdout",
          "text": [
            "Epoch 2/5, Train Loss: 0.618, Test Accuracy: 88.00%\n"
          ]
        },
        {
          "output_type": "stream",
          "name": "stderr",
          "text": []
        },
        {
          "output_type": "stream",
          "name": "stdout",
          "text": [
            "Epoch 3/5, Train Loss: 0.515, Test Accuracy: 99.00%\n"
          ]
        },
        {
          "output_type": "stream",
          "name": "stderr",
          "text": []
        },
        {
          "output_type": "stream",
          "name": "stdout",
          "text": [
            "Epoch 4/5, Train Loss: 0.371, Test Accuracy: 98.75%\n"
          ]
        },
        {
          "output_type": "stream",
          "name": "stderr",
          "text": []
        },
        {
          "output_type": "stream",
          "name": "stdout",
          "text": [
            "Epoch 5/5, Train Loss: 0.247, Test Accuracy: 99.50%\n"
          ]
        },
        {
          "output_type": "display_data",
          "data": {
            "text/plain": [
              "<Figure size 432x288 with 2 Axes>"
            ],
            "image/png": "[encoded data removed]"
          },
          "metadata": {
            "needs_background": "light"
          }
        }
      ]
    },
    {
      "cell_type": "markdown",
      "metadata": {
        "id": "D1S4Y-LqI0me"
      },
      "source": [
        "# Exercise 2 - Autoencoder for FashionMNIST\n",
        "\n",
        "In this exercise, we will implement a simple autoencoder for the Fashion-MNIST dataset as depicted in the image below. \n",
        "\n",
        "\n",
        "![FashionMNIST_autoencoder.png](data:image/png;base64,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)"
      ]
    },
    {
      "cell_type": "markdown",
      "metadata": {
        "id": "uq-Yp6WmrPn8"
      },
      "source": [
        "## Imports\n",
        "First, we import the packages that we'll need."
      ]
    },
    {
      "cell_type": "code",
      "metadata": {
        "id": "M5mZSijQrPn_"
      },
      "source": [
        "import numpy as np\n",
        "import matplotlib.pyplot as plt\n",
        "from tqdm import tqdm\n",
        "from time import sleep\n",
        "import math\n",
        "from keras.datasets import fashion_mnist\n",
        "from sklearn.model_selection import train_test_split\n",
        "\n",
        "import torch\n",
        "import torch.nn.functional as F\n",
        "from torch import nn\n",
        "import torch.optim as optim\n",
        "from torch.utils.data import DataLoader, TensorDataset"
      ],
      "execution_count": null,
      "outputs": []
    },
    {
      "cell_type": "markdown",
      "metadata": {
        "id": "pWddXFMeF_uS"
      },
      "source": [
        "## Data\n",
        "Next, we download and inspect the Fashion MNIST data is provided through keras.datasets."
      ]
    },
    {
      "cell_type": "code",
      "metadata": {
        "id": "8OSFmH_PF6JG",
        "colab": {
          "base_uri": "https://localhost:8080/",
          "height": 732
        },
        "outputId": "a00059c5-1213-4142-82be-302d67a0cd5c"
      },
      "source": [
        "# Load the FashionMNIST data.\n",
        "(trainX, trainy), (testX, testy) = fashion_mnist.load_data()\n",
        "\n",
        "def scale(data):\n",
        "    \"\"\"Cale the grayscale value to be in [0, 1] instead of [0, 256].\"\"\"\n",
        "    return data / 255.\n",
        "\n",
        "trainX = scale(trainX)\n",
        "testX = scale(testX)\n",
        "\n",
        "fmnist_class_names = ['T-shirt/top', 'Trouser', 'Pullover', 'Dress', 'Coat',\n",
        "            'Sandal', 'Shirt', 'Sneaker', 'Bag', 'Ankle boot']\n",
        "\n",
        "def visualize_sample(images, labels):\n",
        "    \n",
        "    plt.figure(figsize=(10,10))\n",
        "    for c, idx in enumerate(np.random.choice(len(images), size=16)):\n",
        "        plt.subplot(4, 4, c+1)\n",
        "        plt.xticks([])\n",
        "        plt.yticks([])\n",
        "        plt.grid(False)\n",
        "        plt.imshow(images[idx], cmap=plt.cm.binary)\n",
        "        plt.xlabel(fmnist_class_names[labels[idx]])\n",
        "    plt.show()\n",
        "\n",
        "visualize_sample(trainX, trainy)"
      ],
      "execution_count": null,
      "outputs": [
        {
          "output_type": "stream",
          "name": "stdout",
          "text": [
            "Downloading data from https://storage.googleapis.com/tensorflow/tf-keras-datasets/train-labels-idx1-ubyte.gz\n",
            "29515/29515 [==============================] - 0s 0us/step\n",
            "Downloading data from https://storage.googleapis.com/tensorflow/tf-keras-datasets/train-images-idx3-ubyte.gz\n",
            "26421880/26421880 [==============================] - 0s 0us/step\n",
            "Downloading data from https://storage.googleapis.com/tensorflow/tf-keras-datasets/t10k-labels-idx1-ubyte.gz\n",
            "5148/5148 [==============================] - 0s 0us/step\n",
            "Downloading data from https://storage.googleapis.com/tensorflow/tf-keras-datasets/t10k-images-idx3-ubyte.gz\n",
            "4422102/4422102 [==============================] - 0s 0us/step\n"
          ]
        },
        {
          "output_type": "display_data",
          "data": {
            "text/plain": [
              "<Figure size 720x720 with 16 Axes>"
            ],
            "image/png": "[encoded data removed]"
          },
          "metadata": {}
        }
      ]
    },
    {
      "cell_type": "markdown",
      "metadata": {
        "id": "kpiDhTJUJzGU"
      },
      "source": [
        "## Model\n",
        "Let's build the first autoencoder model. An autoencoder consists of an encoder and a decoder. The encoder maps from the initial (large) image dimension to a smaller latent representation. The decoder does the opposite steps, it takes the latent representation and reconstructs the image."
      ]
    },
    {
      "cell_type": "code",
      "metadata": {
        "id": "Sqk85ZNF-_uo"
      },
      "source": [
        "class Encoder(nn.Module):\n",
        "    \"\"\"An encoder that flattens the image first and then only\n",
        "    uses linear layers.\n",
        "\n",
        "    Parameters:\n",
        "        image_dimension (Tuple(int, int)): The image dimension of a single\n",
        "            image.\n",
        "        encoded_dimension (int): The dimension for the final encoding. Should \n",
        "            be smaller than 32.\n",
        "    \"\"\"\n",
        "    def __init__(self, image_dimension, encoded_dimension=16):\n",
        "        super().__init__()\n",
        "\n",
        "        flat_image_dimension = image_dimension[0] * image_dimension[1]\n",
        "        self.model = nn.Sequential(\n",
        "            nn.Linear(in_features=flat_image_dimension, out_features=256),\n",
        "            nn.ReLU(),\n",
        "            nn.Linear(in_features=256, out_features=128),\n",
        "            nn.ReLU(),\n",
        "            nn.Linear(in_features=128, out_features=64),\n",
        "            nn.ReLU(),\n",
        "            nn.Linear(in_features=64, out_features=32),\n",
        "            nn.ReLU(),\n",
        "            nn.Linear(in_features=32, out_features=encoded_dimension),\n",
        "            nn.ReLU(),\n",
        "        )\n",
        "    \n",
        "    def forward(self, images):\n",
        "        \"\"\"Encode the image.\"\"\"\n",
        "        batch_size = images.shape[0]\n",
        "        flat_images = images.view(batch_size, -1)\n",
        "        return self.model(flat_images)\n",
        "\n",
        "\n",
        "class Decoder(nn.Module):\n",
        "    \"\"\"A decoder that only uses linear layers. It's the counterpart to \n",
        "    the Encoder.\n",
        "\n",
        "    Parameters:\n",
        "        image_dimension (Tuple(int, int)): The image dimension of a single\n",
        "            image.\n",
        "        encoded_dimension (int): The dimension for the final encoding. Should \n",
        "            be smaller than 32.\n",
        "    \"\"\"\n",
        "    def __init__(self, image_dimension, encoded_dimension=16):\n",
        "        super().__init__()\n",
        "\n",
        "        self.image_dimension = image_dimension\n",
        "        flat_image_dimension = image_dimension[0] * image_dimension[1]\n",
        "        self.model = nn.Sequential(\n",
        "            nn.Linear(in_features=encoded_dimension, out_features=32),\n",
        "            nn.ReLU(),\n",
        "            nn.Linear(in_features=32, out_features=64),\n",
        "            nn.ReLU(),\n",
        "            nn.Linear(in_features=64, out_features=128),\n",
        "            nn.ReLU(),\n",
        "            nn.Linear(in_features=128, out_features=256),\n",
        "            nn.ReLU(),\n",
        "            nn.Linear(in_features=256, out_features=flat_image_dimension),\n",
        "            nn.Sigmoid(), # Because the image should be in [0, 1].\n",
        "        )\n",
        "    \n",
        "    def forward(self, encodings):\n",
        "        \"\"\"Decode the latent representation.\"\"\"\n",
        "        batch_size = encodings.shape[0]\n",
        "        flat_images = self.model(encodings)\n",
        "        images = flat_images.view(batch_size, *self.image_dimension)\n",
        "        return images\n",
        "\n",
        "\n",
        "class AutoEncoder(nn.Module):\n",
        "    \"\"\"Autoencoder model.\n",
        "    \n",
        "    Parameters:\n",
        "        encoder: An encoder model.\n",
        "        decoder: A decoder model.\n",
        "    \"\"\"\n",
        "    def __init__(self, encoder, decoder):\n",
        "        super().__init__()\n",
        "        self.encoder = encoder\n",
        "        self.decoder = decoder\n",
        "\n",
        "    def forward(self, images):\n",
        "        return self.decoder(self.encoder(images))"
      ],
      "execution_count": null,
      "outputs": []
    },
    {
      "cell_type": "markdown",
      "metadata": {
        "id": "yucH3_BoRckj"
      },
      "source": [
        "## Training - TODO\n",
        "Now that we have defined the first simple autoencoder model, we need to train it."
      ]
    },
    {
      "cell_type": "code",
      "metadata": {
        "id": "E5TpFc2iOnp4",
        "colab": {
          "base_uri": "https://localhost:8080/",
          "height": 440
        },
        "outputId": "6c33a1e3-d7d5-48ec-877e-65589cd9468e"
      },
      "source": [
        "# Parameters\n",
        "batch_size = 64\n",
        "num_epochs = 5\n",
        "encoded_dimension = 16\n",
        "learning_rate = 1e-3\n",
        "device = 'cuda:0' if torch.cuda.is_available() else 'cpu'\n",
        "\n",
        "# Model\n",
        "autoencoder = AutoEncoder(\n",
        "    encoder=Encoder(\n",
        "        image_dimension=trainX.shape[1:],\n",
        "        encoded_dimension=encoded_dimension,\n",
        "    ).to(device),\n",
        "    decoder=Decoder(\n",
        "        image_dimension=trainX.shape[1:],\n",
        "        encoded_dimension=encoded_dimension,\n",
        "    ).to(device)\n",
        ")\n",
        "\n",
        "# Loss function & optimizer\n",
        "loss_fn = nn.MSELoss() # Mean squared error\n",
        "optimizer = optim.Adam(autoencoder.parameters(),\n",
        "                       lr=learning_rate)\n",
        "\n",
        "\n",
        "def train(autoencoder, train_loader, num_epochs=num_epochs):\n",
        "    \"\"\"Train the autoencoder.\n",
        "\n",
        "    Parameters:\n",
        "        autoencoder (nn.Module): The autoencoder model.\n",
        "        train_loader (DataLoader): A Pytorch Dataloader containing the training\n",
        "            images.\n",
        "        num_epochs (int): The number of epochs to train.\n",
        "    \n",
        "    Returns:\n",
        "        A list of training losses. One for each epoch of training.\n",
        "    \"\"\"\n",
        "    epoch_losses = []\n",
        "    for epoch in range(num_epochs):\n",
        "        iteration_loss = 0.\n",
        "        for batch in tqdm(train_loader, leave=False):\n",
        "            # Load the next batch of images and transfer them to GPU.\n",
        "            # TODO: ---\n",
        "            \n",
        "            # Reset the optimizer.\n",
        "            # TODO: ---\n",
        "\n",
        "            # Do the forward pass of the autoencoder.\n",
        "            # TODO: ---\n",
        "\n",
        "            # Compute the loss and do the backward pass.\n",
        "            # TODO: ---\n",
        "\n",
        "\n",
        "            iteration_loss += loss.item()\n",
        "\n",
        "        epoch_losses.append(iteration_loss / len(train_loader))\n",
        "        print(f'Epoch {epoch+1}/{num_epochs}, Train Loss: {epoch_losses[-1]:.3f}')\n",
        "        sleep(1.)\n",
        "\n",
        "    return epoch_losses\n",
        "\n",
        "\n",
        "# Build Dataloaders\n",
        "train_loader = DataLoader(\n",
        "    TensorDataset(torch.Tensor(trainX), torch.Tensor(trainy)),\n",
        "    batch_size=batch_size)\n",
        "test_loader = DataLoader(\n",
        "    TensorDataset(torch.Tensor(testX), torch.Tensor(testy)),\n",
        "    batch_size=16)\n",
        "\n",
        "epoch_losses = train(autoencoder, train_loader)\n",
        "\n",
        "def plot_loss(epoch_losses, title='Train Loss'):\n",
        "    plt.figure()\n",
        "    plt.plot(epoch_losses)\n",
        "    plt.title(title)\n",
        "    plt.xlabel('Epochs')\n",
        "    plt.ylabel('MSE Loss')\n",
        "    plt.show()\n",
        "\n",
        "plot_loss(epoch_losses, 'Training Loss - Simple Model')"
      ],
      "execution_count": null,
      "outputs": [
        {
          "output_type": "stream",
          "name": "stderr",
          "text": [
            "<ipython-input-193-d5799144f5e5>:67: UserWarning: The given NumPy array is not writable, and PyTorch does not support non-writable tensors. This means writing to this tensor will result in undefined behavior. You may want to copy the array to protect its data or make it writable before converting it to a tensor. This type of warning will be suppressed for the rest of this program. (Triggered internally at ../torch/csrc/utils/tensor_numpy.cpp:199.)\n",
            "  TensorDataset(torch.Tensor(trainX), torch.Tensor(trainy)),\n"
          ]
        },
        {
          "output_type": "stream",
          "name": "stdout",
          "text": [
            "Epoch 1/5, Train Loss: 0.044\n"
          ]
        },
        {
          "output_type": "stream",
          "name": "stderr",
          "text": []
        },
        {
          "output_type": "stream",
          "name": "stdout",
          "text": [
            "Epoch 2/5, Train Loss: 0.030\n"
          ]
        },
        {
          "output_type": "stream",
          "name": "stderr",
          "text": []
        },
        {
          "output_type": "stream",
          "name": "stdout",
          "text": [
            "Epoch 3/5, Train Loss: 0.026\n"
          ]
        },
        {
          "output_type": "stream",
          "name": "stderr",
          "text": []
        },
        {
          "output_type": "stream",
          "name": "stdout",
          "text": [
            "Epoch 4/5, Train Loss: 0.024\n"
          ]
        },
        {
          "output_type": "stream",
          "name": "stderr",
          "text": []
        },
        {
          "output_type": "stream",
          "name": "stdout",
          "text": [
            "Epoch 5/5, Train Loss: 0.022\n"
          ]
        },
        {
          "output_type": "display_data",
          "data": {
            "text/plain": [
              "<Figure size 432x288 with 1 Axes>"
            ],
            "image/png": "[encoded data removed]"
          },
          "metadata": {
            "needs_background": "light"
          }
        }
      ]
    },
    {
      "cell_type": "markdown",
      "metadata": {
        "id": "XlafeW0MciHG"
      },
      "source": [
        "## Evaluate\n",
        "Let's take a look at some of the reconstructions."
      ]
    },
    {
      "cell_type": "code",
      "metadata": {
        "colab": {
          "base_uri": "https://localhost:8080/",
          "height": 589
        },
        "id": "Q3loPFTFY-Ka",
        "outputId": "f716edd8-d0d5-4140-cff5-96ac8fca75e9"
      },
      "source": [
        "def image_reconstruction(autoencoder, data_loader):\n",
        "    images, labels = next(iter(data_loader))\n",
        "    images = images.to(device)\n",
        "\n",
        "    reconstructed_images = autoencoder(images).cpu().data\n",
        "    return reconstructed_images, [int(l) for l in labels.tolist()]\n",
        "\n",
        "reconstructed_images, labels = image_reconstruction(autoencoder, test_loader)\n",
        "visualize_sample(reconstructed_images, labels)"
      ],
      "execution_count": null,
      "outputs": [
        {
          "output_type": "display_data",
          "data": {
            "text/plain": [
              "<Figure size 720x720 with 16 Axes>"
            ],
            "image/png": "[encoded data removed]"
          },
          "metadata": {}
        }
      ]
    }
  ]
}